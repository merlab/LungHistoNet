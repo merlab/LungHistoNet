{
 "cells": [
  {
   "cell_type": "code",
   "execution_count": 50,
   "metadata": {},
   "outputs": [],
   "source": [
    "import numpy as np\n",
    "import pandas as pd\n",
    "from ultralytics import YOLO\n",
    "import matplotlib.pyplot as plt\n",
    "import csv\n",
    "import os\n",
    "import cv2\n",
    "import plotly.graph_objects as go\n",
    "import plotly.express as px\n",
    "from tqdm import tqdm\n",
    "import multiprocessing\n",
    "from functools import partial"
   ]
  },
  {
   "cell_type": "markdown",
   "metadata": {},
   "source": [
    "# Inter Observer Variablility"
   ]
  },
  {
   "cell_type": "code",
   "execution_count": 51,
   "metadata": {},
   "outputs": [
    {
     "data": {
      "text/html": [
       "<div>\n",
       "<style scoped>\n",
       "    .dataframe tbody tr th:only-of-type {\n",
       "        vertical-align: middle;\n",
       "    }\n",
       "\n",
       "    .dataframe tbody tr th {\n",
       "        vertical-align: top;\n",
       "    }\n",
       "\n",
       "    .dataframe thead th {\n",
       "        text-align: right;\n",
       "    }\n",
       "</style>\n",
       "<table border=\"1\" class=\"dataframe\">\n",
       "  <thead>\n",
       "    <tr style=\"text-align: right;\">\n",
       "      <th></th>\n",
       "      <th>name</th>\n",
       "      <th>Observer – 1</th>\n",
       "      <th>Observer – 2</th>\n",
       "      <th>index</th>\n",
       "    </tr>\n",
       "  </thead>\n",
       "  <tbody>\n",
       "    <tr>\n",
       "      <th>0</th>\n",
       "      <td>tile_24555_140484.png</td>\n",
       "      <td>32</td>\n",
       "      <td>21</td>\n",
       "      <td>1</td>\n",
       "    </tr>\n",
       "    <tr>\n",
       "      <th>1</th>\n",
       "      <td>tile_24555_142520.png</td>\n",
       "      <td>41</td>\n",
       "      <td>29</td>\n",
       "      <td>2</td>\n",
       "    </tr>\n",
       "    <tr>\n",
       "      <th>2</th>\n",
       "      <td>tile_24555_144556.png</td>\n",
       "      <td>45</td>\n",
       "      <td>26</td>\n",
       "      <td>3</td>\n",
       "    </tr>\n",
       "    <tr>\n",
       "      <th>3</th>\n",
       "      <td>tile_26192_80422.png</td>\n",
       "      <td>19</td>\n",
       "      <td>18</td>\n",
       "      <td>4</td>\n",
       "    </tr>\n",
       "    <tr>\n",
       "      <th>4</th>\n",
       "      <td>tile_26192_81440.png</td>\n",
       "      <td>35</td>\n",
       "      <td>26</td>\n",
       "      <td>5</td>\n",
       "    </tr>\n",
       "  </tbody>\n",
       "</table>\n",
       "</div>"
      ],
      "text/plain": [
       "                    name  Observer – 1  Observer – 2  index\n",
       "0  tile_24555_140484.png            32            21      1\n",
       "1  tile_24555_142520.png            41            29      2\n",
       "2  tile_24555_144556.png            45            26      3\n",
       "3   tile_26192_80422.png            19            18      4\n",
       "4   tile_26192_81440.png            35            26      5"
      ]
     },
     "execution_count": 51,
     "metadata": {},
     "output_type": "execute_result"
    }
   ],
   "source": [
    "InterVar = pd.read_csv('CSV_Preds/InterVar.csv')\n",
    "InterVar['index'] = range(1, len(InterVar) + 1)\n",
    "InterVar.head()"
   ]
  },
  {
   "cell_type": "code",
   "execution_count": 57,
   "metadata": {},
   "outputs": [
    {
     "data": {
      "application/vnd.plotly.v1+json": {
       "config": {
        "plotlyServerURL": "https://plot.ly"
       },
       "data": [
        {
         "hovertemplate": "variable=Observer – 1<br>index=%{x}<br>value=%{y}<extra></extra>",
         "legendgroup": "Observer – 1",
         "marker": {
          "color": "#636efa",
          "opacity": 0.7,
          "pattern": {
           "shape": ""
          }
         },
         "name": "Observer – 1",
         "orientation": "v",
         "showlegend": true,
         "textposition": "auto",
         "type": "bar",
         "x": {
          "bdata": "AQIDBAUGBwgJCgsMDQ4PEBESExQVFhcYGRobHB0=",
          "dtype": "i1"
         },
         "xaxis": "x",
         "y": {
          "bdata": "ICktEyMKIhoaOBcYJg8VFQsrJg8PDhgYLCggEQ8=",
          "dtype": "i1"
         },
         "yaxis": "y"
        },
        {
         "hovertemplate": "variable=Observer – 2<br>index=%{x}<br>value=%{y}<extra></extra>",
         "legendgroup": "Observer – 2",
         "marker": {
          "color": "#EF553B",
          "opacity": 0.7,
          "pattern": {
           "shape": ""
          }
         },
         "name": "Observer – 2",
         "orientation": "v",
         "showlegend": true,
         "textposition": "auto",
         "type": "bar",
         "x": {
          "bdata": "AQIDBAUGBwgJCgsMDQ4PEBESExQVFhcYGRobHB0=",
          "dtype": "i1"
         },
         "xaxis": "x",
         "y": {
          "bdata": "FR0aEhoIEBQXFgwVFwwQDg8bHQ8MBxAOGyEbDAs=",
          "dtype": "i1"
         },
         "yaxis": "y"
        }
       ],
       "layout": {
        "barmode": "overlay",
        "legend": {
         "title": {
          "text": "variable"
         },
         "tracegroupgap": 0
        },
        "template": {
         "data": {
          "bar": [
           {
            "error_x": {
             "color": "#2a3f5f"
            },
            "error_y": {
             "color": "#2a3f5f"
            },
            "marker": {
             "line": {
              "color": "#E5ECF6",
              "width": 0.5
             },
             "pattern": {
              "fillmode": "overlay",
              "size": 10,
              "solidity": 0.2
             }
            },
            "type": "bar"
           }
          ],
          "barpolar": [
           {
            "marker": {
             "line": {
              "color": "#E5ECF6",
              "width": 0.5
             },
             "pattern": {
              "fillmode": "overlay",
              "size": 10,
              "solidity": 0.2
             }
            },
            "type": "barpolar"
           }
          ],
          "carpet": [
           {
            "aaxis": {
             "endlinecolor": "#2a3f5f",
             "gridcolor": "white",
             "linecolor": "white",
             "minorgridcolor": "white",
             "startlinecolor": "#2a3f5f"
            },
            "baxis": {
             "endlinecolor": "#2a3f5f",
             "gridcolor": "white",
             "linecolor": "white",
             "minorgridcolor": "white",
             "startlinecolor": "#2a3f5f"
            },
            "type": "carpet"
           }
          ],
          "choropleth": [
           {
            "colorbar": {
             "outlinewidth": 0,
             "ticks": ""
            },
            "type": "choropleth"
           }
          ],
          "contour": [
           {
            "colorbar": {
             "outlinewidth": 0,
             "ticks": ""
            },
            "colorscale": [
             [
              0,
              "#0d0887"
             ],
             [
              0.1111111111111111,
              "#46039f"
             ],
             [
              0.2222222222222222,
              "#7201a8"
             ],
             [
              0.3333333333333333,
              "#9c179e"
             ],
             [
              0.4444444444444444,
              "#bd3786"
             ],
             [
              0.5555555555555556,
              "#d8576b"
             ],
             [
              0.6666666666666666,
              "#ed7953"
             ],
             [
              0.7777777777777778,
              "#fb9f3a"
             ],
             [
              0.8888888888888888,
              "#fdca26"
             ],
             [
              1,
              "#f0f921"
             ]
            ],
            "type": "contour"
           }
          ],
          "contourcarpet": [
           {
            "colorbar": {
             "outlinewidth": 0,
             "ticks": ""
            },
            "type": "contourcarpet"
           }
          ],
          "heatmap": [
           {
            "colorbar": {
             "outlinewidth": 0,
             "ticks": ""
            },
            "colorscale": [
             [
              0,
              "#0d0887"
             ],
             [
              0.1111111111111111,
              "#46039f"
             ],
             [
              0.2222222222222222,
              "#7201a8"
             ],
             [
              0.3333333333333333,
              "#9c179e"
             ],
             [
              0.4444444444444444,
              "#bd3786"
             ],
             [
              0.5555555555555556,
              "#d8576b"
             ],
             [
              0.6666666666666666,
              "#ed7953"
             ],
             [
              0.7777777777777778,
              "#fb9f3a"
             ],
             [
              0.8888888888888888,
              "#fdca26"
             ],
             [
              1,
              "#f0f921"
             ]
            ],
            "type": "heatmap"
           }
          ],
          "histogram": [
           {
            "marker": {
             "pattern": {
              "fillmode": "overlay",
              "size": 10,
              "solidity": 0.2
             }
            },
            "type": "histogram"
           }
          ],
          "histogram2d": [
           {
            "colorbar": {
             "outlinewidth": 0,
             "ticks": ""
            },
            "colorscale": [
             [
              0,
              "#0d0887"
             ],
             [
              0.1111111111111111,
              "#46039f"
             ],
             [
              0.2222222222222222,
              "#7201a8"
             ],
             [
              0.3333333333333333,
              "#9c179e"
             ],
             [
              0.4444444444444444,
              "#bd3786"
             ],
             [
              0.5555555555555556,
              "#d8576b"
             ],
             [
              0.6666666666666666,
              "#ed7953"
             ],
             [
              0.7777777777777778,
              "#fb9f3a"
             ],
             [
              0.8888888888888888,
              "#fdca26"
             ],
             [
              1,
              "#f0f921"
             ]
            ],
            "type": "histogram2d"
           }
          ],
          "histogram2dcontour": [
           {
            "colorbar": {
             "outlinewidth": 0,
             "ticks": ""
            },
            "colorscale": [
             [
              0,
              "#0d0887"
             ],
             [
              0.1111111111111111,
              "#46039f"
             ],
             [
              0.2222222222222222,
              "#7201a8"
             ],
             [
              0.3333333333333333,
              "#9c179e"
             ],
             [
              0.4444444444444444,
              "#bd3786"
             ],
             [
              0.5555555555555556,
              "#d8576b"
             ],
             [
              0.6666666666666666,
              "#ed7953"
             ],
             [
              0.7777777777777778,
              "#fb9f3a"
             ],
             [
              0.8888888888888888,
              "#fdca26"
             ],
             [
              1,
              "#f0f921"
             ]
            ],
            "type": "histogram2dcontour"
           }
          ],
          "mesh3d": [
           {
            "colorbar": {
             "outlinewidth": 0,
             "ticks": ""
            },
            "type": "mesh3d"
           }
          ],
          "parcoords": [
           {
            "line": {
             "colorbar": {
              "outlinewidth": 0,
              "ticks": ""
             }
            },
            "type": "parcoords"
           }
          ],
          "pie": [
           {
            "automargin": true,
            "type": "pie"
           }
          ],
          "scatter": [
           {
            "fillpattern": {
             "fillmode": "overlay",
             "size": 10,
             "solidity": 0.2
            },
            "type": "scatter"
           }
          ],
          "scatter3d": [
           {
            "line": {
             "colorbar": {
              "outlinewidth": 0,
              "ticks": ""
             }
            },
            "marker": {
             "colorbar": {
              "outlinewidth": 0,
              "ticks": ""
             }
            },
            "type": "scatter3d"
           }
          ],
          "scattercarpet": [
           {
            "marker": {
             "colorbar": {
              "outlinewidth": 0,
              "ticks": ""
             }
            },
            "type": "scattercarpet"
           }
          ],
          "scattergeo": [
           {
            "marker": {
             "colorbar": {
              "outlinewidth": 0,
              "ticks": ""
             }
            },
            "type": "scattergeo"
           }
          ],
          "scattergl": [
           {
            "marker": {
             "colorbar": {
              "outlinewidth": 0,
              "ticks": ""
             }
            },
            "type": "scattergl"
           }
          ],
          "scattermap": [
           {
            "marker": {
             "colorbar": {
              "outlinewidth": 0,
              "ticks": ""
             }
            },
            "type": "scattermap"
           }
          ],
          "scattermapbox": [
           {
            "marker": {
             "colorbar": {
              "outlinewidth": 0,
              "ticks": ""
             }
            },
            "type": "scattermapbox"
           }
          ],
          "scatterpolar": [
           {
            "marker": {
             "colorbar": {
              "outlinewidth": 0,
              "ticks": ""
             }
            },
            "type": "scatterpolar"
           }
          ],
          "scatterpolargl": [
           {
            "marker": {
             "colorbar": {
              "outlinewidth": 0,
              "ticks": ""
             }
            },
            "type": "scatterpolargl"
           }
          ],
          "scatterternary": [
           {
            "marker": {
             "colorbar": {
              "outlinewidth": 0,
              "ticks": ""
             }
            },
            "type": "scatterternary"
           }
          ],
          "surface": [
           {
            "colorbar": {
             "outlinewidth": 0,
             "ticks": ""
            },
            "colorscale": [
             [
              0,
              "#0d0887"
             ],
             [
              0.1111111111111111,
              "#46039f"
             ],
             [
              0.2222222222222222,
              "#7201a8"
             ],
             [
              0.3333333333333333,
              "#9c179e"
             ],
             [
              0.4444444444444444,
              "#bd3786"
             ],
             [
              0.5555555555555556,
              "#d8576b"
             ],
             [
              0.6666666666666666,
              "#ed7953"
             ],
             [
              0.7777777777777778,
              "#fb9f3a"
             ],
             [
              0.8888888888888888,
              "#fdca26"
             ],
             [
              1,
              "#f0f921"
             ]
            ],
            "type": "surface"
           }
          ],
          "table": [
           {
            "cells": {
             "fill": {
              "color": "#EBF0F8"
             },
             "line": {
              "color": "white"
             }
            },
            "header": {
             "fill": {
              "color": "#C8D4E3"
             },
             "line": {
              "color": "white"
             }
            },
            "type": "table"
           }
          ]
         },
         "layout": {
          "annotationdefaults": {
           "arrowcolor": "#2a3f5f",
           "arrowhead": 0,
           "arrowwidth": 1
          },
          "autotypenumbers": "strict",
          "coloraxis": {
           "colorbar": {
            "outlinewidth": 0,
            "ticks": ""
           }
          },
          "colorscale": {
           "diverging": [
            [
             0,
             "#8e0152"
            ],
            [
             0.1,
             "#c51b7d"
            ],
            [
             0.2,
             "#de77ae"
            ],
            [
             0.3,
             "#f1b6da"
            ],
            [
             0.4,
             "#fde0ef"
            ],
            [
             0.5,
             "#f7f7f7"
            ],
            [
             0.6,
             "#e6f5d0"
            ],
            [
             0.7,
             "#b8e186"
            ],
            [
             0.8,
             "#7fbc41"
            ],
            [
             0.9,
             "#4d9221"
            ],
            [
             1,
             "#276419"
            ]
           ],
           "sequential": [
            [
             0,
             "#0d0887"
            ],
            [
             0.1111111111111111,
             "#46039f"
            ],
            [
             0.2222222222222222,
             "#7201a8"
            ],
            [
             0.3333333333333333,
             "#9c179e"
            ],
            [
             0.4444444444444444,
             "#bd3786"
            ],
            [
             0.5555555555555556,
             "#d8576b"
            ],
            [
             0.6666666666666666,
             "#ed7953"
            ],
            [
             0.7777777777777778,
             "#fb9f3a"
            ],
            [
             0.8888888888888888,
             "#fdca26"
            ],
            [
             1,
             "#f0f921"
            ]
           ],
           "sequentialminus": [
            [
             0,
             "#0d0887"
            ],
            [
             0.1111111111111111,
             "#46039f"
            ],
            [
             0.2222222222222222,
             "#7201a8"
            ],
            [
             0.3333333333333333,
             "#9c179e"
            ],
            [
             0.4444444444444444,
             "#bd3786"
            ],
            [
             0.5555555555555556,
             "#d8576b"
            ],
            [
             0.6666666666666666,
             "#ed7953"
            ],
            [
             0.7777777777777778,
             "#fb9f3a"
            ],
            [
             0.8888888888888888,
             "#fdca26"
            ],
            [
             1,
             "#f0f921"
            ]
           ]
          },
          "colorway": [
           "#636efa",
           "#EF553B",
           "#00cc96",
           "#ab63fa",
           "#FFA15A",
           "#19d3f3",
           "#FF6692",
           "#B6E880",
           "#FF97FF",
           "#FECB52"
          ],
          "font": {
           "color": "#2a3f5f"
          },
          "geo": {
           "bgcolor": "white",
           "lakecolor": "white",
           "landcolor": "#E5ECF6",
           "showlakes": true,
           "showland": true,
           "subunitcolor": "white"
          },
          "hoverlabel": {
           "align": "left"
          },
          "hovermode": "closest",
          "mapbox": {
           "style": "light"
          },
          "paper_bgcolor": "white",
          "plot_bgcolor": "#E5ECF6",
          "polar": {
           "angularaxis": {
            "gridcolor": "white",
            "linecolor": "white",
            "ticks": ""
           },
           "bgcolor": "#E5ECF6",
           "radialaxis": {
            "gridcolor": "white",
            "linecolor": "white",
            "ticks": ""
           }
          },
          "scene": {
           "xaxis": {
            "backgroundcolor": "#E5ECF6",
            "gridcolor": "white",
            "gridwidth": 2,
            "linecolor": "white",
            "showbackground": true,
            "ticks": "",
            "zerolinecolor": "white"
           },
           "yaxis": {
            "backgroundcolor": "#E5ECF6",
            "gridcolor": "white",
            "gridwidth": 2,
            "linecolor": "white",
            "showbackground": true,
            "ticks": "",
            "zerolinecolor": "white"
           },
           "zaxis": {
            "backgroundcolor": "#E5ECF6",
            "gridcolor": "white",
            "gridwidth": 2,
            "linecolor": "white",
            "showbackground": true,
            "ticks": "",
            "zerolinecolor": "white"
           }
          },
          "shapedefaults": {
           "line": {
            "color": "#2a3f5f"
           }
          },
          "ternary": {
           "aaxis": {
            "gridcolor": "white",
            "linecolor": "white",
            "ticks": ""
           },
           "baxis": {
            "gridcolor": "white",
            "linecolor": "white",
            "ticks": ""
           },
           "bgcolor": "#E5ECF6",
           "caxis": {
            "gridcolor": "white",
            "linecolor": "white",
            "ticks": ""
           }
          },
          "title": {
           "x": 0.05
          },
          "xaxis": {
           "automargin": true,
           "gridcolor": "white",
           "linecolor": "white",
           "ticks": "",
           "title": {
            "standoff": 15
           },
           "zerolinecolor": "white",
           "zerolinewidth": 2
          },
          "yaxis": {
           "automargin": true,
           "gridcolor": "white",
           "linecolor": "white",
           "ticks": "",
           "title": {
            "standoff": 15
           },
           "zerolinecolor": "white",
           "zerolinewidth": 2
          }
         }
        },
        "title": {
         "text": "Inter Observer Variability"
        },
        "xaxis": {
         "anchor": "y",
         "domain": [
          0,
          1
         ],
         "title": {
          "text": "Sample Index"
         }
        },
        "yaxis": {
         "anchor": "x",
         "domain": [
          0,
          1
         ],
         "title": {
          "text": "Neutrophil Count"
         }
        }
       }
      }
     },
     "metadata": {},
     "output_type": "display_data"
    }
   ],
   "source": [
    "fig = px.bar(InterVar, x='index', y=['Observer – 1', 'Observer – 2'], \n",
    "             barmode='overlay', opacity=0.7, \n",
    "             title='Inter Observer Variability')\n",
    "fig.update_layout(xaxis_title='Sample Index', yaxis_title='Neutrophil Count')\n",
    "fig.show()"
   ]
  },
  {
   "cell_type": "code",
   "execution_count": 52,
   "metadata": {},
   "outputs": [
    {
     "data": {
      "application/vnd.plotly.v1+json": {
       "config": {
        "plotlyServerURL": "https://plot.ly"
       },
       "data": [
        {
         "alignmentgroup": "True",
         "hovertemplate": "variable=Observer – 1<br>index=%{x}<br>value=%{y}<extra></extra>",
         "legendgroup": "Observer – 1",
         "marker": {
          "color": "#636efa",
          "pattern": {
           "shape": ""
          }
         },
         "name": "Observer – 1",
         "offsetgroup": "Observer – 1",
         "orientation": "v",
         "showlegend": true,
         "textposition": "auto",
         "type": "bar",
         "x": {
          "bdata": "AQIDBAUGBwgJCgsMDQ4PEBESExQVFhcYGRobHB0=",
          "dtype": "i1"
         },
         "xaxis": "x",
         "y": {
          "bdata": "ICktEyMKIhoaOBcYJg8VFQsrJg8PDhgYLCggEQ8=",
          "dtype": "i1"
         },
         "yaxis": "y"
        },
        {
         "alignmentgroup": "True",
         "hovertemplate": "variable=Observer – 2<br>index=%{x}<br>value=%{y}<extra></extra>",
         "legendgroup": "Observer – 2",
         "marker": {
          "color": "#EF553B",
          "pattern": {
           "shape": ""
          }
         },
         "name": "Observer – 2",
         "offsetgroup": "Observer – 2",
         "orientation": "v",
         "showlegend": true,
         "textposition": "auto",
         "type": "bar",
         "x": {
          "bdata": "AQIDBAUGBwgJCgsMDQ4PEBESExQVFhcYGRobHB0=",
          "dtype": "i1"
         },
         "xaxis": "x",
         "y": {
          "bdata": "FR0aEhoIEBQXFgwVFwwQDg8bHQ8MBxAOGyEbDAs=",
          "dtype": "i1"
         },
         "yaxis": "y"
        }
       ],
       "layout": {
        "barcornerradius": 15,
        "barmode": "group",
        "legend": {
         "title": {
          "text": "variable"
         },
         "tracegroupgap": 0
        },
        "template": {
         "data": {
          "bar": [
           {
            "error_x": {
             "color": "#2a3f5f"
            },
            "error_y": {
             "color": "#2a3f5f"
            },
            "marker": {
             "line": {
              "color": "#E5ECF6",
              "width": 0.5
             },
             "pattern": {
              "fillmode": "overlay",
              "size": 10,
              "solidity": 0.2
             }
            },
            "type": "bar"
           }
          ],
          "barpolar": [
           {
            "marker": {
             "line": {
              "color": "#E5ECF6",
              "width": 0.5
             },
             "pattern": {
              "fillmode": "overlay",
              "size": 10,
              "solidity": 0.2
             }
            },
            "type": "barpolar"
           }
          ],
          "carpet": [
           {
            "aaxis": {
             "endlinecolor": "#2a3f5f",
             "gridcolor": "white",
             "linecolor": "white",
             "minorgridcolor": "white",
             "startlinecolor": "#2a3f5f"
            },
            "baxis": {
             "endlinecolor": "#2a3f5f",
             "gridcolor": "white",
             "linecolor": "white",
             "minorgridcolor": "white",
             "startlinecolor": "#2a3f5f"
            },
            "type": "carpet"
           }
          ],
          "choropleth": [
           {
            "colorbar": {
             "outlinewidth": 0,
             "ticks": ""
            },
            "type": "choropleth"
           }
          ],
          "contour": [
           {
            "colorbar": {
             "outlinewidth": 0,
             "ticks": ""
            },
            "colorscale": [
             [
              0,
              "#0d0887"
             ],
             [
              0.1111111111111111,
              "#46039f"
             ],
             [
              0.2222222222222222,
              "#7201a8"
             ],
             [
              0.3333333333333333,
              "#9c179e"
             ],
             [
              0.4444444444444444,
              "#bd3786"
             ],
             [
              0.5555555555555556,
              "#d8576b"
             ],
             [
              0.6666666666666666,
              "#ed7953"
             ],
             [
              0.7777777777777778,
              "#fb9f3a"
             ],
             [
              0.8888888888888888,
              "#fdca26"
             ],
             [
              1,
              "#f0f921"
             ]
            ],
            "type": "contour"
           }
          ],
          "contourcarpet": [
           {
            "colorbar": {
             "outlinewidth": 0,
             "ticks": ""
            },
            "type": "contourcarpet"
           }
          ],
          "heatmap": [
           {
            "colorbar": {
             "outlinewidth": 0,
             "ticks": ""
            },
            "colorscale": [
             [
              0,
              "#0d0887"
             ],
             [
              0.1111111111111111,
              "#46039f"
             ],
             [
              0.2222222222222222,
              "#7201a8"
             ],
             [
              0.3333333333333333,
              "#9c179e"
             ],
             [
              0.4444444444444444,
              "#bd3786"
             ],
             [
              0.5555555555555556,
              "#d8576b"
             ],
             [
              0.6666666666666666,
              "#ed7953"
             ],
             [
              0.7777777777777778,
              "#fb9f3a"
             ],
             [
              0.8888888888888888,
              "#fdca26"
             ],
             [
              1,
              "#f0f921"
             ]
            ],
            "type": "heatmap"
           }
          ],
          "histogram": [
           {
            "marker": {
             "pattern": {
              "fillmode": "overlay",
              "size": 10,
              "solidity": 0.2
             }
            },
            "type": "histogram"
           }
          ],
          "histogram2d": [
           {
            "colorbar": {
             "outlinewidth": 0,
             "ticks": ""
            },
            "colorscale": [
             [
              0,
              "#0d0887"
             ],
             [
              0.1111111111111111,
              "#46039f"
             ],
             [
              0.2222222222222222,
              "#7201a8"
             ],
             [
              0.3333333333333333,
              "#9c179e"
             ],
             [
              0.4444444444444444,
              "#bd3786"
             ],
             [
              0.5555555555555556,
              "#d8576b"
             ],
             [
              0.6666666666666666,
              "#ed7953"
             ],
             [
              0.7777777777777778,
              "#fb9f3a"
             ],
             [
              0.8888888888888888,
              "#fdca26"
             ],
             [
              1,
              "#f0f921"
             ]
            ],
            "type": "histogram2d"
           }
          ],
          "histogram2dcontour": [
           {
            "colorbar": {
             "outlinewidth": 0,
             "ticks": ""
            },
            "colorscale": [
             [
              0,
              "#0d0887"
             ],
             [
              0.1111111111111111,
              "#46039f"
             ],
             [
              0.2222222222222222,
              "#7201a8"
             ],
             [
              0.3333333333333333,
              "#9c179e"
             ],
             [
              0.4444444444444444,
              "#bd3786"
             ],
             [
              0.5555555555555556,
              "#d8576b"
             ],
             [
              0.6666666666666666,
              "#ed7953"
             ],
             [
              0.7777777777777778,
              "#fb9f3a"
             ],
             [
              0.8888888888888888,
              "#fdca26"
             ],
             [
              1,
              "#f0f921"
             ]
            ],
            "type": "histogram2dcontour"
           }
          ],
          "mesh3d": [
           {
            "colorbar": {
             "outlinewidth": 0,
             "ticks": ""
            },
            "type": "mesh3d"
           }
          ],
          "parcoords": [
           {
            "line": {
             "colorbar": {
              "outlinewidth": 0,
              "ticks": ""
             }
            },
            "type": "parcoords"
           }
          ],
          "pie": [
           {
            "automargin": true,
            "type": "pie"
           }
          ],
          "scatter": [
           {
            "fillpattern": {
             "fillmode": "overlay",
             "size": 10,
             "solidity": 0.2
            },
            "type": "scatter"
           }
          ],
          "scatter3d": [
           {
            "line": {
             "colorbar": {
              "outlinewidth": 0,
              "ticks": ""
             }
            },
            "marker": {
             "colorbar": {
              "outlinewidth": 0,
              "ticks": ""
             }
            },
            "type": "scatter3d"
           }
          ],
          "scattercarpet": [
           {
            "marker": {
             "colorbar": {
              "outlinewidth": 0,
              "ticks": ""
             }
            },
            "type": "scattercarpet"
           }
          ],
          "scattergeo": [
           {
            "marker": {
             "colorbar": {
              "outlinewidth": 0,
              "ticks": ""
             }
            },
            "type": "scattergeo"
           }
          ],
          "scattergl": [
           {
            "marker": {
             "colorbar": {
              "outlinewidth": 0,
              "ticks": ""
             }
            },
            "type": "scattergl"
           }
          ],
          "scattermap": [
           {
            "marker": {
             "colorbar": {
              "outlinewidth": 0,
              "ticks": ""
             }
            },
            "type": "scattermap"
           }
          ],
          "scattermapbox": [
           {
            "marker": {
             "colorbar": {
              "outlinewidth": 0,
              "ticks": ""
             }
            },
            "type": "scattermapbox"
           }
          ],
          "scatterpolar": [
           {
            "marker": {
             "colorbar": {
              "outlinewidth": 0,
              "ticks": ""
             }
            },
            "type": "scatterpolar"
           }
          ],
          "scatterpolargl": [
           {
            "marker": {
             "colorbar": {
              "outlinewidth": 0,
              "ticks": ""
             }
            },
            "type": "scatterpolargl"
           }
          ],
          "scatterternary": [
           {
            "marker": {
             "colorbar": {
              "outlinewidth": 0,
              "ticks": ""
             }
            },
            "type": "scatterternary"
           }
          ],
          "surface": [
           {
            "colorbar": {
             "outlinewidth": 0,
             "ticks": ""
            },
            "colorscale": [
             [
              0,
              "#0d0887"
             ],
             [
              0.1111111111111111,
              "#46039f"
             ],
             [
              0.2222222222222222,
              "#7201a8"
             ],
             [
              0.3333333333333333,
              "#9c179e"
             ],
             [
              0.4444444444444444,
              "#bd3786"
             ],
             [
              0.5555555555555556,
              "#d8576b"
             ],
             [
              0.6666666666666666,
              "#ed7953"
             ],
             [
              0.7777777777777778,
              "#fb9f3a"
             ],
             [
              0.8888888888888888,
              "#fdca26"
             ],
             [
              1,
              "#f0f921"
             ]
            ],
            "type": "surface"
           }
          ],
          "table": [
           {
            "cells": {
             "fill": {
              "color": "#EBF0F8"
             },
             "line": {
              "color": "white"
             }
            },
            "header": {
             "fill": {
              "color": "#C8D4E3"
             },
             "line": {
              "color": "white"
             }
            },
            "type": "table"
           }
          ]
         },
         "layout": {
          "annotationdefaults": {
           "arrowcolor": "#2a3f5f",
           "arrowhead": 0,
           "arrowwidth": 1
          },
          "autotypenumbers": "strict",
          "coloraxis": {
           "colorbar": {
            "outlinewidth": 0,
            "ticks": ""
           }
          },
          "colorscale": {
           "diverging": [
            [
             0,
             "#8e0152"
            ],
            [
             0.1,
             "#c51b7d"
            ],
            [
             0.2,
             "#de77ae"
            ],
            [
             0.3,
             "#f1b6da"
            ],
            [
             0.4,
             "#fde0ef"
            ],
            [
             0.5,
             "#f7f7f7"
            ],
            [
             0.6,
             "#e6f5d0"
            ],
            [
             0.7,
             "#b8e186"
            ],
            [
             0.8,
             "#7fbc41"
            ],
            [
             0.9,
             "#4d9221"
            ],
            [
             1,
             "#276419"
            ]
           ],
           "sequential": [
            [
             0,
             "#0d0887"
            ],
            [
             0.1111111111111111,
             "#46039f"
            ],
            [
             0.2222222222222222,
             "#7201a8"
            ],
            [
             0.3333333333333333,
             "#9c179e"
            ],
            [
             0.4444444444444444,
             "#bd3786"
            ],
            [
             0.5555555555555556,
             "#d8576b"
            ],
            [
             0.6666666666666666,
             "#ed7953"
            ],
            [
             0.7777777777777778,
             "#fb9f3a"
            ],
            [
             0.8888888888888888,
             "#fdca26"
            ],
            [
             1,
             "#f0f921"
            ]
           ],
           "sequentialminus": [
            [
             0,
             "#0d0887"
            ],
            [
             0.1111111111111111,
             "#46039f"
            ],
            [
             0.2222222222222222,
             "#7201a8"
            ],
            [
             0.3333333333333333,
             "#9c179e"
            ],
            [
             0.4444444444444444,
             "#bd3786"
            ],
            [
             0.5555555555555556,
             "#d8576b"
            ],
            [
             0.6666666666666666,
             "#ed7953"
            ],
            [
             0.7777777777777778,
             "#fb9f3a"
            ],
            [
             0.8888888888888888,
             "#fdca26"
            ],
            [
             1,
             "#f0f921"
            ]
           ]
          },
          "colorway": [
           "#636efa",
           "#EF553B",
           "#00cc96",
           "#ab63fa",
           "#FFA15A",
           "#19d3f3",
           "#FF6692",
           "#B6E880",
           "#FF97FF",
           "#FECB52"
          ],
          "font": {
           "color": "#2a3f5f"
          },
          "geo": {
           "bgcolor": "white",
           "lakecolor": "white",
           "landcolor": "#E5ECF6",
           "showlakes": true,
           "showland": true,
           "subunitcolor": "white"
          },
          "hoverlabel": {
           "align": "left"
          },
          "hovermode": "closest",
          "mapbox": {
           "style": "light"
          },
          "paper_bgcolor": "white",
          "plot_bgcolor": "#E5ECF6",
          "polar": {
           "angularaxis": {
            "gridcolor": "white",
            "linecolor": "white",
            "ticks": ""
           },
           "bgcolor": "#E5ECF6",
           "radialaxis": {
            "gridcolor": "white",
            "linecolor": "white",
            "ticks": ""
           }
          },
          "scene": {
           "xaxis": {
            "backgroundcolor": "#E5ECF6",
            "gridcolor": "white",
            "gridwidth": 2,
            "linecolor": "white",
            "showbackground": true,
            "ticks": "",
            "zerolinecolor": "white"
           },
           "yaxis": {
            "backgroundcolor": "#E5ECF6",
            "gridcolor": "white",
            "gridwidth": 2,
            "linecolor": "white",
            "showbackground": true,
            "ticks": "",
            "zerolinecolor": "white"
           },
           "zaxis": {
            "backgroundcolor": "#E5ECF6",
            "gridcolor": "white",
            "gridwidth": 2,
            "linecolor": "white",
            "showbackground": true,
            "ticks": "",
            "zerolinecolor": "white"
           }
          },
          "shapedefaults": {
           "line": {
            "color": "#2a3f5f"
           }
          },
          "ternary": {
           "aaxis": {
            "gridcolor": "white",
            "linecolor": "white",
            "ticks": ""
           },
           "baxis": {
            "gridcolor": "white",
            "linecolor": "white",
            "ticks": ""
           },
           "bgcolor": "#E5ECF6",
           "caxis": {
            "gridcolor": "white",
            "linecolor": "white",
            "ticks": ""
           }
          },
          "title": {
           "x": 0.05
          },
          "xaxis": {
           "automargin": true,
           "gridcolor": "white",
           "linecolor": "white",
           "ticks": "",
           "title": {
            "standoff": 15
           },
           "zerolinecolor": "white",
           "zerolinewidth": 2
          },
          "yaxis": {
           "automargin": true,
           "gridcolor": "white",
           "linecolor": "white",
           "ticks": "",
           "title": {
            "standoff": 15
           },
           "zerolinecolor": "white",
           "zerolinewidth": 2
          }
         }
        },
        "title": {
         "text": "Inter Observer Variability"
        },
        "xaxis": {
         "anchor": "y",
         "domain": [
          0,
          1
         ],
         "tickangle": -45,
         "title": {
          "text": "30 - Test samples"
         }
        },
        "yaxis": {
         "anchor": "x",
         "domain": [
          0,
          1
         ],
         "title": {
          "text": "Neutrophil count by each observer"
         }
        }
       }
      }
     },
     "metadata": {},
     "output_type": "display_data"
    }
   ],
   "source": [
    "\n",
    "fig = px.bar(InterVar, x='index', y=['Observer – 1', 'Observer – 2'], barmode='group', title='Inter Observer Variability')\n",
    "fig.update_layout(xaxis_title='30 - Test samples', yaxis_title='Neutrophil count by each observer', xaxis_tickangle=-45, barcornerradius=15),\n",
    "fig.show()"
   ]
  },
  {
   "cell_type": "code",
   "execution_count": 53,
   "metadata": {},
   "outputs": [
    {
     "data": {
      "application/vnd.plotly.v1+json": {
       "config": {
        "plotlyServerURL": "https://plot.ly"
       },
       "data": [
        {
         "hovertemplate": "variable=Observer – 1<br>index=%{x}<br>value=%{y}<extra></extra>",
         "legendgroup": "Observer – 1",
         "line": {
          "color": "#636efa",
          "dash": "solid"
         },
         "marker": {
          "symbol": "circle"
         },
         "mode": "lines",
         "name": "Observer – 1",
         "orientation": "v",
         "showlegend": true,
         "type": "scatter",
         "x": {
          "bdata": "AQIDBAUGBwgJCgsMDQ4PEBESExQVFhcYGRobHB0=",
          "dtype": "i1"
         },
         "xaxis": "x",
         "y": {
          "bdata": "ICktEyMKIhoaOBcYJg8VFQsrJg8PDhgYLCggEQ8=",
          "dtype": "i1"
         },
         "yaxis": "y"
        },
        {
         "hovertemplate": "variable=Observer – 2<br>index=%{x}<br>value=%{y}<extra></extra>",
         "legendgroup": "Observer – 2",
         "line": {
          "color": "#EF553B",
          "dash": "solid"
         },
         "marker": {
          "symbol": "circle"
         },
         "mode": "lines",
         "name": "Observer – 2",
         "orientation": "v",
         "showlegend": true,
         "type": "scatter",
         "x": {
          "bdata": "AQIDBAUGBwgJCgsMDQ4PEBESExQVFhcYGRobHB0=",
          "dtype": "i1"
         },
         "xaxis": "x",
         "y": {
          "bdata": "FR0aEhoIEBQXFgwVFwwQDg8bHQ8MBxAOGyEbDAs=",
          "dtype": "i1"
         },
         "yaxis": "y"
        }
       ],
       "layout": {
        "legend": {
         "title": {
          "text": "variable"
         },
         "tracegroupgap": 0
        },
        "template": {
         "data": {
          "bar": [
           {
            "error_x": {
             "color": "#2a3f5f"
            },
            "error_y": {
             "color": "#2a3f5f"
            },
            "marker": {
             "line": {
              "color": "#E5ECF6",
              "width": 0.5
             },
             "pattern": {
              "fillmode": "overlay",
              "size": 10,
              "solidity": 0.2
             }
            },
            "type": "bar"
           }
          ],
          "barpolar": [
           {
            "marker": {
             "line": {
              "color": "#E5ECF6",
              "width": 0.5
             },
             "pattern": {
              "fillmode": "overlay",
              "size": 10,
              "solidity": 0.2
             }
            },
            "type": "barpolar"
           }
          ],
          "carpet": [
           {
            "aaxis": {
             "endlinecolor": "#2a3f5f",
             "gridcolor": "white",
             "linecolor": "white",
             "minorgridcolor": "white",
             "startlinecolor": "#2a3f5f"
            },
            "baxis": {
             "endlinecolor": "#2a3f5f",
             "gridcolor": "white",
             "linecolor": "white",
             "minorgridcolor": "white",
             "startlinecolor": "#2a3f5f"
            },
            "type": "carpet"
           }
          ],
          "choropleth": [
           {
            "colorbar": {
             "outlinewidth": 0,
             "ticks": ""
            },
            "type": "choropleth"
           }
          ],
          "contour": [
           {
            "colorbar": {
             "outlinewidth": 0,
             "ticks": ""
            },
            "colorscale": [
             [
              0,
              "#0d0887"
             ],
             [
              0.1111111111111111,
              "#46039f"
             ],
             [
              0.2222222222222222,
              "#7201a8"
             ],
             [
              0.3333333333333333,
              "#9c179e"
             ],
             [
              0.4444444444444444,
              "#bd3786"
             ],
             [
              0.5555555555555556,
              "#d8576b"
             ],
             [
              0.6666666666666666,
              "#ed7953"
             ],
             [
              0.7777777777777778,
              "#fb9f3a"
             ],
             [
              0.8888888888888888,
              "#fdca26"
             ],
             [
              1,
              "#f0f921"
             ]
            ],
            "type": "contour"
           }
          ],
          "contourcarpet": [
           {
            "colorbar": {
             "outlinewidth": 0,
             "ticks": ""
            },
            "type": "contourcarpet"
           }
          ],
          "heatmap": [
           {
            "colorbar": {
             "outlinewidth": 0,
             "ticks": ""
            },
            "colorscale": [
             [
              0,
              "#0d0887"
             ],
             [
              0.1111111111111111,
              "#46039f"
             ],
             [
              0.2222222222222222,
              "#7201a8"
             ],
             [
              0.3333333333333333,
              "#9c179e"
             ],
             [
              0.4444444444444444,
              "#bd3786"
             ],
             [
              0.5555555555555556,
              "#d8576b"
             ],
             [
              0.6666666666666666,
              "#ed7953"
             ],
             [
              0.7777777777777778,
              "#fb9f3a"
             ],
             [
              0.8888888888888888,
              "#fdca26"
             ],
             [
              1,
              "#f0f921"
             ]
            ],
            "type": "heatmap"
           }
          ],
          "histogram": [
           {
            "marker": {
             "pattern": {
              "fillmode": "overlay",
              "size": 10,
              "solidity": 0.2
             }
            },
            "type": "histogram"
           }
          ],
          "histogram2d": [
           {
            "colorbar": {
             "outlinewidth": 0,
             "ticks": ""
            },
            "colorscale": [
             [
              0,
              "#0d0887"
             ],
             [
              0.1111111111111111,
              "#46039f"
             ],
             [
              0.2222222222222222,
              "#7201a8"
             ],
             [
              0.3333333333333333,
              "#9c179e"
             ],
             [
              0.4444444444444444,
              "#bd3786"
             ],
             [
              0.5555555555555556,
              "#d8576b"
             ],
             [
              0.6666666666666666,
              "#ed7953"
             ],
             [
              0.7777777777777778,
              "#fb9f3a"
             ],
             [
              0.8888888888888888,
              "#fdca26"
             ],
             [
              1,
              "#f0f921"
             ]
            ],
            "type": "histogram2d"
           }
          ],
          "histogram2dcontour": [
           {
            "colorbar": {
             "outlinewidth": 0,
             "ticks": ""
            },
            "colorscale": [
             [
              0,
              "#0d0887"
             ],
             [
              0.1111111111111111,
              "#46039f"
             ],
             [
              0.2222222222222222,
              "#7201a8"
             ],
             [
              0.3333333333333333,
              "#9c179e"
             ],
             [
              0.4444444444444444,
              "#bd3786"
             ],
             [
              0.5555555555555556,
              "#d8576b"
             ],
             [
              0.6666666666666666,
              "#ed7953"
             ],
             [
              0.7777777777777778,
              "#fb9f3a"
             ],
             [
              0.8888888888888888,
              "#fdca26"
             ],
             [
              1,
              "#f0f921"
             ]
            ],
            "type": "histogram2dcontour"
           }
          ],
          "mesh3d": [
           {
            "colorbar": {
             "outlinewidth": 0,
             "ticks": ""
            },
            "type": "mesh3d"
           }
          ],
          "parcoords": [
           {
            "line": {
             "colorbar": {
              "outlinewidth": 0,
              "ticks": ""
             }
            },
            "type": "parcoords"
           }
          ],
          "pie": [
           {
            "automargin": true,
            "type": "pie"
           }
          ],
          "scatter": [
           {
            "fillpattern": {
             "fillmode": "overlay",
             "size": 10,
             "solidity": 0.2
            },
            "type": "scatter"
           }
          ],
          "scatter3d": [
           {
            "line": {
             "colorbar": {
              "outlinewidth": 0,
              "ticks": ""
             }
            },
            "marker": {
             "colorbar": {
              "outlinewidth": 0,
              "ticks": ""
             }
            },
            "type": "scatter3d"
           }
          ],
          "scattercarpet": [
           {
            "marker": {
             "colorbar": {
              "outlinewidth": 0,
              "ticks": ""
             }
            },
            "type": "scattercarpet"
           }
          ],
          "scattergeo": [
           {
            "marker": {
             "colorbar": {
              "outlinewidth": 0,
              "ticks": ""
             }
            },
            "type": "scattergeo"
           }
          ],
          "scattergl": [
           {
            "marker": {
             "colorbar": {
              "outlinewidth": 0,
              "ticks": ""
             }
            },
            "type": "scattergl"
           }
          ],
          "scattermap": [
           {
            "marker": {
             "colorbar": {
              "outlinewidth": 0,
              "ticks": ""
             }
            },
            "type": "scattermap"
           }
          ],
          "scattermapbox": [
           {
            "marker": {
             "colorbar": {
              "outlinewidth": 0,
              "ticks": ""
             }
            },
            "type": "scattermapbox"
           }
          ],
          "scatterpolar": [
           {
            "marker": {
             "colorbar": {
              "outlinewidth": 0,
              "ticks": ""
             }
            },
            "type": "scatterpolar"
           }
          ],
          "scatterpolargl": [
           {
            "marker": {
             "colorbar": {
              "outlinewidth": 0,
              "ticks": ""
             }
            },
            "type": "scatterpolargl"
           }
          ],
          "scatterternary": [
           {
            "marker": {
             "colorbar": {
              "outlinewidth": 0,
              "ticks": ""
             }
            },
            "type": "scatterternary"
           }
          ],
          "surface": [
           {
            "colorbar": {
             "outlinewidth": 0,
             "ticks": ""
            },
            "colorscale": [
             [
              0,
              "#0d0887"
             ],
             [
              0.1111111111111111,
              "#46039f"
             ],
             [
              0.2222222222222222,
              "#7201a8"
             ],
             [
              0.3333333333333333,
              "#9c179e"
             ],
             [
              0.4444444444444444,
              "#bd3786"
             ],
             [
              0.5555555555555556,
              "#d8576b"
             ],
             [
              0.6666666666666666,
              "#ed7953"
             ],
             [
              0.7777777777777778,
              "#fb9f3a"
             ],
             [
              0.8888888888888888,
              "#fdca26"
             ],
             [
              1,
              "#f0f921"
             ]
            ],
            "type": "surface"
           }
          ],
          "table": [
           {
            "cells": {
             "fill": {
              "color": "#EBF0F8"
             },
             "line": {
              "color": "white"
             }
            },
            "header": {
             "fill": {
              "color": "#C8D4E3"
             },
             "line": {
              "color": "white"
             }
            },
            "type": "table"
           }
          ]
         },
         "layout": {
          "annotationdefaults": {
           "arrowcolor": "#2a3f5f",
           "arrowhead": 0,
           "arrowwidth": 1
          },
          "autotypenumbers": "strict",
          "coloraxis": {
           "colorbar": {
            "outlinewidth": 0,
            "ticks": ""
           }
          },
          "colorscale": {
           "diverging": [
            [
             0,
             "#8e0152"
            ],
            [
             0.1,
             "#c51b7d"
            ],
            [
             0.2,
             "#de77ae"
            ],
            [
             0.3,
             "#f1b6da"
            ],
            [
             0.4,
             "#fde0ef"
            ],
            [
             0.5,
             "#f7f7f7"
            ],
            [
             0.6,
             "#e6f5d0"
            ],
            [
             0.7,
             "#b8e186"
            ],
            [
             0.8,
             "#7fbc41"
            ],
            [
             0.9,
             "#4d9221"
            ],
            [
             1,
             "#276419"
            ]
           ],
           "sequential": [
            [
             0,
             "#0d0887"
            ],
            [
             0.1111111111111111,
             "#46039f"
            ],
            [
             0.2222222222222222,
             "#7201a8"
            ],
            [
             0.3333333333333333,
             "#9c179e"
            ],
            [
             0.4444444444444444,
             "#bd3786"
            ],
            [
             0.5555555555555556,
             "#d8576b"
            ],
            [
             0.6666666666666666,
             "#ed7953"
            ],
            [
             0.7777777777777778,
             "#fb9f3a"
            ],
            [
             0.8888888888888888,
             "#fdca26"
            ],
            [
             1,
             "#f0f921"
            ]
           ],
           "sequentialminus": [
            [
             0,
             "#0d0887"
            ],
            [
             0.1111111111111111,
             "#46039f"
            ],
            [
             0.2222222222222222,
             "#7201a8"
            ],
            [
             0.3333333333333333,
             "#9c179e"
            ],
            [
             0.4444444444444444,
             "#bd3786"
            ],
            [
             0.5555555555555556,
             "#d8576b"
            ],
            [
             0.6666666666666666,
             "#ed7953"
            ],
            [
             0.7777777777777778,
             "#fb9f3a"
            ],
            [
             0.8888888888888888,
             "#fdca26"
            ],
            [
             1,
             "#f0f921"
            ]
           ]
          },
          "colorway": [
           "#636efa",
           "#EF553B",
           "#00cc96",
           "#ab63fa",
           "#FFA15A",
           "#19d3f3",
           "#FF6692",
           "#B6E880",
           "#FF97FF",
           "#FECB52"
          ],
          "font": {
           "color": "#2a3f5f"
          },
          "geo": {
           "bgcolor": "white",
           "lakecolor": "white",
           "landcolor": "#E5ECF6",
           "showlakes": true,
           "showland": true,
           "subunitcolor": "white"
          },
          "hoverlabel": {
           "align": "left"
          },
          "hovermode": "closest",
          "mapbox": {
           "style": "light"
          },
          "paper_bgcolor": "white",
          "plot_bgcolor": "#E5ECF6",
          "polar": {
           "angularaxis": {
            "gridcolor": "white",
            "linecolor": "white",
            "ticks": ""
           },
           "bgcolor": "#E5ECF6",
           "radialaxis": {
            "gridcolor": "white",
            "linecolor": "white",
            "ticks": ""
           }
          },
          "scene": {
           "xaxis": {
            "backgroundcolor": "#E5ECF6",
            "gridcolor": "white",
            "gridwidth": 2,
            "linecolor": "white",
            "showbackground": true,
            "ticks": "",
            "zerolinecolor": "white"
           },
           "yaxis": {
            "backgroundcolor": "#E5ECF6",
            "gridcolor": "white",
            "gridwidth": 2,
            "linecolor": "white",
            "showbackground": true,
            "ticks": "",
            "zerolinecolor": "white"
           },
           "zaxis": {
            "backgroundcolor": "#E5ECF6",
            "gridcolor": "white",
            "gridwidth": 2,
            "linecolor": "white",
            "showbackground": true,
            "ticks": "",
            "zerolinecolor": "white"
           }
          },
          "shapedefaults": {
           "line": {
            "color": "#2a3f5f"
           }
          },
          "ternary": {
           "aaxis": {
            "gridcolor": "white",
            "linecolor": "white",
            "ticks": ""
           },
           "baxis": {
            "gridcolor": "white",
            "linecolor": "white",
            "ticks": ""
           },
           "bgcolor": "#E5ECF6",
           "caxis": {
            "gridcolor": "white",
            "linecolor": "white",
            "ticks": ""
           }
          },
          "title": {
           "x": 0.05
          },
          "xaxis": {
           "automargin": true,
           "gridcolor": "white",
           "linecolor": "white",
           "ticks": "",
           "title": {
            "standoff": 15
           },
           "zerolinecolor": "white",
           "zerolinewidth": 2
          },
          "yaxis": {
           "automargin": true,
           "gridcolor": "white",
           "linecolor": "white",
           "ticks": "",
           "title": {
            "standoff": 15
           },
           "zerolinecolor": "white",
           "zerolinewidth": 2
          }
         }
        },
        "title": {
         "text": "Inter Observer Variability: Line Plot"
        },
        "xaxis": {
         "anchor": "y",
         "domain": [
          0,
          1
         ],
         "title": {
          "text": "Sample Index"
         }
        },
        "yaxis": {
         "anchor": "x",
         "domain": [
          0,
          1
         ],
         "title": {
          "text": "Neutrophil Count"
         }
        }
       }
      }
     },
     "metadata": {},
     "output_type": "display_data"
    }
   ],
   "source": [
    "fig = px.line(InterVar, x='index', y=['Observer – 1', 'Observer – 2'], \n",
    "              title='Inter Observer Variability: Line Plot')\n",
    "fig.update_layout(xaxis_title='Sample Index', yaxis_title='Neutrophil Count')\n",
    "fig.show()"
   ]
  },
  {
   "cell_type": "code",
   "execution_count": 54,
   "metadata": {},
   "outputs": [
    {
     "data": {
      "application/vnd.plotly.v1+json": {
       "config": {
        "plotlyServerURL": "https://plot.ly"
       },
       "data": [
        {
         "alignmentgroup": "True",
         "hovertemplate": "variable=%{x}<br>value=%{y}<extra></extra>",
         "legendgroup": "",
         "marker": {
          "color": "#636efa"
         },
         "name": "",
         "notched": false,
         "offsetgroup": "",
         "orientation": "v",
         "showlegend": false,
         "type": "box",
         "x": [
          "Observer – 1",
          "Observer – 1",
          "Observer – 1",
          "Observer – 1",
          "Observer – 1",
          "Observer – 1",
          "Observer – 1",
          "Observer – 1",
          "Observer – 1",
          "Observer – 1",
          "Observer – 1",
          "Observer – 1",
          "Observer – 1",
          "Observer – 1",
          "Observer – 1",
          "Observer – 1",
          "Observer – 1",
          "Observer – 1",
          "Observer – 1",
          "Observer – 1",
          "Observer – 1",
          "Observer – 1",
          "Observer – 1",
          "Observer – 1",
          "Observer – 1",
          "Observer – 1",
          "Observer – 1",
          "Observer – 1",
          "Observer – 1",
          "Observer – 2",
          "Observer – 2",
          "Observer – 2",
          "Observer – 2",
          "Observer – 2",
          "Observer – 2",
          "Observer – 2",
          "Observer – 2",
          "Observer – 2",
          "Observer – 2",
          "Observer – 2",
          "Observer – 2",
          "Observer – 2",
          "Observer – 2",
          "Observer – 2",
          "Observer – 2",
          "Observer – 2",
          "Observer – 2",
          "Observer – 2",
          "Observer – 2",
          "Observer – 2",
          "Observer – 2",
          "Observer – 2",
          "Observer – 2",
          "Observer – 2",
          "Observer – 2",
          "Observer – 2",
          "Observer – 2",
          "Observer – 2"
         ],
         "x0": " ",
         "xaxis": "x",
         "y": {
          "bdata": "ICktEyMKIhoaOBcYJg8VFQsrJg8PDhgYLCggEQ8VHRoSGggQFBcWDBUXDBAODxsdDwwHEA4bIRsMCw==",
          "dtype": "i1"
         },
         "y0": " ",
         "yaxis": "y"
        }
       ],
       "layout": {
        "boxmode": "group",
        "legend": {
         "tracegroupgap": 0
        },
        "template": {
         "data": {
          "bar": [
           {
            "error_x": {
             "color": "#2a3f5f"
            },
            "error_y": {
             "color": "#2a3f5f"
            },
            "marker": {
             "line": {
              "color": "#E5ECF6",
              "width": 0.5
             },
             "pattern": {
              "fillmode": "overlay",
              "size": 10,
              "solidity": 0.2
             }
            },
            "type": "bar"
           }
          ],
          "barpolar": [
           {
            "marker": {
             "line": {
              "color": "#E5ECF6",
              "width": 0.5
             },
             "pattern": {
              "fillmode": "overlay",
              "size": 10,
              "solidity": 0.2
             }
            },
            "type": "barpolar"
           }
          ],
          "carpet": [
           {
            "aaxis": {
             "endlinecolor": "#2a3f5f",
             "gridcolor": "white",
             "linecolor": "white",
             "minorgridcolor": "white",
             "startlinecolor": "#2a3f5f"
            },
            "baxis": {
             "endlinecolor": "#2a3f5f",
             "gridcolor": "white",
             "linecolor": "white",
             "minorgridcolor": "white",
             "startlinecolor": "#2a3f5f"
            },
            "type": "carpet"
           }
          ],
          "choropleth": [
           {
            "colorbar": {
             "outlinewidth": 0,
             "ticks": ""
            },
            "type": "choropleth"
           }
          ],
          "contour": [
           {
            "colorbar": {
             "outlinewidth": 0,
             "ticks": ""
            },
            "colorscale": [
             [
              0,
              "#0d0887"
             ],
             [
              0.1111111111111111,
              "#46039f"
             ],
             [
              0.2222222222222222,
              "#7201a8"
             ],
             [
              0.3333333333333333,
              "#9c179e"
             ],
             [
              0.4444444444444444,
              "#bd3786"
             ],
             [
              0.5555555555555556,
              "#d8576b"
             ],
             [
              0.6666666666666666,
              "#ed7953"
             ],
             [
              0.7777777777777778,
              "#fb9f3a"
             ],
             [
              0.8888888888888888,
              "#fdca26"
             ],
             [
              1,
              "#f0f921"
             ]
            ],
            "type": "contour"
           }
          ],
          "contourcarpet": [
           {
            "colorbar": {
             "outlinewidth": 0,
             "ticks": ""
            },
            "type": "contourcarpet"
           }
          ],
          "heatmap": [
           {
            "colorbar": {
             "outlinewidth": 0,
             "ticks": ""
            },
            "colorscale": [
             [
              0,
              "#0d0887"
             ],
             [
              0.1111111111111111,
              "#46039f"
             ],
             [
              0.2222222222222222,
              "#7201a8"
             ],
             [
              0.3333333333333333,
              "#9c179e"
             ],
             [
              0.4444444444444444,
              "#bd3786"
             ],
             [
              0.5555555555555556,
              "#d8576b"
             ],
             [
              0.6666666666666666,
              "#ed7953"
             ],
             [
              0.7777777777777778,
              "#fb9f3a"
             ],
             [
              0.8888888888888888,
              "#fdca26"
             ],
             [
              1,
              "#f0f921"
             ]
            ],
            "type": "heatmap"
           }
          ],
          "histogram": [
           {
            "marker": {
             "pattern": {
              "fillmode": "overlay",
              "size": 10,
              "solidity": 0.2
             }
            },
            "type": "histogram"
           }
          ],
          "histogram2d": [
           {
            "colorbar": {
             "outlinewidth": 0,
             "ticks": ""
            },
            "colorscale": [
             [
              0,
              "#0d0887"
             ],
             [
              0.1111111111111111,
              "#46039f"
             ],
             [
              0.2222222222222222,
              "#7201a8"
             ],
             [
              0.3333333333333333,
              "#9c179e"
             ],
             [
              0.4444444444444444,
              "#bd3786"
             ],
             [
              0.5555555555555556,
              "#d8576b"
             ],
             [
              0.6666666666666666,
              "#ed7953"
             ],
             [
              0.7777777777777778,
              "#fb9f3a"
             ],
             [
              0.8888888888888888,
              "#fdca26"
             ],
             [
              1,
              "#f0f921"
             ]
            ],
            "type": "histogram2d"
           }
          ],
          "histogram2dcontour": [
           {
            "colorbar": {
             "outlinewidth": 0,
             "ticks": ""
            },
            "colorscale": [
             [
              0,
              "#0d0887"
             ],
             [
              0.1111111111111111,
              "#46039f"
             ],
             [
              0.2222222222222222,
              "#7201a8"
             ],
             [
              0.3333333333333333,
              "#9c179e"
             ],
             [
              0.4444444444444444,
              "#bd3786"
             ],
             [
              0.5555555555555556,
              "#d8576b"
             ],
             [
              0.6666666666666666,
              "#ed7953"
             ],
             [
              0.7777777777777778,
              "#fb9f3a"
             ],
             [
              0.8888888888888888,
              "#fdca26"
             ],
             [
              1,
              "#f0f921"
             ]
            ],
            "type": "histogram2dcontour"
           }
          ],
          "mesh3d": [
           {
            "colorbar": {
             "outlinewidth": 0,
             "ticks": ""
            },
            "type": "mesh3d"
           }
          ],
          "parcoords": [
           {
            "line": {
             "colorbar": {
              "outlinewidth": 0,
              "ticks": ""
             }
            },
            "type": "parcoords"
           }
          ],
          "pie": [
           {
            "automargin": true,
            "type": "pie"
           }
          ],
          "scatter": [
           {
            "fillpattern": {
             "fillmode": "overlay",
             "size": 10,
             "solidity": 0.2
            },
            "type": "scatter"
           }
          ],
          "scatter3d": [
           {
            "line": {
             "colorbar": {
              "outlinewidth": 0,
              "ticks": ""
             }
            },
            "marker": {
             "colorbar": {
              "outlinewidth": 0,
              "ticks": ""
             }
            },
            "type": "scatter3d"
           }
          ],
          "scattercarpet": [
           {
            "marker": {
             "colorbar": {
              "outlinewidth": 0,
              "ticks": ""
             }
            },
            "type": "scattercarpet"
           }
          ],
          "scattergeo": [
           {
            "marker": {
             "colorbar": {
              "outlinewidth": 0,
              "ticks": ""
             }
            },
            "type": "scattergeo"
           }
          ],
          "scattergl": [
           {
            "marker": {
             "colorbar": {
              "outlinewidth": 0,
              "ticks": ""
             }
            },
            "type": "scattergl"
           }
          ],
          "scattermap": [
           {
            "marker": {
             "colorbar": {
              "outlinewidth": 0,
              "ticks": ""
             }
            },
            "type": "scattermap"
           }
          ],
          "scattermapbox": [
           {
            "marker": {
             "colorbar": {
              "outlinewidth": 0,
              "ticks": ""
             }
            },
            "type": "scattermapbox"
           }
          ],
          "scatterpolar": [
           {
            "marker": {
             "colorbar": {
              "outlinewidth": 0,
              "ticks": ""
             }
            },
            "type": "scatterpolar"
           }
          ],
          "scatterpolargl": [
           {
            "marker": {
             "colorbar": {
              "outlinewidth": 0,
              "ticks": ""
             }
            },
            "type": "scatterpolargl"
           }
          ],
          "scatterternary": [
           {
            "marker": {
             "colorbar": {
              "outlinewidth": 0,
              "ticks": ""
             }
            },
            "type": "scatterternary"
           }
          ],
          "surface": [
           {
            "colorbar": {
             "outlinewidth": 0,
             "ticks": ""
            },
            "colorscale": [
             [
              0,
              "#0d0887"
             ],
             [
              0.1111111111111111,
              "#46039f"
             ],
             [
              0.2222222222222222,
              "#7201a8"
             ],
             [
              0.3333333333333333,
              "#9c179e"
             ],
             [
              0.4444444444444444,
              "#bd3786"
             ],
             [
              0.5555555555555556,
              "#d8576b"
             ],
             [
              0.6666666666666666,
              "#ed7953"
             ],
             [
              0.7777777777777778,
              "#fb9f3a"
             ],
             [
              0.8888888888888888,
              "#fdca26"
             ],
             [
              1,
              "#f0f921"
             ]
            ],
            "type": "surface"
           }
          ],
          "table": [
           {
            "cells": {
             "fill": {
              "color": "#EBF0F8"
             },
             "line": {
              "color": "white"
             }
            },
            "header": {
             "fill": {
              "color": "#C8D4E3"
             },
             "line": {
              "color": "white"
             }
            },
            "type": "table"
           }
          ]
         },
         "layout": {
          "annotationdefaults": {
           "arrowcolor": "#2a3f5f",
           "arrowhead": 0,
           "arrowwidth": 1
          },
          "autotypenumbers": "strict",
          "coloraxis": {
           "colorbar": {
            "outlinewidth": 0,
            "ticks": ""
           }
          },
          "colorscale": {
           "diverging": [
            [
             0,
             "#8e0152"
            ],
            [
             0.1,
             "#c51b7d"
            ],
            [
             0.2,
             "#de77ae"
            ],
            [
             0.3,
             "#f1b6da"
            ],
            [
             0.4,
             "#fde0ef"
            ],
            [
             0.5,
             "#f7f7f7"
            ],
            [
             0.6,
             "#e6f5d0"
            ],
            [
             0.7,
             "#b8e186"
            ],
            [
             0.8,
             "#7fbc41"
            ],
            [
             0.9,
             "#4d9221"
            ],
            [
             1,
             "#276419"
            ]
           ],
           "sequential": [
            [
             0,
             "#0d0887"
            ],
            [
             0.1111111111111111,
             "#46039f"
            ],
            [
             0.2222222222222222,
             "#7201a8"
            ],
            [
             0.3333333333333333,
             "#9c179e"
            ],
            [
             0.4444444444444444,
             "#bd3786"
            ],
            [
             0.5555555555555556,
             "#d8576b"
            ],
            [
             0.6666666666666666,
             "#ed7953"
            ],
            [
             0.7777777777777778,
             "#fb9f3a"
            ],
            [
             0.8888888888888888,
             "#fdca26"
            ],
            [
             1,
             "#f0f921"
            ]
           ],
           "sequentialminus": [
            [
             0,
             "#0d0887"
            ],
            [
             0.1111111111111111,
             "#46039f"
            ],
            [
             0.2222222222222222,
             "#7201a8"
            ],
            [
             0.3333333333333333,
             "#9c179e"
            ],
            [
             0.4444444444444444,
             "#bd3786"
            ],
            [
             0.5555555555555556,
             "#d8576b"
            ],
            [
             0.6666666666666666,
             "#ed7953"
            ],
            [
             0.7777777777777778,
             "#fb9f3a"
            ],
            [
             0.8888888888888888,
             "#fdca26"
            ],
            [
             1,
             "#f0f921"
            ]
           ]
          },
          "colorway": [
           "#636efa",
           "#EF553B",
           "#00cc96",
           "#ab63fa",
           "#FFA15A",
           "#19d3f3",
           "#FF6692",
           "#B6E880",
           "#FF97FF",
           "#FECB52"
          ],
          "font": {
           "color": "#2a3f5f"
          },
          "geo": {
           "bgcolor": "white",
           "lakecolor": "white",
           "landcolor": "#E5ECF6",
           "showlakes": true,
           "showland": true,
           "subunitcolor": "white"
          },
          "hoverlabel": {
           "align": "left"
          },
          "hovermode": "closest",
          "mapbox": {
           "style": "light"
          },
          "paper_bgcolor": "white",
          "plot_bgcolor": "#E5ECF6",
          "polar": {
           "angularaxis": {
            "gridcolor": "white",
            "linecolor": "white",
            "ticks": ""
           },
           "bgcolor": "#E5ECF6",
           "radialaxis": {
            "gridcolor": "white",
            "linecolor": "white",
            "ticks": ""
           }
          },
          "scene": {
           "xaxis": {
            "backgroundcolor": "#E5ECF6",
            "gridcolor": "white",
            "gridwidth": 2,
            "linecolor": "white",
            "showbackground": true,
            "ticks": "",
            "zerolinecolor": "white"
           },
           "yaxis": {
            "backgroundcolor": "#E5ECF6",
            "gridcolor": "white",
            "gridwidth": 2,
            "linecolor": "white",
            "showbackground": true,
            "ticks": "",
            "zerolinecolor": "white"
           },
           "zaxis": {
            "backgroundcolor": "#E5ECF6",
            "gridcolor": "white",
            "gridwidth": 2,
            "linecolor": "white",
            "showbackground": true,
            "ticks": "",
            "zerolinecolor": "white"
           }
          },
          "shapedefaults": {
           "line": {
            "color": "#2a3f5f"
           }
          },
          "ternary": {
           "aaxis": {
            "gridcolor": "white",
            "linecolor": "white",
            "ticks": ""
           },
           "baxis": {
            "gridcolor": "white",
            "linecolor": "white",
            "ticks": ""
           },
           "bgcolor": "#E5ECF6",
           "caxis": {
            "gridcolor": "white",
            "linecolor": "white",
            "ticks": ""
           }
          },
          "title": {
           "x": 0.05
          },
          "xaxis": {
           "automargin": true,
           "gridcolor": "white",
           "linecolor": "white",
           "ticks": "",
           "title": {
            "standoff": 15
           },
           "zerolinecolor": "white",
           "zerolinewidth": 2
          },
          "yaxis": {
           "automargin": true,
           "gridcolor": "white",
           "linecolor": "white",
           "ticks": "",
           "title": {
            "standoff": 15
           },
           "zerolinecolor": "white",
           "zerolinewidth": 2
          }
         }
        },
        "title": {
         "text": "Inter Observer Variability: Box Plot"
        },
        "xaxis": {
         "anchor": "y",
         "domain": [
          0,
          1
         ],
         "title": {
          "text": "variable"
         }
        },
        "yaxis": {
         "anchor": "x",
         "domain": [
          0,
          1
         ],
         "title": {
          "text": "Neutrophil Count"
         }
        }
       }
      }
     },
     "metadata": {},
     "output_type": "display_data"
    }
   ],
   "source": [
    "fig = px.box(InterVar, y=['Observer – 1', 'Observer – 2'], \n",
    "             title='Inter Observer Variability: Box Plot')\n",
    "fig.update_layout(yaxis_title='Neutrophil Count')\n",
    "fig.show()"
   ]
  },
  {
   "cell_type": "code",
   "execution_count": 67,
   "metadata": {},
   "outputs": [
    {
     "data": {
      "application/vnd.plotly.v1+json": {
       "config": {
        "plotlyServerURL": "https://plot.ly"
       },
       "data": [
        {
         "alignmentgroup": "True",
         "box": {
          "visible": false
         },
         "hovertemplate": "variable=%{x}<br>value=%{y}<extra></extra>",
         "legendgroup": "",
         "marker": {
          "color": "#636efa"
         },
         "name": "",
         "offsetgroup": "",
         "orientation": "v",
         "scalegroup": "True",
         "showlegend": false,
         "type": "violin",
         "x": [
          "Observer – 1",
          "Observer – 1",
          "Observer – 1",
          "Observer – 1",
          "Observer – 1",
          "Observer – 1",
          "Observer – 1",
          "Observer – 1",
          "Observer – 1",
          "Observer – 1",
          "Observer – 1",
          "Observer – 1",
          "Observer – 1",
          "Observer – 1",
          "Observer – 1",
          "Observer – 1",
          "Observer – 1",
          "Observer – 1",
          "Observer – 1",
          "Observer – 1",
          "Observer – 1",
          "Observer – 1",
          "Observer – 1",
          "Observer – 1",
          "Observer – 1",
          "Observer – 1",
          "Observer – 1",
          "Observer – 1",
          "Observer – 1",
          "Observer – 2",
          "Observer – 2",
          "Observer – 2",
          "Observer – 2",
          "Observer – 2",
          "Observer – 2",
          "Observer – 2",
          "Observer – 2",
          "Observer – 2",
          "Observer – 2",
          "Observer – 2",
          "Observer – 2",
          "Observer – 2",
          "Observer – 2",
          "Observer – 2",
          "Observer – 2",
          "Observer – 2",
          "Observer – 2",
          "Observer – 2",
          "Observer – 2",
          "Observer – 2",
          "Observer – 2",
          "Observer – 2",
          "Observer – 2",
          "Observer – 2",
          "Observer – 2",
          "Observer – 2",
          "Observer – 2",
          "Observer – 2"
         ],
         "x0": " ",
         "xaxis": "x",
         "y": {
          "bdata": "ICktEyMKIhoaOBcYJg8VFQsrJg8PDhgYLCggEQ8VHRoSGggQFBcWDBUXDBAODxsdDwwHEA4bIRsMCw==",
          "dtype": "i1"
         },
         "y0": " ",
         "yaxis": "y"
        }
       ],
       "layout": {
        "legend": {
         "tracegroupgap": 0
        },
        "template": {
         "data": {
          "bar": [
           {
            "error_x": {
             "color": "#2a3f5f"
            },
            "error_y": {
             "color": "#2a3f5f"
            },
            "marker": {
             "line": {
              "color": "#E5ECF6",
              "width": 0.5
             },
             "pattern": {
              "fillmode": "overlay",
              "size": 10,
              "solidity": 0.2
             }
            },
            "type": "bar"
           }
          ],
          "barpolar": [
           {
            "marker": {
             "line": {
              "color": "#E5ECF6",
              "width": 0.5
             },
             "pattern": {
              "fillmode": "overlay",
              "size": 10,
              "solidity": 0.2
             }
            },
            "type": "barpolar"
           }
          ],
          "carpet": [
           {
            "aaxis": {
             "endlinecolor": "#2a3f5f",
             "gridcolor": "white",
             "linecolor": "white",
             "minorgridcolor": "white",
             "startlinecolor": "#2a3f5f"
            },
            "baxis": {
             "endlinecolor": "#2a3f5f",
             "gridcolor": "white",
             "linecolor": "white",
             "minorgridcolor": "white",
             "startlinecolor": "#2a3f5f"
            },
            "type": "carpet"
           }
          ],
          "choropleth": [
           {
            "colorbar": {
             "outlinewidth": 0,
             "ticks": ""
            },
            "type": "choropleth"
           }
          ],
          "contour": [
           {
            "colorbar": {
             "outlinewidth": 0,
             "ticks": ""
            },
            "colorscale": [
             [
              0,
              "#0d0887"
             ],
             [
              0.1111111111111111,
              "#46039f"
             ],
             [
              0.2222222222222222,
              "#7201a8"
             ],
             [
              0.3333333333333333,
              "#9c179e"
             ],
             [
              0.4444444444444444,
              "#bd3786"
             ],
             [
              0.5555555555555556,
              "#d8576b"
             ],
             [
              0.6666666666666666,
              "#ed7953"
             ],
             [
              0.7777777777777778,
              "#fb9f3a"
             ],
             [
              0.8888888888888888,
              "#fdca26"
             ],
             [
              1,
              "#f0f921"
             ]
            ],
            "type": "contour"
           }
          ],
          "contourcarpet": [
           {
            "colorbar": {
             "outlinewidth": 0,
             "ticks": ""
            },
            "type": "contourcarpet"
           }
          ],
          "heatmap": [
           {
            "colorbar": {
             "outlinewidth": 0,
             "ticks": ""
            },
            "colorscale": [
             [
              0,
              "#0d0887"
             ],
             [
              0.1111111111111111,
              "#46039f"
             ],
             [
              0.2222222222222222,
              "#7201a8"
             ],
             [
              0.3333333333333333,
              "#9c179e"
             ],
             [
              0.4444444444444444,
              "#bd3786"
             ],
             [
              0.5555555555555556,
              "#d8576b"
             ],
             [
              0.6666666666666666,
              "#ed7953"
             ],
             [
              0.7777777777777778,
              "#fb9f3a"
             ],
             [
              0.8888888888888888,
              "#fdca26"
             ],
             [
              1,
              "#f0f921"
             ]
            ],
            "type": "heatmap"
           }
          ],
          "histogram": [
           {
            "marker": {
             "pattern": {
              "fillmode": "overlay",
              "size": 10,
              "solidity": 0.2
             }
            },
            "type": "histogram"
           }
          ],
          "histogram2d": [
           {
            "colorbar": {
             "outlinewidth": 0,
             "ticks": ""
            },
            "colorscale": [
             [
              0,
              "#0d0887"
             ],
             [
              0.1111111111111111,
              "#46039f"
             ],
             [
              0.2222222222222222,
              "#7201a8"
             ],
             [
              0.3333333333333333,
              "#9c179e"
             ],
             [
              0.4444444444444444,
              "#bd3786"
             ],
             [
              0.5555555555555556,
              "#d8576b"
             ],
             [
              0.6666666666666666,
              "#ed7953"
             ],
             [
              0.7777777777777778,
              "#fb9f3a"
             ],
             [
              0.8888888888888888,
              "#fdca26"
             ],
             [
              1,
              "#f0f921"
             ]
            ],
            "type": "histogram2d"
           }
          ],
          "histogram2dcontour": [
           {
            "colorbar": {
             "outlinewidth": 0,
             "ticks": ""
            },
            "colorscale": [
             [
              0,
              "#0d0887"
             ],
             [
              0.1111111111111111,
              "#46039f"
             ],
             [
              0.2222222222222222,
              "#7201a8"
             ],
             [
              0.3333333333333333,
              "#9c179e"
             ],
             [
              0.4444444444444444,
              "#bd3786"
             ],
             [
              0.5555555555555556,
              "#d8576b"
             ],
             [
              0.6666666666666666,
              "#ed7953"
             ],
             [
              0.7777777777777778,
              "#fb9f3a"
             ],
             [
              0.8888888888888888,
              "#fdca26"
             ],
             [
              1,
              "#f0f921"
             ]
            ],
            "type": "histogram2dcontour"
           }
          ],
          "mesh3d": [
           {
            "colorbar": {
             "outlinewidth": 0,
             "ticks": ""
            },
            "type": "mesh3d"
           }
          ],
          "parcoords": [
           {
            "line": {
             "colorbar": {
              "outlinewidth": 0,
              "ticks": ""
             }
            },
            "type": "parcoords"
           }
          ],
          "pie": [
           {
            "automargin": true,
            "type": "pie"
           }
          ],
          "scatter": [
           {
            "fillpattern": {
             "fillmode": "overlay",
             "size": 10,
             "solidity": 0.2
            },
            "type": "scatter"
           }
          ],
          "scatter3d": [
           {
            "line": {
             "colorbar": {
              "outlinewidth": 0,
              "ticks": ""
             }
            },
            "marker": {
             "colorbar": {
              "outlinewidth": 0,
              "ticks": ""
             }
            },
            "type": "scatter3d"
           }
          ],
          "scattercarpet": [
           {
            "marker": {
             "colorbar": {
              "outlinewidth": 0,
              "ticks": ""
             }
            },
            "type": "scattercarpet"
           }
          ],
          "scattergeo": [
           {
            "marker": {
             "colorbar": {
              "outlinewidth": 0,
              "ticks": ""
             }
            },
            "type": "scattergeo"
           }
          ],
          "scattergl": [
           {
            "marker": {
             "colorbar": {
              "outlinewidth": 0,
              "ticks": ""
             }
            },
            "type": "scattergl"
           }
          ],
          "scattermap": [
           {
            "marker": {
             "colorbar": {
              "outlinewidth": 0,
              "ticks": ""
             }
            },
            "type": "scattermap"
           }
          ],
          "scattermapbox": [
           {
            "marker": {
             "colorbar": {
              "outlinewidth": 0,
              "ticks": ""
             }
            },
            "type": "scattermapbox"
           }
          ],
          "scatterpolar": [
           {
            "marker": {
             "colorbar": {
              "outlinewidth": 0,
              "ticks": ""
             }
            },
            "type": "scatterpolar"
           }
          ],
          "scatterpolargl": [
           {
            "marker": {
             "colorbar": {
              "outlinewidth": 0,
              "ticks": ""
             }
            },
            "type": "scatterpolargl"
           }
          ],
          "scatterternary": [
           {
            "marker": {
             "colorbar": {
              "outlinewidth": 0,
              "ticks": ""
             }
            },
            "type": "scatterternary"
           }
          ],
          "surface": [
           {
            "colorbar": {
             "outlinewidth": 0,
             "ticks": ""
            },
            "colorscale": [
             [
              0,
              "#0d0887"
             ],
             [
              0.1111111111111111,
              "#46039f"
             ],
             [
              0.2222222222222222,
              "#7201a8"
             ],
             [
              0.3333333333333333,
              "#9c179e"
             ],
             [
              0.4444444444444444,
              "#bd3786"
             ],
             [
              0.5555555555555556,
              "#d8576b"
             ],
             [
              0.6666666666666666,
              "#ed7953"
             ],
             [
              0.7777777777777778,
              "#fb9f3a"
             ],
             [
              0.8888888888888888,
              "#fdca26"
             ],
             [
              1,
              "#f0f921"
             ]
            ],
            "type": "surface"
           }
          ],
          "table": [
           {
            "cells": {
             "fill": {
              "color": "#EBF0F8"
             },
             "line": {
              "color": "white"
             }
            },
            "header": {
             "fill": {
              "color": "#C8D4E3"
             },
             "line": {
              "color": "white"
             }
            },
            "type": "table"
           }
          ]
         },
         "layout": {
          "annotationdefaults": {
           "arrowcolor": "#2a3f5f",
           "arrowhead": 0,
           "arrowwidth": 1
          },
          "autotypenumbers": "strict",
          "coloraxis": {
           "colorbar": {
            "outlinewidth": 0,
            "ticks": ""
           }
          },
          "colorscale": {
           "diverging": [
            [
             0,
             "#8e0152"
            ],
            [
             0.1,
             "#c51b7d"
            ],
            [
             0.2,
             "#de77ae"
            ],
            [
             0.3,
             "#f1b6da"
            ],
            [
             0.4,
             "#fde0ef"
            ],
            [
             0.5,
             "#f7f7f7"
            ],
            [
             0.6,
             "#e6f5d0"
            ],
            [
             0.7,
             "#b8e186"
            ],
            [
             0.8,
             "#7fbc41"
            ],
            [
             0.9,
             "#4d9221"
            ],
            [
             1,
             "#276419"
            ]
           ],
           "sequential": [
            [
             0,
             "#0d0887"
            ],
            [
             0.1111111111111111,
             "#46039f"
            ],
            [
             0.2222222222222222,
             "#7201a8"
            ],
            [
             0.3333333333333333,
             "#9c179e"
            ],
            [
             0.4444444444444444,
             "#bd3786"
            ],
            [
             0.5555555555555556,
             "#d8576b"
            ],
            [
             0.6666666666666666,
             "#ed7953"
            ],
            [
             0.7777777777777778,
             "#fb9f3a"
            ],
            [
             0.8888888888888888,
             "#fdca26"
            ],
            [
             1,
             "#f0f921"
            ]
           ],
           "sequentialminus": [
            [
             0,
             "#0d0887"
            ],
            [
             0.1111111111111111,
             "#46039f"
            ],
            [
             0.2222222222222222,
             "#7201a8"
            ],
            [
             0.3333333333333333,
             "#9c179e"
            ],
            [
             0.4444444444444444,
             "#bd3786"
            ],
            [
             0.5555555555555556,
             "#d8576b"
            ],
            [
             0.6666666666666666,
             "#ed7953"
            ],
            [
             0.7777777777777778,
             "#fb9f3a"
            ],
            [
             0.8888888888888888,
             "#fdca26"
            ],
            [
             1,
             "#f0f921"
            ]
           ]
          },
          "colorway": [
           "#636efa",
           "#EF553B",
           "#00cc96",
           "#ab63fa",
           "#FFA15A",
           "#19d3f3",
           "#FF6692",
           "#B6E880",
           "#FF97FF",
           "#FECB52"
          ],
          "font": {
           "color": "#2a3f5f"
          },
          "geo": {
           "bgcolor": "white",
           "lakecolor": "white",
           "landcolor": "#E5ECF6",
           "showlakes": true,
           "showland": true,
           "subunitcolor": "white"
          },
          "hoverlabel": {
           "align": "left"
          },
          "hovermode": "closest",
          "mapbox": {
           "style": "light"
          },
          "paper_bgcolor": "white",
          "plot_bgcolor": "#E5ECF6",
          "polar": {
           "angularaxis": {
            "gridcolor": "white",
            "linecolor": "white",
            "ticks": ""
           },
           "bgcolor": "#E5ECF6",
           "radialaxis": {
            "gridcolor": "white",
            "linecolor": "white",
            "ticks": ""
           }
          },
          "scene": {
           "xaxis": {
            "backgroundcolor": "#E5ECF6",
            "gridcolor": "white",
            "gridwidth": 2,
            "linecolor": "white",
            "showbackground": true,
            "ticks": "",
            "zerolinecolor": "white"
           },
           "yaxis": {
            "backgroundcolor": "#E5ECF6",
            "gridcolor": "white",
            "gridwidth": 2,
            "linecolor": "white",
            "showbackground": true,
            "ticks": "",
            "zerolinecolor": "white"
           },
           "zaxis": {
            "backgroundcolor": "#E5ECF6",
            "gridcolor": "white",
            "gridwidth": 2,
            "linecolor": "white",
            "showbackground": true,
            "ticks": "",
            "zerolinecolor": "white"
           }
          },
          "shapedefaults": {
           "line": {
            "color": "#2a3f5f"
           }
          },
          "ternary": {
           "aaxis": {
            "gridcolor": "white",
            "linecolor": "white",
            "ticks": ""
           },
           "baxis": {
            "gridcolor": "white",
            "linecolor": "white",
            "ticks": ""
           },
           "bgcolor": "#E5ECF6",
           "caxis": {
            "gridcolor": "white",
            "linecolor": "white",
            "ticks": ""
           }
          },
          "title": {
           "x": 0.05
          },
          "xaxis": {
           "automargin": true,
           "gridcolor": "white",
           "linecolor": "white",
           "ticks": "",
           "title": {
            "standoff": 15
           },
           "zerolinecolor": "white",
           "zerolinewidth": 2
          },
          "yaxis": {
           "automargin": true,
           "gridcolor": "white",
           "linecolor": "white",
           "ticks": "",
           "title": {
            "standoff": 15
           },
           "zerolinecolor": "white",
           "zerolinewidth": 2
          }
         }
        },
        "title": {
         "text": "Inter Observer Variability: Violin Plot"
        },
        "violinmode": "group",
        "xaxis": {
         "anchor": "y",
         "domain": [
          0,
          1
         ],
         "title": {
          "text": "variable"
         }
        },
        "yaxis": {
         "anchor": "x",
         "domain": [
          0,
          1
         ],
         "title": {
          "text": "Neutrophil Count"
         }
        }
       }
      }
     },
     "metadata": {},
     "output_type": "display_data"
    }
   ],
   "source": [
    "fig = px.violin(InterVar, y=['Observer – 1', 'Observer – 2'], \n",
    "                title='Inter Observer Variability: Violin Plot')\n",
    "fig.update_layout(yaxis_title='Neutrophil Count')\n",
    "fig.show()"
   ]
  },
  {
   "cell_type": "code",
   "execution_count": 63,
   "metadata": {},
   "outputs": [
    {
     "data": {
      "image/png": "[encoded data removed]",
      "text/plain": [
       "<Figure size 640x480 with 2 Axes>"
      ]
     },
     "metadata": {},
     "output_type": "display_data"
    }
   ],
   "source": [
    "import seaborn as sns\n",
    "\n",
    "\n",
    "corr = InterVar[['Observer – 1', 'Observer – 2']].corr()\n",
    "sns.heatmap(corr, annot=True, cmap='coolwarm', vmin=0, vmax=1)\n",
    "plt.title('Correlation Heatmap: Inter Observer Agreement')\n",
    "plt.show()"
   ]
  },
  {
   "cell_type": "code",
   "execution_count": 2,
   "metadata": {},
   "outputs": [],
   "source": [
    "def calculate_iou(box1, box2):\n",
    "    x1_1, y1_1, x2_1, y2_1 = box1\n",
    "    x1_2, y1_2, x2_2, y2_2 = box2\n",
    "\n",
    "    x1 = max(x1_1, x1_2)\n",
    "    y1 = max(y1_1, y1_2)\n",
    "    x2 = min(x2_1, x2_2)\n",
    "    y2 = min(y2_1, y2_2)\n",
    "    intersection_area = max(0, x2 - x1) * max(0, y2 - y1)\n",
    "\n",
    "    box1_area = (x2_1 - x1_1) * (y2_1 - y1_1)\n",
    "    box2_area = (x2_2 - x1_2) * (y2_2 - y1_2)\n",
    "    union_area = box1_area + box2_area - intersection_area\n",
    "\n",
    "    iou = intersection_area / union_area if union_area > 0 else 0\n",
    "    return iou"
   ]
  },
  {
   "cell_type": "code",
   "execution_count": 3,
   "metadata": {},
   "outputs": [],
   "source": [
    "def get_label(count):\n",
    "    if count == 0:\n",
    "        return 0\n",
    "    elif count < 5:\n",
    "        return 1\n",
    "    else:\n",
    "        return 2"
   ]
  },
  {
   "cell_type": "code",
   "execution_count": 64,
   "metadata": {},
   "outputs": [],
   "source": [
    "def process_image(image_path, label_path, result, model_output_dir):\n",
    "    image = cv2.imread(image_path)\n",
    "    image_height, image_width, _ = image.shape\n",
    "\n",
    "    ground_truth_boxes = []\n",
    "    if os.path.exists(label_path):\n",
    "        with open(label_path, \"r\") as f:\n",
    "            for line in f.readlines():\n",
    "                class_id, x_center, y_center, width, height = map(float, line.strip().split())\n",
    "                x1 = (x_center - width / 2) * image_width\n",
    "                y1 = (y_center - height / 2) * image_height\n",
    "                x2 = (x_center + width / 2) * image_width\n",
    "                y2 = (y_center + height / 2) * image_height\n",
    "                ground_truth_boxes.append([x1, y1, x2, y2])\n",
    "\n",
    "    predicted_boxes = []\n",
    "    for box in result.boxes:\n",
    "        x1, y1, x2, y2 = box.xyxy[0]\n",
    "        predicted_boxes.append([x1, y1, x2, y2])\n",
    "\n",
    "    missed = 0\n",
    "    false_positives = 0\n",
    "    true_positives = 0\n",
    "    matched_gt_boxes = [False] * len(ground_truth_boxes)\n",
    "\n",
    "    for pred_box in predicted_boxes:\n",
    "        found = False\n",
    "        best_iou = 0.1\n",
    "        best_match_idx = -1\n",
    "\n",
    "        for i, gt_box in enumerate(ground_truth_boxes):\n",
    "            if not matched_gt_boxes[i]:\n",
    "                iou = calculate_iou(pred_box, gt_box)\n",
    "                if iou > best_iou:\n",
    "                    best_iou = iou\n",
    "                    best_match_idx = i\n",
    "\n",
    "        if best_match_idx != -1:\n",
    "            true_positives += 1\n",
    "            matched_gt_boxes[best_match_idx] = True\n",
    "        else:\n",
    "            false_positives += 1\n",
    "\n",
    "    for i, matched in enumerate(matched_gt_boxes):\n",
    "        if not matched:\n",
    "            missed += 1\n",
    "\n",
    "    for gt_box in ground_truth_boxes:\n",
    "        cv2.rectangle(image, (int(gt_box[0]), int(gt_box[1])), (int(gt_box[2]), int(gt_box[3])), (0, 255, 0), 4)\n",
    "\n",
    "    for pred_box in predicted_boxes:\n",
    "        center_x = int((pred_box[0] + pred_box[2]) / 2)\n",
    "        center_y = int((pred_box[1] + pred_box[3]) / 2)\n",
    "        radius = int(min(pred_box[2] - pred_box[0], pred_box[3] - pred_box[1]) / 2)\n",
    "        cv2.circle(image, (center_x, center_y), radius, (0, 0, 255), 4)\n",
    "\n",
    "    text = f\"Ground Truth: {len(ground_truth_boxes)}, Predicted: {len(predicted_boxes)}\"\n",
    "    cv2.putText(image, text, (10, 30), cv2.FONT_HERSHEY_SIMPLEX, 1, (0, 0, 0), 2, cv2.LINE_AA)\n",
    "\n",
    "    output_image_path = os.path.join(model_output_dir, f\"output_{os.path.basename(image_path)}\")\n",
    "    plt.imsave(output_image_path, image)\n",
    "\n",
    "    return missed, false_positives, true_positives, len(ground_truth_boxes), len(predicted_boxes)\n",
    "\n",
    "def evaluate_models_for_label_dir(model_names, test_images_dir, test_labels_dir):\n",
    "    model_performance = {}\n",
    "\n",
    "    for model_name in model_names:\n",
    "        model_output_dir = f\"out/{model_name.replace('.pt', '')}_{os.path.basename(test_labels_dir.rstrip('/'))}\"\n",
    "        model_csv_path = f\"output_metrics_{os.path.basename(test_labels_dir.rstrip('/'))}_{model_name.replace('.pt', '')}.csv\"\n",
    "\n",
    "        if os.path.exists(model_output_dir) and os.path.exists(model_csv_path):\n",
    "            print(f\"Loading results for model: {model_name} and label dir: {test_labels_dir} from existing CSV file\")\n",
    "            total_missed = 0\n",
    "            total_false_positives = 0\n",
    "            total_true_positives = 0\n",
    "\n",
    "            with open(model_csv_path, mode=\"r\") as csv_file:\n",
    "                reader = csv.DictReader(csv_file)\n",
    "                for row in reader:\n",
    "                    total_missed += int(row[\"missed\"])\n",
    "                    total_false_positives += int(row[\"false_positives\"])\n",
    "                    total_true_positives += int(row[\"true_positives\"])\n",
    "\n",
    "            model_performance[model_name] = {\n",
    "                \"total_missed\": total_missed,\n",
    "                \"total_false_positives\": total_false_positives,\n",
    "                \"total_true_positives\": total_true_positives\n",
    "            }\n",
    "            continue\n",
    "\n",
    "        os.makedirs(model_output_dir, exist_ok=True)\n",
    "        print(f\"Evaluating model: {model_name} for label dir: {test_labels_dir}\")\n",
    "        model = YOLO(f\"models/{model_name}\")\n",
    "        results = model.predict(source=test_images_dir, show_labels=False, show_conf=False, conf=0.075, verbose=False)\n",
    "\n",
    "        total_missed = 0\n",
    "        total_false_positives = 0\n",
    "        total_true_positives = 0\n",
    "\n",
    "        with open(model_csv_path, mode=\"w\", newline=\"\") as csv_file:\n",
    "            fieldnames = [\n",
    "                \"name\", \"ground truth neutrophils\", \"predicted neutrophils\", \"missed\",\n",
    "                \"false_positives\", \"true_positives\", \"label_groundtruth\", \"label_prediction\"\n",
    "            ]\n",
    "            writer = csv.DictWriter(csv_file, fieldnames=fieldnames)\n",
    "            writer.writeheader()\n",
    "\n",
    "            for result in results:\n",
    "                image_name = os.path.basename(result.path)\n",
    "                image_path = os.path.join(test_images_dir, image_name)\n",
    "                label_path = os.path.join(test_labels_dir, image_name.replace(\".png\", \".txt\"))\n",
    "\n",
    "                if not os.path.exists(label_path):\n",
    "                    continue\n",
    "\n",
    "                missed, false_positives, true_positives, gt_count, pred_count = process_image(\n",
    "                    image_path, label_path, result, model_output_dir\n",
    "                )\n",
    "\n",
    "                total_missed += missed\n",
    "                total_false_positives += false_positives\n",
    "                total_true_positives += true_positives\n",
    "\n",
    "                label_groundtruth = get_label(gt_count)\n",
    "                label_prediction = get_label(pred_count)\n",
    "\n",
    "                writer.writerow({\n",
    "                    \"name\": image_name,\n",
    "                    \"ground truth neutrophils\": gt_count,\n",
    "                    \"predicted neutrophils\": pred_count,\n",
    "                    \"missed\": missed,\n",
    "                    \"false_positives\": false_positives,\n",
    "                    \"true_positives\": true_positives,\n",
    "                    \"label_groundtruth\": label_groundtruth,\n",
    "                    \"label_prediction\": label_prediction\n",
    "                })\n",
    "\n",
    "        model_performance[model_name] = {\n",
    "            \"total_missed\": total_missed,\n",
    "            \"total_false_positives\": total_false_positives,\n",
    "            \"total_true_positives\": total_true_positives\n",
    "        }\n",
    "\n",
    "    return model_performance"
   ]
  },
  {
   "cell_type": "code",
   "execution_count": 65,
   "metadata": {},
   "outputs": [
    {
     "name": "stdout",
     "output_type": "stream",
     "text": [
      "Evaluating models for label directory: Union_Labels/\n",
      "Evaluating model: best_11x_datanew_NoAug_b16.pt for label dir: Union_Labels/\n",
      "Evaluating model: best_11s_dataold_Noaug_b16.pt for label dir: Union_Labels/\n",
      "Evaluating model: best_8s_dataold_Noaug_b16.pt for label dir: Union_Labels/\n",
      "Evaluating model: best_11s_datanew_NoAug_b16.pt for label dir: Union_Labels/\n",
      "Evaluating model: best_11s_1.pt for label dir: Union_Labels/\n",
      "Evaluating model: best_11m_dataold_NoAug_b16.pt for label dir: Union_Labels/\n",
      "Performance for label directory Union_Labels/:\n",
      "Model: best_11x_datanew_NoAug_b16.pt, Missed: 276, False Positives: 295, True Positives: 605\n",
      "Model: best_11s_dataold_Noaug_b16.pt, Missed: 131, False Positives: 929, True Positives: 750\n",
      "Model: best_8s_dataold_Noaug_b16.pt, Missed: 221, False Positives: 538, True Positives: 660\n",
      "Model: best_11s_datanew_NoAug_b16.pt, Missed: 249, False Positives: 406, True Positives: 632\n",
      "Model: best_11s_1.pt, Missed: 174, False Positives: 657, True Positives: 707\n",
      "Model: best_11m_dataold_NoAug_b16.pt, Missed: 246, False Positives: 401, True Positives: 635\n",
      "Evaluating models for label directory: Intersection_Labels/\n",
      "Evaluating model: best_11x_datanew_NoAug_b16.pt for label dir: Intersection_Labels/\n",
      "Evaluating model: best_11s_dataold_Noaug_b16.pt for label dir: Intersection_Labels/\n",
      "Evaluating model: best_8s_dataold_Noaug_b16.pt for label dir: Intersection_Labels/\n",
      "Evaluating model: best_11s_datanew_NoAug_b16.pt for label dir: Intersection_Labels/\n",
      "Evaluating model: best_11s_1.pt for label dir: Intersection_Labels/\n",
      "Evaluating model: best_11m_dataold_NoAug_b16.pt for label dir: Intersection_Labels/\n",
      "Performance for label directory Intersection_Labels/:\n",
      "Model: best_11x_datanew_NoAug_b16.pt, Missed: 63, False Positives: 494, True Positives: 406\n",
      "Model: best_11s_dataold_Noaug_b16.pt, Missed: 29, False Positives: 1239, True Positives: 440\n",
      "Model: best_8s_dataold_Noaug_b16.pt, Missed: 51, False Positives: 780, True Positives: 418\n",
      "Model: best_11s_datanew_NoAug_b16.pt, Missed: 59, False Positives: 628, True Positives: 410\n",
      "Model: best_11s_1.pt, Missed: 31, False Positives: 926, True Positives: 438\n",
      "Model: best_11m_dataold_NoAug_b16.pt, Missed: 69, False Positives: 636, True Positives: 400\n",
      "Evaluating models for label directory: labels_O1/\n",
      "Evaluating model: best_11x_datanew_NoAug_b16.pt for label dir: labels_O1/\n",
      "Evaluating model: best_11s_dataold_Noaug_b16.pt for label dir: labels_O1/\n",
      "Evaluating model: best_8s_dataold_Noaug_b16.pt for label dir: labels_O1/\n",
      "Evaluating model: best_11s_datanew_NoAug_b16.pt for label dir: labels_O1/\n",
      "Evaluating model: best_11s_1.pt for label dir: labels_O1/\n",
      "Evaluating model: best_11m_dataold_NoAug_b16.pt for label dir: labels_O1/\n",
      "Performance for label directory labels_O1/:\n",
      "Model: best_11x_datanew_NoAug_b16.pt, Missed: 218, False Positives: 320, True Positives: 580\n",
      "Model: best_11s_dataold_Noaug_b16.pt, Missed: 95, False Positives: 976, True Positives: 703\n",
      "Model: best_8s_dataold_Noaug_b16.pt, Missed: 169, False Positives: 569, True Positives: 629\n",
      "Model: best_11s_datanew_NoAug_b16.pt, Missed: 184, False Positives: 424, True Positives: 614\n",
      "Model: best_11s_1.pt, Missed: 123, False Positives: 689, True Positives: 675\n",
      "Model: best_11m_dataold_NoAug_b16.pt, Missed: 194, False Positives: 432, True Positives: 604\n",
      "Evaluating models for label directory: labels_O2/\n",
      "Evaluating model: best_11x_datanew_NoAug_b16.pt for label dir: labels_O2/\n",
      "Evaluating model: best_11s_dataold_Noaug_b16.pt for label dir: labels_O2/\n",
      "Evaluating model: best_8s_dataold_Noaug_b16.pt for label dir: labels_O2/\n",
      "Evaluating model: best_11s_datanew_NoAug_b16.pt for label dir: labels_O2/\n",
      "Evaluating model: best_11s_1.pt for label dir: labels_O2/\n",
      "Evaluating model: best_11m_dataold_NoAug_b16.pt for label dir: labels_O2/\n",
      "Performance for label directory labels_O2/:\n",
      "Model: best_11x_datanew_NoAug_b16.pt, Missed: 112, False Positives: 402, True Positives: 391\n",
      "Model: best_11s_dataold_Noaug_b16.pt, Missed: 53, False Positives: 1059, True Positives: 450\n",
      "Model: best_8s_dataold_Noaug_b16.pt, Missed: 93, False Positives: 639, True Positives: 410\n",
      "Model: best_11s_datanew_NoAug_b16.pt, Missed: 111, False Positives: 541, True Positives: 392\n",
      "Model: best_11s_1.pt, Missed: 72, False Positives: 785, True Positives: 431\n",
      "Model: best_11m_dataold_NoAug_b16.pt, Missed: 112, False Positives: 522, True Positives: 391\n"
     ]
    }
   ],
   "source": [
    "test_images_dir = \"images/\"\n",
    "test_labels_dirs = [\"Union_Labels/\", \"Intersection_Labels/\", \"labels_O1/\", \"labels_O2/\"]\n",
    "model_names = os.listdir(\"models\")\n",
    "\n",
    "for test_labels_dir in test_labels_dirs:\n",
    "    print(f\"Evaluating models for label directory: {test_labels_dir}\")\n",
    "    model_performance = evaluate_models_for_label_dir(model_names, test_images_dir, test_labels_dir)\n",
    "\n",
    "\n",
    "    print(f\"Performance for label directory {test_labels_dir}:\")\n",
    "    for model_name, metrics in model_performance.items():\n",
    "        print(f\"Model: {model_name}, Missed: {metrics['total_missed']}, False Positives: {metrics['total_false_positives']}, True Positives: {metrics['total_true_positives']}\")"
   ]
  },
  {
   "cell_type": "code",
   "execution_count": null,
   "metadata": {},
   "outputs": [],
   "source": [
    "def process_image(image_path, label_path, result, conf_threshold):\n",
    "    image = cv2.imread(image_path)\n",
    "    image_height, image_width, _ = image.shape\n",
    "\n",
    "    ground_truth_boxes = []\n",
    "    if os.path.exists(label_path):\n",
    "        with open(label_path, \"r\") as f:\n",
    "            for line in f.readlines():\n",
    "                class_id, x_center, y_center, width, height = map(float, line.strip().split())\n",
    "                x1 = (x_center - width / 2) * image_width\n",
    "                y1 = (y_center - height / 2) * image_height\n",
    "                x2 = (x_center + width / 2) * image_width\n",
    "                y2 = (y_center + height / 2) * image_height\n",
    "                ground_truth_boxes.append([x1, y1, x2, y2])\n",
    "\n",
    "    predicted_boxes = []\n",
    "    for box in result.boxes:\n",
    "        if box.conf[0] >= conf_threshold:\n",
    "            x1, y1, x2, y2 = box.xyxy[0]\n",
    "            predicted_boxes.append([x1, y1, x2, y2])\n",
    "\n",
    "    matched_gt_boxes = [False] * len(ground_truth_boxes)\n",
    "    true_positives = 0\n",
    "    false_positives = 0\n",
    "\n",
    "    for pred_box in predicted_boxes:\n",
    "        found = False\n",
    "        for i, gt_box in enumerate(ground_truth_boxes):\n",
    "            if calculate_iou(pred_box, gt_box) > 0.1: \n",
    "                found = True\n",
    "                if not matched_gt_boxes[i]:\n",
    "                    true_positives += 1\n",
    "                    matched_gt_boxes[i] = True\n",
    "                break\n",
    "        if not found:\n",
    "            false_positives += 1\n",
    "\n",
    "    return true_positives, false_positives, len(ground_truth_boxes)\n",
    "\n",
    "def evaluate_threshold(conf_threshold, model, test_images_dir, test_labels_dir):\n",
    "    results = model.predict(source=test_images_dir, show_labels=False, show_conf=False, conf=conf_threshold, verbose=False)\n",
    "\n",
    "    total_true_positives = 0\n",
    "    total_false_positives = 0\n",
    "    total_ground_truth = 0\n",
    "\n",
    "    for result in results:\n",
    "        image_name = os.path.basename(result.path)\n",
    "        image_path = os.path.join(test_images_dir, image_name)\n",
    "        label_path = os.path.join(test_labels_dir, image_name.replace(\".png\", \".txt\"))\n",
    "\n",
    "        if not os.path.exists(label_path):\n",
    "            continue\n",
    "\n",
    "        true_positives, false_positives, ground_truth = process_image(image_path, label_path, result, conf_threshold)\n",
    "        total_true_positives += true_positives\n",
    "        total_false_positives += false_positives\n",
    "        total_ground_truth += ground_truth\n",
    "\n",
    "    precision = total_true_positives / (total_true_positives + total_false_positives) if (total_true_positives + total_false_positives) > 0 else 0\n",
    "    recall = total_true_positives / total_ground_truth if total_ground_truth > 0 else 0\n",
    "    accuracy = total_true_positives / total_ground_truth if total_ground_truth > 0 else 0\n",
    "\n",
    "    return conf_threshold, precision, recall, accuracy\n",
    "\n",
    "def evaluate_all_models(model_names, test_images_dir, test_labels_dirs):\n",
    "    confidence_thresholds = np.linspace(0.0, 1.0, 100)\n",
    "\n",
    "    for model_name in model_names:\n",
    "        print(f\"Evaluating model: {model_name}\")\n",
    "        model = YOLO(f\"models/{model_name}\")\n",
    "\n",
    "        for test_labels_dir in test_labels_dirs:\n",
    "            print(f\"Processing label directory: {test_labels_dir}\")\n",
    "\n",
    "            # Replace tqdm and list comprehension with a normal for loop\n",
    "            results = []\n",
    "            \n",
    "            for conf_threshold in tqdm(confidence_thresholds, desc=\"Processing thresholds\"):\n",
    "                \n",
    "                result = evaluate_threshold(conf_threshold, model, test_images_dir, test_labels_dir)\n",
    "                results.append(result)\n",
    "\n",
    "            conf_thresholds_tracked, precisions, recalls, accuracies = zip(*results)\n",
    "\n",
    "            f1_scores = [2 * (p * r) / (p + r) if (p + r) > 0 else 0 for p, r in zip(precisions, recalls)]\n",
    "\n",
    "            fig = go.Figure()\n",
    "            fig.add_trace(go.Scatter(\n",
    "                x=recalls,\n",
    "                y=precisions,\n",
    "                mode='lines+markers',\n",
    "                name='PR Curve',\n",
    "                line=dict(color='rgba(0, 120, 220, 0.8)', width=3, dash='solid'),\n",
    "                marker=dict(size=8, color='rgba(255, 80, 80, 0.9)', symbol='circle', line=dict(width=1, color='darkred')),\n",
    "                hovertemplate=(\n",
    "                    'Recall: %{x:.2f}<br>'\n",
    "                    'Precision: %{y:.2f}<br>'\n",
    "                    'Confidence: %{text:.2f}<br>'\n",
    "                    'F1 Score: %{customdata[0]:.2f}<br>'\n",
    "                    'Accuracy: %{customdata[1]:.2f}<extra></extra>'\n",
    "                ),\n",
    "                text=conf_thresholds_tracked,\n",
    "                customdata=list(zip(f1_scores, accuracies))\n",
    "            ))\n",
    "\n",
    "            fig.add_trace(go.Scatter(\n",
    "                x=recalls,\n",
    "                y=precisions,\n",
    "                fill='tozeroy',\n",
    "                mode='none',\n",
    "                name='Area Under Curve',\n",
    "                fillcolor='rgba(0, 120, 220, 0.2)'\n",
    "            ))\n",
    "\n",
    "            specified_points = [\n",
    "                {'precision': 0.84, 'recall': 0.58},\n",
    "                {'precision': 0.58, 'recall': 0.84}\n",
    "            ]\n",
    "\n",
    "            for point in specified_points:\n",
    "                fig.add_trace(go.Scatter(\n",
    "                    x=[point['recall']],\n",
    "                    y=[point['precision']],\n",
    "                    mode='markers+text',\n",
    "                    name=f\"Precision={point['precision']}, Recall={point['recall']}\",\n",
    "                    marker=dict(size=10, color='green', symbol='star'),\n",
    "                    text=[f\"P={point['precision']}, R={point['recall']}\"],\n",
    "                    textposition='top center'\n",
    "                ))\n",
    "\n",
    "            fig.update_layout(\n",
    "                title=f\"Precision-Recall Curve for {model_name})\",\n",
    "                xaxis_title=\"Recall\",\n",
    "                yaxis_title=\"Precision\",\n",
    "                showlegend=True\n",
    "            )\n",
    "            fig.show()"
   ]
  },
  {
   "cell_type": "code",
   "execution_count": null,
   "metadata": {},
   "outputs": [
    {
     "name": "stdout",
     "output_type": "stream",
     "text": [
      "Evaluating model: best_11s_1024_dataO2_NoAug_b16.pt\n",
      "Processing label directory: Union_Labels/\n"
     ]
    },
    {
     "name": "stderr",
     "output_type": "stream",
     "text": [
      "Processing thresholds: 100%|██████████| 100/100 [26:07<00:00, 15.68s/it]\n"
     ]
    },
    {
     "data": {
      "application/vnd.plotly.v1+json": {
       "config": {
        "plotlyServerURL": "https://plot.ly"
       },
       "data": [
        {
         "customdata": [
          [
           0.2254719489497474,
           0.9625425652667423
          ],
          [
           0.5586430891374955,
           0.8785471055618616
          ],
          [
           0.6377063423110338,
           0.8331441543700341
          ],
          [
           0.6886838271005342,
           0.8047673098751419
          ],
          [
           0.7125,
           0.7763904653802497
          ],
          [
           0.7254794520547946,
           0.7514188422247446
          ],
          [
           0.718094157685763,
           0.7185017026106697
          ],
          [
           0.7177089421390999,
           0.6969353007945517
          ],
          [
           0.7163289630512515,
           0.6821793416572077
          ],
          [
           0.714546561168594,
           0.6662883087400681
          ],
          [
           0.7061759201497193,
           0.6424517593643587
          ],
          [
           0.7001909611712285,
           0.6242905788876277
          ],
          [
           0.69140625,
           0.6027241770715096
          ],
          [
           0.6781229345670852,
           0.5822928490351873
          ],
          [
           0.6733466933867736,
           0.5720771850170261
          ],
          [
           0.6634877384196185,
           0.5527809307604994
          ],
          [
           0.6579129232895645,
           0.5402951191827469
          ],
          [
           0.6502463054187192,
           0.5244040862656073
          ],
          [
           0.6434659090909092,
           0.5141884222474461
          ],
          [
           0.6350574712643678,
           0.5017026106696936
          ],
          [
           0.6235465116279071,
           0.4869466515323496
          ],
          [
           0.6194690265486725,
           0.4767309875141884
          ],
          [
           0.6135517498138495,
           0.4676503972758229
          ],
          [
           0.6004514672686231,
           0.452894438138479
          ],
          [
           0.589041095890411,
           0.4392735527809308
          ],
          [
           0.5828220858895705,
           0.43132803632236094
          ],
          [
           0.5736434108527132,
           0.4199772985244041
          ],
          [
           0.5633802816901409,
           0.4086265607264472
          ],
          [
           0.5490506329113923,
           0.3938706015891033
          ],
          [
           0.5419664268585132,
           0.3847900113507378
          ],
          [
           0.5286984640258691,
           0.3711691259931896
          ],
          [
           0.5175510204081633,
           0.3598183881952327
          ],
          [
           0.5061830173124484,
           0.34846765039727584
          ],
          [
           0.48535564853556484,
           0.32917139614074914
          ],
          [
           0.4674005080440305,
           0.3132803632236095
          ],
          [
           0.4607508532423208,
           0.3064699205448354
          ],
          [
           0.44598098530682806,
           0.29284903518728717
          ],
          [
           0.426946631671041,
           0.27695800227014755
          ],
          [
           0.4197530864197531,
           0.27014755959137343
          ],
          [
           0.40214477211796246,
           0.25539160045402953
          ],
          [
           0.3935309973045822,
           0.24858115777525538
          ],
          [
           0.3789664551223935,
           0.23723041997729852
          ],
          [
           0.36712328767123287,
           0.22814982973893302
          ],
          [
           0.358785648574057,
           0.2213393870601589
          ],
          [
           0.3454038997214484,
           0.21112372304199772
          ],
          [
           0.3305164319248826,
           0.19977298524404086
          ],
          [
           0.30666666666666664,
           0.18274687854710556
          ],
          [
           0.28378378378378377,
           0.16685584562996594
          ],
          [
           0.2754607177497575,
           0.1611804767309875
          ],
          [
           0.2639296187683284,
           0.1532349602724177
          ],
          [
           0.25196850393700787,
           0.1452894438138479
          ],
          [
           0.2415841584158416,
           0.13847900113507378
          ],
          [
           0.23306772908366535,
           0.13280363223609534
          ],
          [
           0.21931589537223342,
           0.12372304199772985
          ],
          [
           0.2157258064516129,
           0.12145289443813848
          ],
          [
           0.1975560081466395,
           0.11010215664018161
          ],
          [
           0.18275154004106775,
           0.10102156640181612
          ],
          [
           0.17543859649122806,
           0.09648127128263337
          ],
          [
           0.16216216216216214,
           0.08853575482406356
          ],
          [
           0.1486910994764398,
           0.08059023836549375
          ],
          [
           0.13698630136986303,
           0.07377979568671963
          ],
          [
           0.12937433722163308,
           0.06923950056753689
          ],
          [
           0.12539851222104142,
           0.06696935300794551
          ],
          [
           0.11336898395721924,
           0.060158910329171394
          ],
          [
           0.10129310344827586,
           0.053348467650397274
          ],
          [
           0.08686210640608034,
           0.04540295119182747
          ],
          [
           0.08061002178649238,
           0.04199772985244041
          ],
          [
           0.07641921397379912,
           0.039727582292849034
          ],
          [
           0.07431693989071038,
           0.03859250851305335
          ],
          [
           0.05947136563876651,
           0.03064699205448354
          ],
          [
           0.05947136563876651,
           0.03064699205448354
          ],
          [
           0.05947136563876651,
           0.03064699205448354
          ],
          [
           0.057331863285556776,
           0.029511918274687854
          ],
          [
           0.05518763796909492,
           0.028376844494892167
          ],
          [
           0.048726467331118496,
           0.024971623155505107
          ],
          [
           0.04222222222222222,
           0.021566401816118047
          ],
          [
           0.040044493882091206,
           0.02043132803632236
          ],
          [
           0.03567447045707915,
           0.018161180476730987
          ],
          [
           0.029082774049217004,
           0.014755959137343927
          ],
          [
           0.02244668911335578,
           0.011350737797956867
          ],
          [
           0.020224719101123594,
           0.01021566401816118
          ],
          [
           0.017997750281214846,
           0.009080590238365494
          ],
          [
           0.011286681715575621,
           0.0056753688989784334
          ],
          [
           0.006787330316742081,
           0.00340522133938706
          ],
          [
           0,
           0
          ],
          [
           0,
           0
          ],
          [
           0,
           0
          ],
          [
           0,
           0
          ],
          [
           0,
           0
          ],
          [
           0,
           0
          ],
          [
           0,
           0
          ],
          [
           0,
           0
          ],
          [
           0,
           0
          ],
          [
           0,
           0
          ],
          [
           0,
           0
          ],
          [
           0,
           0
          ],
          [
           0,
           0
          ],
          [
           0,
           0
          ],
          [
           0,
           0
          ],
          [
           0,
           0
          ]
         ],
         "hovertemplate": "Recall: %{x:.2f}<br>Precision: %{y:.2f}<br>Confidence: %{text:.2f}<br>F1 Score: %{customdata[0]:.2f}<br>Accuracy: %{customdata[1]:.2f}<extra></extra>",
         "line": {
          "color": "rgba(0, 120, 220, 0.8)",
          "dash": "solid",
          "width": 3
         },
         "marker": {
          "color": "rgba(255, 80, 80, 0.9)",
          "line": {
           "color": "darkred",
           "width": 1
          },
          "size": 8,
          "symbol": "circle"
         },
         "mode": "lines+markers",
         "name": "PR Curve",
         "text": [
          "0.0",
          "0.010101010101010102",
          "0.020202020202020204",
          "0.030303030303030304",
          "0.04040404040404041",
          "0.05050505050505051",
          "0.06060606060606061",
          "0.07070707070707072",
          "0.08080808080808081",
          "0.09090909090909091",
          "0.10101010101010102",
          "0.11111111111111112",
          "0.12121212121212122",
          "0.13131313131313133",
          "0.14141414141414144",
          "0.15151515151515152",
          "0.16161616161616163",
          "0.17171717171717174",
          "0.18181818181818182",
          "0.19191919191919193",
          "0.20202020202020204",
          "0.21212121212121213",
          "0.22222222222222224",
          "0.23232323232323235",
          "0.24242424242424243",
          "0.25252525252525254",
          "0.26262626262626265",
          "0.27272727272727276",
          "0.2828282828282829",
          "0.29292929292929293",
          "0.30303030303030304",
          "0.31313131313131315",
          "0.32323232323232326",
          "0.33333333333333337",
          "0.3434343434343435",
          "0.3535353535353536",
          "0.36363636363636365",
          "0.37373737373737376",
          "0.38383838383838387",
          "0.393939393939394",
          "0.4040404040404041",
          "0.4141414141414142",
          "0.42424242424242425",
          "0.43434343434343436",
          "0.4444444444444445",
          "0.4545454545454546",
          "0.4646464646464647",
          "0.4747474747474748",
          "0.48484848484848486",
          "0.494949494949495",
          "0.5050505050505051",
          "0.5151515151515152",
          "0.5252525252525253",
          "0.5353535353535354",
          "0.5454545454545455",
          "0.5555555555555556",
          "0.5656565656565657",
          "0.5757575757575758",
          "0.5858585858585859",
          "0.595959595959596",
          "0.6060606060606061",
          "0.6161616161616162",
          "0.6262626262626263",
          "0.6363636363636365",
          "0.6464646464646465",
          "0.6565656565656566",
          "0.6666666666666667",
          "0.6767676767676768",
          "0.686868686868687",
          "0.696969696969697",
          "0.7070707070707072",
          "0.7171717171717172",
          "0.7272727272727273",
          "0.7373737373737375",
          "0.7474747474747475",
          "0.7575757575757577",
          "0.7676767676767677",
          "0.7777777777777778",
          "0.787878787878788",
          "0.797979797979798",
          "0.8080808080808082",
          "0.8181818181818182",
          "0.8282828282828284",
          "0.8383838383838385",
          "0.8484848484848485",
          "0.8585858585858587",
          "0.8686868686868687",
          "0.8787878787878789",
          "0.888888888888889",
          "0.8989898989898991",
          "0.9090909090909092",
          "0.9191919191919192",
          "0.9292929292929294",
          "0.9393939393939394",
          "0.9494949494949496",
          "0.9595959595959597",
          "0.9696969696969697",
          "0.9797979797979799",
          "0.98989898989899",
          "1.0"
         ],
         "type": "scatter",
         "x": [
          0.9625425652667423,
          0.8785471055618616,
          0.8331441543700341,
          0.8047673098751419,
          0.7763904653802497,
          0.7514188422247446,
          0.7185017026106697,
          0.6969353007945517,
          0.6821793416572077,
          0.6662883087400681,
          0.6424517593643587,
          0.6242905788876277,
          0.6027241770715096,
          0.5822928490351873,
          0.5720771850170261,
          0.5527809307604994,
          0.5402951191827469,
          0.5244040862656073,
          0.5141884222474461,
          0.5017026106696936,
          0.4869466515323496,
          0.4767309875141884,
          0.4676503972758229,
          0.452894438138479,
          0.4392735527809308,
          0.43132803632236094,
          0.4199772985244041,
          0.4086265607264472,
          0.3938706015891033,
          0.3847900113507378,
          0.3711691259931896,
          0.3598183881952327,
          0.34846765039727584,
          0.32917139614074914,
          0.3132803632236095,
          0.3064699205448354,
          0.29284903518728717,
          0.27695800227014755,
          0.27014755959137343,
          0.25539160045402953,
          0.24858115777525538,
          0.23723041997729852,
          0.22814982973893302,
          0.2213393870601589,
          0.21112372304199772,
          0.19977298524404086,
          0.18274687854710556,
          0.16685584562996594,
          0.1611804767309875,
          0.1532349602724177,
          0.1452894438138479,
          0.13847900113507378,
          0.13280363223609534,
          0.12372304199772985,
          0.12145289443813848,
          0.11010215664018161,
          0.10102156640181612,
          0.09648127128263337,
          0.08853575482406356,
          0.08059023836549375,
          0.07377979568671963,
          0.06923950056753689,
          0.06696935300794551,
          0.060158910329171394,
          0.053348467650397274,
          0.04540295119182747,
          0.04199772985244041,
          0.039727582292849034,
          0.03859250851305335,
          0.03064699205448354,
          0.03064699205448354,
          0.03064699205448354,
          0.029511918274687854,
          0.028376844494892167,
          0.024971623155505107,
          0.021566401816118047,
          0.02043132803632236,
          0.018161180476730987,
          0.014755959137343927,
          0.011350737797956867,
          0.01021566401816118,
          0.009080590238365494,
          0.0056753688989784334,
          0.00340522133938706,
          0,
          0,
          0,
          0,
          0,
          0,
          0,
          0,
          0,
          0,
          0,
          0,
          0,
          0,
          0,
          0
         ],
         "y": [
          0.12769161270892937,
          0.4095238095238095,
          0.5165376495425756,
          0.6018675721561969,
          0.65832531280077,
          0.701271186440678,
          0.717687074829932,
          0.7397590361445783,
          0.7540777917189461,
          0.7703412073490814,
          0.7839335180055401,
          0.7971014492753623,
          0.8106870229007633,
          0.8117088607594937,
          0.8181818181818182,
          0.8296422487223168,
          0.8409893992932862,
          0.8555555555555555,
          0.8595825426944972,
          0.8649706457925636,
          0.8666666666666667,
          0.8842105263157894,
          0.8917748917748918,
          0.890625,
          0.8937644341801386,
          0.8983451536643026,
          0.9046454767726161,
          0.906801007556675,
          0.9060052219321149,
          0.9162162162162162,
          0.9185393258426966,
          0.9215116279069767,
          0.9246987951807228,
          0.9235668789808917,
          0.92,
          0.9278350515463918,
          0.9347826086956522,
          0.9312977099236641,
          0.9407114624505929,
          0.9453781512605042,
          0.9439655172413793,
          0.9414414414414415,
          0.9392523364485982,
          0.9466019417475728,
          0.9489795918367347,
          0.9565217391304348,
          0.9526627218934911,
          0.9483870967741935,
          0.9466666666666667,
          0.9507042253521126,
          0.9481481481481482,
          0.9457364341085271,
          0.9512195121951219,
          0.9646017699115044,
          0.963963963963964,
          0.9603960396039604,
          0.956989247311828,
          0.9659090909090909,
          0.9629629629629629,
          0.9594594594594594,
          0.9558823529411765,
          0.9838709677419355,
          0.9833333333333333,
          0.9814814814814815,
          1,
          1,
          1,
          1,
          1,
          1,
          1,
          1,
          1,
          1,
          1,
          1,
          1,
          1,
          1,
          1,
          1,
          1,
          1,
          1,
          0,
          0,
          0,
          0,
          0,
          0,
          0,
          0,
          0,
          0,
          0,
          0,
          0,
          0,
          0,
          0
         ]
        },
        {
         "fill": "tozeroy",
         "fillcolor": "rgba(0, 120, 220, 0.2)",
         "mode": "none",
         "name": "Area Under Curve",
         "type": "scatter",
         "x": [
          0.9625425652667423,
          0.8785471055618616,
          0.8331441543700341,
          0.8047673098751419,
          0.7763904653802497,
          0.7514188422247446,
          0.7185017026106697,
          0.6969353007945517,
          0.6821793416572077,
          0.6662883087400681,
          0.6424517593643587,
          0.6242905788876277,
          0.6027241770715096,
          0.5822928490351873,
          0.5720771850170261,
          0.5527809307604994,
          0.5402951191827469,
          0.5244040862656073,
          0.5141884222474461,
          0.5017026106696936,
          0.4869466515323496,
          0.4767309875141884,
          0.4676503972758229,
          0.452894438138479,
          0.4392735527809308,
          0.43132803632236094,
          0.4199772985244041,
          0.4086265607264472,
          0.3938706015891033,
          0.3847900113507378,
          0.3711691259931896,
          0.3598183881952327,
          0.34846765039727584,
          0.32917139614074914,
          0.3132803632236095,
          0.3064699205448354,
          0.29284903518728717,
          0.27695800227014755,
          0.27014755959137343,
          0.25539160045402953,
          0.24858115777525538,
          0.23723041997729852,
          0.22814982973893302,
          0.2213393870601589,
          0.21112372304199772,
          0.19977298524404086,
          0.18274687854710556,
          0.16685584562996594,
          0.1611804767309875,
          0.1532349602724177,
          0.1452894438138479,
          0.13847900113507378,
          0.13280363223609534,
          0.12372304199772985,
          0.12145289443813848,
          0.11010215664018161,
          0.10102156640181612,
          0.09648127128263337,
          0.08853575482406356,
          0.08059023836549375,
          0.07377979568671963,
          0.06923950056753689,
          0.06696935300794551,
          0.060158910329171394,
          0.053348467650397274,
          0.04540295119182747,
          0.04199772985244041,
          0.039727582292849034,
          0.03859250851305335,
          0.03064699205448354,
          0.03064699205448354,
          0.03064699205448354,
          0.029511918274687854,
          0.028376844494892167,
          0.024971623155505107,
          0.021566401816118047,
          0.02043132803632236,
          0.018161180476730987,
          0.014755959137343927,
          0.011350737797956867,
          0.01021566401816118,
          0.009080590238365494,
          0.0056753688989784334,
          0.00340522133938706,
          0,
          0,
          0,
          0,
          0,
          0,
          0,
          0,
          0,
          0,
          0,
          0,
          0,
          0,
          0,
          0
         ],
         "y": [
          0.12769161270892937,
          0.4095238095238095,
          0.5165376495425756,
          0.6018675721561969,
          0.65832531280077,
          0.701271186440678,
          0.717687074829932,
          0.7397590361445783,
          0.7540777917189461,
          0.7703412073490814,
          0.7839335180055401,
          0.7971014492753623,
          0.8106870229007633,
          0.8117088607594937,
          0.8181818181818182,
          0.8296422487223168,
          0.8409893992932862,
          0.8555555555555555,
          0.8595825426944972,
          0.8649706457925636,
          0.8666666666666667,
          0.8842105263157894,
          0.8917748917748918,
          0.890625,
          0.8937644341801386,
          0.8983451536643026,
          0.9046454767726161,
          0.906801007556675,
          0.9060052219321149,
          0.9162162162162162,
          0.9185393258426966,
          0.9215116279069767,
          0.9246987951807228,
          0.9235668789808917,
          0.92,
          0.9278350515463918,
          0.9347826086956522,
          0.9312977099236641,
          0.9407114624505929,
          0.9453781512605042,
          0.9439655172413793,
          0.9414414414414415,
          0.9392523364485982,
          0.9466019417475728,
          0.9489795918367347,
          0.9565217391304348,
          0.9526627218934911,
          0.9483870967741935,
          0.9466666666666667,
          0.9507042253521126,
          0.9481481481481482,
          0.9457364341085271,
          0.9512195121951219,
          0.9646017699115044,
          0.963963963963964,
          0.9603960396039604,
          0.956989247311828,
          0.9659090909090909,
          0.9629629629629629,
          0.9594594594594594,
          0.9558823529411765,
          0.9838709677419355,
          0.9833333333333333,
          0.9814814814814815,
          1,
          1,
          1,
          1,
          1,
          1,
          1,
          1,
          1,
          1,
          1,
          1,
          1,
          1,
          1,
          1,
          1,
          1,
          1,
          1,
          0,
          0,
          0,
          0,
          0,
          0,
          0,
          0,
          0,
          0,
          0,
          0,
          0,
          0,
          0,
          0
         ]
        },
        {
         "marker": {
          "color": "green",
          "size": 10,
          "symbol": "star"
         },
         "mode": "markers+text",
         "name": "Precision=0.84, Recall=0.58",
         "text": [
          "P=0.84, R=0.58"
         ],
         "textposition": "top center",
         "type": "scatter",
         "x": [
          0.58
         ],
         "y": [
          0.84
         ]
        },
        {
         "marker": {
          "color": "green",
          "size": 10,
          "symbol": "star"
         },
         "mode": "markers+text",
         "name": "Precision=0.58, Recall=0.84",
         "text": [
          "P=0.58, R=0.84"
         ],
         "textposition": "top center",
         "type": "scatter",
         "x": [
          0.84
         ],
         "y": [
          0.58
         ]
        }
       ],
       "layout": {
        "showlegend": true,
        "template": {
         "data": {
          "bar": [
           {
            "error_x": {
             "color": "#2a3f5f"
            },
            "error_y": {
             "color": "#2a3f5f"
            },
            "marker": {
             "line": {
              "color": "#E5ECF6",
              "width": 0.5
             },
             "pattern": {
              "fillmode": "overlay",
              "size": 10,
              "solidity": 0.2
             }
            },
            "type": "bar"
           }
          ],
          "barpolar": [
           {
            "marker": {
             "line": {
              "color": "#E5ECF6",
              "width": 0.5
             },
             "pattern": {
              "fillmode": "overlay",
              "size": 10,
              "solidity": 0.2
             }
            },
            "type": "barpolar"
           }
          ],
          "carpet": [
           {
            "aaxis": {
             "endlinecolor": "#2a3f5f",
             "gridcolor": "white",
             "linecolor": "white",
             "minorgridcolor": "white",
             "startlinecolor": "#2a3f5f"
            },
            "baxis": {
             "endlinecolor": "#2a3f5f",
             "gridcolor": "white",
             "linecolor": "white",
             "minorgridcolor": "white",
             "startlinecolor": "#2a3f5f"
            },
            "type": "carpet"
           }
          ],
          "choropleth": [
           {
            "colorbar": {
             "outlinewidth": 0,
             "ticks": ""
            },
            "type": "choropleth"
           }
          ],
          "contour": [
           {
            "colorbar": {
             "outlinewidth": 0,
             "ticks": ""
            },
            "colorscale": [
             [
              0,
              "#0d0887"
             ],
             [
              0.1111111111111111,
              "#46039f"
             ],
             [
              0.2222222222222222,
              "#7201a8"
             ],
             [
              0.3333333333333333,
              "#9c179e"
             ],
             [
              0.4444444444444444,
              "#bd3786"
             ],
             [
              0.5555555555555556,
              "#d8576b"
             ],
             [
              0.6666666666666666,
              "#ed7953"
             ],
             [
              0.7777777777777778,
              "#fb9f3a"
             ],
             [
              0.8888888888888888,
              "#fdca26"
             ],
             [
              1,
              "#f0f921"
             ]
            ],
            "type": "contour"
           }
          ],
          "contourcarpet": [
           {
            "colorbar": {
             "outlinewidth": 0,
             "ticks": ""
            },
            "type": "contourcarpet"
           }
          ],
          "heatmap": [
           {
            "colorbar": {
             "outlinewidth": 0,
             "ticks": ""
            },
            "colorscale": [
             [
              0,
              "#0d0887"
             ],
             [
              0.1111111111111111,
              "#46039f"
             ],
             [
              0.2222222222222222,
              "#7201a8"
             ],
             [
              0.3333333333333333,
              "#9c179e"
             ],
             [
              0.4444444444444444,
              "#bd3786"
             ],
             [
              0.5555555555555556,
              "#d8576b"
             ],
             [
              0.6666666666666666,
              "#ed7953"
             ],
             [
              0.7777777777777778,
              "#fb9f3a"
             ],
             [
              0.8888888888888888,
              "#fdca26"
             ],
             [
              1,
              "#f0f921"
             ]
            ],
            "type": "heatmap"
           }
          ],
          "histogram": [
           {
            "marker": {
             "pattern": {
              "fillmode": "overlay",
              "size": 10,
              "solidity": 0.2
             }
            },
            "type": "histogram"
           }
          ],
          "histogram2d": [
           {
            "colorbar": {
             "outlinewidth": 0,
             "ticks": ""
            },
            "colorscale": [
             [
              0,
              "#0d0887"
             ],
             [
              0.1111111111111111,
              "#46039f"
             ],
             [
              0.2222222222222222,
              "#7201a8"
             ],
             [
              0.3333333333333333,
              "#9c179e"
             ],
             [
              0.4444444444444444,
              "#bd3786"
             ],
             [
              0.5555555555555556,
              "#d8576b"
             ],
             [
              0.6666666666666666,
              "#ed7953"
             ],
             [
              0.7777777777777778,
              "#fb9f3a"
             ],
             [
              0.8888888888888888,
              "#fdca26"
             ],
             [
              1,
              "#f0f921"
             ]
            ],
            "type": "histogram2d"
           }
          ],
          "histogram2dcontour": [
           {
            "colorbar": {
             "outlinewidth": 0,
             "ticks": ""
            },
            "colorscale": [
             [
              0,
              "#0d0887"
             ],
             [
              0.1111111111111111,
              "#46039f"
             ],
             [
              0.2222222222222222,
              "#7201a8"
             ],
             [
              0.3333333333333333,
              "#9c179e"
             ],
             [
              0.4444444444444444,
              "#bd3786"
             ],
             [
              0.5555555555555556,
              "#d8576b"
             ],
             [
              0.6666666666666666,
              "#ed7953"
             ],
             [
              0.7777777777777778,
              "#fb9f3a"
             ],
             [
              0.8888888888888888,
              "#fdca26"
             ],
             [
              1,
              "#f0f921"
             ]
            ],
            "type": "histogram2dcontour"
           }
          ],
          "mesh3d": [
           {
            "colorbar": {
             "outlinewidth": 0,
             "ticks": ""
            },
            "type": "mesh3d"
           }
          ],
          "parcoords": [
           {
            "line": {
             "colorbar": {
              "outlinewidth": 0,
              "ticks": ""
             }
            },
            "type": "parcoords"
           }
          ],
          "pie": [
           {
            "automargin": true,
            "type": "pie"
           }
          ],
          "scatter": [
           {
            "fillpattern": {
             "fillmode": "overlay",
             "size": 10,
             "solidity": 0.2
            },
            "type": "scatter"
           }
          ],
          "scatter3d": [
           {
            "line": {
             "colorbar": {
              "outlinewidth": 0,
              "ticks": ""
             }
            },
            "marker": {
             "colorbar": {
              "outlinewidth": 0,
              "ticks": ""
             }
            },
            "type": "scatter3d"
           }
          ],
          "scattercarpet": [
           {
            "marker": {
             "colorbar": {
              "outlinewidth": 0,
              "ticks": ""
             }
            },
            "type": "scattercarpet"
           }
          ],
          "scattergeo": [
           {
            "marker": {
             "colorbar": {
              "outlinewidth": 0,
              "ticks": ""
             }
            },
            "type": "scattergeo"
           }
          ],
          "scattergl": [
           {
            "marker": {
             "colorbar": {
              "outlinewidth": 0,
              "ticks": ""
             }
            },
            "type": "scattergl"
           }
          ],
          "scattermap": [
           {
            "marker": {
             "colorbar": {
              "outlinewidth": 0,
              "ticks": ""
             }
            },
            "type": "scattermap"
           }
          ],
          "scattermapbox": [
           {
            "marker": {
             "colorbar": {
              "outlinewidth": 0,
              "ticks": ""
             }
            },
            "type": "scattermapbox"
           }
          ],
          "scatterpolar": [
           {
            "marker": {
             "colorbar": {
              "outlinewidth": 0,
              "ticks": ""
             }
            },
            "type": "scatterpolar"
           }
          ],
          "scatterpolargl": [
           {
            "marker": {
             "colorbar": {
              "outlinewidth": 0,
              "ticks": ""
             }
            },
            "type": "scatterpolargl"
           }
          ],
          "scatterternary": [
           {
            "marker": {
             "colorbar": {
              "outlinewidth": 0,
              "ticks": ""
             }
            },
            "type": "scatterternary"
           }
          ],
          "surface": [
           {
            "colorbar": {
             "outlinewidth": 0,
             "ticks": ""
            },
            "colorscale": [
             [
              0,
              "#0d0887"
             ],
             [
              0.1111111111111111,
              "#46039f"
             ],
             [
              0.2222222222222222,
              "#7201a8"
             ],
             [
              0.3333333333333333,
              "#9c179e"
             ],
             [
              0.4444444444444444,
              "#bd3786"
             ],
             [
              0.5555555555555556,
              "#d8576b"
             ],
             [
              0.6666666666666666,
              "#ed7953"
             ],
             [
              0.7777777777777778,
              "#fb9f3a"
             ],
             [
              0.8888888888888888,
              "#fdca26"
             ],
             [
              1,
              "#f0f921"
             ]
            ],
            "type": "surface"
           }
          ],
          "table": [
           {
            "cells": {
             "fill": {
              "color": "#EBF0F8"
             },
             "line": {
              "color": "white"
             }
            },
            "header": {
             "fill": {
              "color": "#C8D4E3"
             },
             "line": {
              "color": "white"
             }
            },
            "type": "table"
           }
          ]
         },
         "layout": {
          "annotationdefaults": {
           "arrowcolor": "#2a3f5f",
           "arrowhead": 0,
           "arrowwidth": 1
          },
          "autotypenumbers": "strict",
          "coloraxis": {
           "colorbar": {
            "outlinewidth": 0,
            "ticks": ""
           }
          },
          "colorscale": {
           "diverging": [
            [
             0,
             "#8e0152"
            ],
            [
             0.1,
             "#c51b7d"
            ],
            [
             0.2,
             "#de77ae"
            ],
            [
             0.3,
             "#f1b6da"
            ],
            [
             0.4,
             "#fde0ef"
            ],
            [
             0.5,
             "#f7f7f7"
            ],
            [
             0.6,
             "#e6f5d0"
            ],
            [
             0.7,
             "#b8e186"
            ],
            [
             0.8,
             "#7fbc41"
            ],
            [
             0.9,
             "#4d9221"
            ],
            [
             1,
             "#276419"
            ]
           ],
           "sequential": [
            [
             0,
             "#0d0887"
            ],
            [
             0.1111111111111111,
             "#46039f"
            ],
            [
             0.2222222222222222,
             "#7201a8"
            ],
            [
             0.3333333333333333,
             "#9c179e"
            ],
            [
             0.4444444444444444,
             "#bd3786"
            ],
            [
             0.5555555555555556,
             "#d8576b"
            ],
            [
             0.6666666666666666,
             "#ed7953"
            ],
            [
             0.7777777777777778,
             "#fb9f3a"
            ],
            [
             0.8888888888888888,
             "#fdca26"
            ],
            [
             1,
             "#f0f921"
            ]
           ],
           "sequentialminus": [
            [
             0,
             "#0d0887"
            ],
            [
             0.1111111111111111,
             "#46039f"
            ],
            [
             0.2222222222222222,
             "#7201a8"
            ],
            [
             0.3333333333333333,
             "#9c179e"
            ],
            [
             0.4444444444444444,
             "#bd3786"
            ],
            [
             0.5555555555555556,
             "#d8576b"
            ],
            [
             0.6666666666666666,
             "#ed7953"
            ],
            [
             0.7777777777777778,
             "#fb9f3a"
            ],
            [
             0.8888888888888888,
             "#fdca26"
            ],
            [
             1,
             "#f0f921"
            ]
           ]
          },
          "colorway": [
           "#636efa",
           "#EF553B",
           "#00cc96",
           "#ab63fa",
           "#FFA15A",
           "#19d3f3",
           "#FF6692",
           "#B6E880",
           "#FF97FF",
           "#FECB52"
          ],
          "font": {
           "color": "#2a3f5f"
          },
          "geo": {
           "bgcolor": "white",
           "lakecolor": "white",
           "landcolor": "#E5ECF6",
           "showlakes": true,
           "showland": true,
           "subunitcolor": "white"
          },
          "hoverlabel": {
           "align": "left"
          },
          "hovermode": "closest",
          "mapbox": {
           "style": "light"
          },
          "paper_bgcolor": "white",
          "plot_bgcolor": "#E5ECF6",
          "polar": {
           "angularaxis": {
            "gridcolor": "white",
            "linecolor": "white",
            "ticks": ""
           },
           "bgcolor": "#E5ECF6",
           "radialaxis": {
            "gridcolor": "white",
            "linecolor": "white",
            "ticks": ""
           }
          },
          "scene": {
           "xaxis": {
            "backgroundcolor": "#E5ECF6",
            "gridcolor": "white",
            "gridwidth": 2,
            "linecolor": "white",
            "showbackground": true,
            "ticks": "",
            "zerolinecolor": "white"
           },
           "yaxis": {
            "backgroundcolor": "#E5ECF6",
            "gridcolor": "white",
            "gridwidth": 2,
            "linecolor": "white",
            "showbackground": true,
            "ticks": "",
            "zerolinecolor": "white"
           },
           "zaxis": {
            "backgroundcolor": "#E5ECF6",
            "gridcolor": "white",
            "gridwidth": 2,
            "linecolor": "white",
            "showbackground": true,
            "ticks": "",
            "zerolinecolor": "white"
           }
          },
          "shapedefaults": {
           "line": {
            "color": "#2a3f5f"
           }
          },
          "ternary": {
           "aaxis": {
            "gridcolor": "white",
            "linecolor": "white",
            "ticks": ""
           },
           "baxis": {
            "gridcolor": "white",
            "linecolor": "white",
            "ticks": ""
           },
           "bgcolor": "#E5ECF6",
           "caxis": {
            "gridcolor": "white",
            "linecolor": "white",
            "ticks": ""
           }
          },
          "title": {
           "x": 0.05
          },
          "xaxis": {
           "automargin": true,
           "gridcolor": "white",
           "linecolor": "white",
           "ticks": "",
           "title": {
            "standoff": 15
           },
           "zerolinecolor": "white",
           "zerolinewidth": 2
          },
          "yaxis": {
           "automargin": true,
           "gridcolor": "white",
           "linecolor": "white",
           "ticks": "",
           "title": {
            "standoff": 15
           },
           "zerolinecolor": "white",
           "zerolinewidth": 2
          }
         }
        },
        "title": {
         "text": "Precision-Recall Curve for best_11s_1024_dataO2_NoAug_b16.pt (Union_Labels/)"
        },
        "xaxis": {
         "title": {
          "text": "Recall"
         }
        },
        "yaxis": {
         "title": {
          "text": "Precision"
         }
        }
       }
      }
     },
     "metadata": {},
     "output_type": "display_data"
    },
    {
     "name": "stdout",
     "output_type": "stream",
     "text": [
      "Processing label directory: Intersection_Labels/\n"
     ]
    },
    {
     "name": "stderr",
     "output_type": "stream",
     "text": [
      "Processing thresholds: 100%|██████████| 100/100 [18:49<00:00, 11.29s/it]\n"
     ]
    },
    {
     "data": {
      "application/vnd.plotly.v1+json": {
       "config": {
        "plotlyServerURL": "https://plot.ly"
       },
       "data": [
        {
         "customdata": [
          [
           0.11733535200605599,
           0.9914712153518124
          ],
          [
           0.34377387318563796,
           0.9594882729211087
          ],
          [
           0.42403517342452374,
           0.9253731343283582
          ],
          [
           0.48491747296528176,
           0.908315565031983
          ],
          [
           0.5271122320302649,
           0.8912579957356077
          ],
          [
           0.5582028590878149,
           0.8742004264392325
          ],
          [
           0.5681492109038737,
           0.8443496801705757
          ],
          [
           0.5864661654135339,
           0.8315565031982942
          ],
          [
           0.6000000000000001,
           0.8251599147121536
          ],
          [
           0.6142742582197274,
           0.8166311300639659
          ],
          [
           0.6174273858921162,
           0.7931769722814499
          ],
          [
           0.6279863481228669,
           0.7846481876332623
          ],
          [
           0.63668430335097,
           0.7697228144989339
          ],
          [
           0.6425992779783394,
           0.7590618336886994
          ],
          [
           0.6446886446886447,
           0.7505330490405118
          ],
          [
           0.6497175141242938,
           0.7356076759061834
          ],
          [
           0.6512968299711815,
           0.7228144989339019
          ],
          [
           0.6561576354679803,
           0.7100213219616205
          ],
          [
           0.6559999999999999,
           0.6993603411513859
          ],
          [
           0.6531027466937945,
           0.6844349680170576
          ],
          [
           0.6494312306101343,
           0.6695095948827292
          ],
          [
           0.6575052854122622,
           0.6631130063965884
          ],
          [
           0.6602357984994641,
           0.6567164179104478
          ],
          [
           0.6550598476605005,
           0.6417910447761194
          ],
          [
           0.6504424778761062,
           0.6268656716417911
          ],
          [
           0.6442953020134229,
           0.6140724946695096
          ],
          [
           0.6393629124004551,
           0.5991471215351812
          ],
          [
           0.6343713956170703,
           0.5863539445628998
          ],
          [
           0.6236811254396248,
           0.5671641791044776
          ],
          [
           0.6238095238095237,
           0.55863539445629
          ],
          [
           0.6150121065375302,
           0.5415778251599147
          ],
          [
           0.6125461254612545,
           0.5309168443496801
          ],
          [
           0.6142322097378277,
           0.5245202558635395
          ],
          [
           0.6002554278416348,
           0.5010660980810234
          ],
          [
           0.5903771131339401,
           0.4840085287846482
          ],
          [
           0.5842105263157895,
           0.47334754797441364
          ],
          [
           0.5825503355704699,
           0.4626865671641791
          ],
          [
           0.5608755129958961,
           0.43710021321961623
          ],
          [
           0.5512465373961218,
           0.42430703624733473
          ],
          [
           0.5346534653465347,
           0.40298507462686567
          ],
          [
           0.5278174037089872,
           0.39445628997867804
          ],
          [
           0.5123010130246021,
           0.3773987206823028
          ],
          [
           0.4978038067349926,
           0.3624733475479744
          ],
          [
           0.48592592592592593,
           0.34968017057569295
          ],
          [
           0.4661654135338346,
           0.3304904051172708
          ],
          [
           0.44716692189892804,
           0.31130063965884863
          ],
          [
           0.4169278996865204,
           0.2835820895522388
          ],
          [
           0.38782051282051283,
           0.2579957356076759
          ],
          [
           0.3812600969305332,
           0.2515991471215352
          ],
          [
           0.36661211129296234,
           0.23880597014925373
          ],
          [
           0.347682119205298,
           0.22388059701492538
          ],
          [
           0.334448160535117,
           0.21321961620469082
          ],
          [
           0.3277027027027027,
           0.2068230277185501
          ],
          [
           0.30927835051546393,
           0.19189765458422176
          ],
          [
           0.30689655172413793,
           0.18976545842217485
          ],
          [
           0.28421052631578947,
           0.17270788912579957
          ],
          [
           0.26334519572953735,
           0.15778251599147122
          ],
          [
           0.2513464991023339,
           0.14925373134328357
          ],
          [
           0.23636363636363636,
           0.13859275053304904
          ],
          [
           0.22467771639042355,
           0.1300639658848614
          ],
          [
           0.2048417132216015,
           0.11727078891257996
          ],
          [
           0.19209039548022602,
           0.10874200426439233
          ],
          [
           0.1890359168241966,
           0.10660980810234541
          ],
          [
           0.17973231357552583,
           0.10021321961620469
          ],
          [
           0.15891472868217055,
           0.08742004264392324
          ],
          [
           0.14145383104125736,
           0.0767590618336887
          ],
          [
           0.13438735177865613,
           0.07249466950959488
          ],
          [
           0.12698412698412698,
           0.06823027718550106
          ],
          [
           0.12326043737574552,
           0.06609808102345416
          ],
          [
           0.09677419354838711,
           0.0511727078891258
          ],
          [
           0.09677419354838711,
           0.0511727078891258
          ],
          [
           0.09677419354838711,
           0.0511727078891258
          ],
          [
           0.09292929292929293,
           0.04904051172707889
          ],
          [
           0.08906882591093118,
           0.046908315565031986
          ],
          [
           0.07739307535641549,
           0.04051172707889126
          ],
          [
           0.06557377049180328,
           0.03411513859275053
          ],
          [
           0.061601642710472276,
           0.031982942430703626
          ],
          [
           0.053608247422680416,
           0.02771855010660981
          ],
          [
           0.04979253112033195,
           0.0255863539445629
          ],
          [
           0.037578288100208766,
           0.019189765458422176
          ],
          [
           0.03347280334728033,
           0.017057569296375266
          ],
          [
           0.029350104821802933,
           0.014925373134328358
          ],
          [
           0.021097046413502112,
           0.010660980810234541
          ],
          [
           0.01271186440677966,
           0.006396588486140725
          ],
          [
           0,
           0
          ],
          [
           0,
           0
          ],
          [
           0,
           0
          ],
          [
           0,
           0
          ],
          [
           0,
           0
          ],
          [
           0,
           0
          ],
          [
           0,
           0
          ],
          [
           0,
           0
          ],
          [
           0,
           0
          ],
          [
           0,
           0
          ],
          [
           0,
           0
          ],
          [
           0,
           0
          ],
          [
           0,
           0
          ],
          [
           0,
           0
          ],
          [
           0,
           0
          ],
          [
           0,
           0
          ]
         ],
         "hovertemplate": "Recall: %{x:.2f}<br>Precision: %{y:.2f}<br>Confidence: %{text:.2f}<br>F1 Score: %{customdata[0]:.2f}<br>Accuracy: %{customdata[1]:.2f}<extra></extra>",
         "line": {
          "color": "rgba(0, 120, 220, 0.8)",
          "dash": "solid",
          "width": 3
         },
         "marker": {
          "color": "rgba(255, 80, 80, 0.9)",
          "line": {
           "color": "darkred",
           "width": 1
          },
          "size": 8,
          "symbol": "circle"
         },
         "mode": "lines+markers",
         "name": "PR Curve",
         "text": [
          "0.0",
          "0.010101010101010102",
          "0.020202020202020204",
          "0.030303030303030304",
          "0.04040404040404041",
          "0.05050505050505051",
          "0.06060606060606061",
          "0.07070707070707072",
          "0.08080808080808081",
          "0.09090909090909091",
          "0.10101010101010102",
          "0.11111111111111112",
          "0.12121212121212122",
          "0.13131313131313133",
          "0.14141414141414144",
          "0.15151515151515152",
          "0.16161616161616163",
          "0.17171717171717174",
          "0.18181818181818182",
          "0.19191919191919193",
          "0.20202020202020204",
          "0.21212121212121213",
          "0.22222222222222224",
          "0.23232323232323235",
          "0.24242424242424243",
          "0.25252525252525254",
          "0.26262626262626265",
          "0.27272727272727276",
          "0.2828282828282829",
          "0.29292929292929293",
          "0.30303030303030304",
          "0.31313131313131315",
          "0.32323232323232326",
          "0.33333333333333337",
          "0.3434343434343435",
          "0.3535353535353536",
          "0.36363636363636365",
          "0.37373737373737376",
          "0.38383838383838387",
          "0.393939393939394",
          "0.4040404040404041",
          "0.4141414141414142",
          "0.42424242424242425",
          "0.43434343434343436",
          "0.4444444444444445",
          "0.4545454545454546",
          "0.4646464646464647",
          "0.4747474747474748",
          "0.48484848484848486",
          "0.494949494949495",
          "0.5050505050505051",
          "0.5151515151515152",
          "0.5252525252525253",
          "0.5353535353535354",
          "0.5454545454545455",
          "0.5555555555555556",
          "0.5656565656565657",
          "0.5757575757575758",
          "0.5858585858585859",
          "0.595959595959596",
          "0.6060606060606061",
          "0.6161616161616162",
          "0.6262626262626263",
          "0.6363636363636365",
          "0.6464646464646465",
          "0.6565656565656566",
          "0.6666666666666667",
          "0.6767676767676768",
          "0.686868686868687",
          "0.696969696969697",
          "0.7070707070707072",
          "0.7171717171717172",
          "0.7272727272727273",
          "0.7373737373737375",
          "0.7474747474747475",
          "0.7575757575757577",
          "0.7676767676767677",
          "0.7777777777777778",
          "0.787878787878788",
          "0.797979797979798",
          "0.8080808080808082",
          "0.8181818181818182",
          "0.8282828282828284",
          "0.8383838383838385",
          "0.8484848484848485",
          "0.8585858585858587",
          "0.8686868686868687",
          "0.8787878787878789",
          "0.888888888888889",
          "0.8989898989898991",
          "0.9090909090909092",
          "0.9191919191919192",
          "0.9292929292929294",
          "0.9393939393939394",
          "0.9494949494949496",
          "0.9595959595959597",
          "0.9696969696969697",
          "0.9797979797979799",
          "0.98989898989899",
          "1.0"
         ],
         "type": "scatter",
         "x": [
          0.9914712153518124,
          0.9594882729211087,
          0.9253731343283582,
          0.908315565031983,
          0.8912579957356077,
          0.8742004264392325,
          0.8443496801705757,
          0.8315565031982942,
          0.8251599147121536,
          0.8166311300639659,
          0.7931769722814499,
          0.7846481876332623,
          0.7697228144989339,
          0.7590618336886994,
          0.7505330490405118,
          0.7356076759061834,
          0.7228144989339019,
          0.7100213219616205,
          0.6993603411513859,
          0.6844349680170576,
          0.6695095948827292,
          0.6631130063965884,
          0.6567164179104478,
          0.6417910447761194,
          0.6268656716417911,
          0.6140724946695096,
          0.5991471215351812,
          0.5863539445628998,
          0.5671641791044776,
          0.55863539445629,
          0.5415778251599147,
          0.5309168443496801,
          0.5245202558635395,
          0.5010660980810234,
          0.4840085287846482,
          0.47334754797441364,
          0.4626865671641791,
          0.43710021321961623,
          0.42430703624733473,
          0.40298507462686567,
          0.39445628997867804,
          0.3773987206823028,
          0.3624733475479744,
          0.34968017057569295,
          0.3304904051172708,
          0.31130063965884863,
          0.2835820895522388,
          0.2579957356076759,
          0.2515991471215352,
          0.23880597014925373,
          0.22388059701492538,
          0.21321961620469082,
          0.2068230277185501,
          0.19189765458422176,
          0.18976545842217485,
          0.17270788912579957,
          0.15778251599147122,
          0.14925373134328357,
          0.13859275053304904,
          0.1300639658848614,
          0.11727078891257996,
          0.10874200426439233,
          0.10660980810234541,
          0.10021321961620469,
          0.08742004264392324,
          0.0767590618336887,
          0.07249466950959488,
          0.06823027718550106,
          0.06609808102345416,
          0.0511727078891258,
          0.0511727078891258,
          0.0511727078891258,
          0.04904051172707889,
          0.046908315565031986,
          0.04051172707889126,
          0.03411513859275053,
          0.031982942430703626,
          0.02771855010660981,
          0.0255863539445629,
          0.019189765458422176,
          0.017057569296375266,
          0.014925373134328358,
          0.010660980810234541,
          0.006396588486140725,
          0,
          0,
          0,
          0,
          0,
          0,
          0,
          0,
          0,
          0,
          0,
          0,
          0,
          0,
          0,
          0
         ],
         "y": [
          0.062357516427517766,
          0.20939972080037228,
          0.2750316856780735,
          0.3307453416149068,
          0.37421665174574753,
          0.41,
          0.4281081081081081,
          0.4529616724738676,
          0.4713763702801462,
          0.4922879177377892,
          0.5054347826086957,
          0.5234708392603129,
          0.5428571428571428,
          0.5571205007824727,
          0.565008025682183,
          0.581787521079258,
          0.5926573426573427,
          0.6098901098901099,
          0.6177024482109228,
          0.6245136186770428,
          0.6305220883534136,
          0.6519916142557652,
          0.6637931034482759,
          0.6688888888888889,
          0.6758620689655173,
          0.6776470588235294,
          0.6853658536585366,
          0.6909547738693468,
          0.6927083333333334,
          0.706199460916442,
          0.711484593837535,
          0.7238372093023255,
          0.7409638554216867,
          0.7484076433121019,
          0.7566666666666667,
          0.7628865979381443,
          0.7862318840579711,
          0.7824427480916031,
          0.7865612648221344,
          0.7941176470588235,
          0.7974137931034483,
          0.7972972972972973,
          0.794392523364486,
          0.7961165048543689,
          0.7908163265306123,
          0.7934782608695652,
          0.7869822485207101,
          0.7806451612903226,
          0.7866666666666666,
          0.7887323943661971,
          0.7777777777777778,
          0.7751937984496124,
          0.7886178861788617,
          0.7964601769911505,
          0.8018018018018018,
          0.801980198019802,
          0.7956989247311828,
          0.7954545454545454,
          0.8024691358024691,
          0.8243243243243243,
          0.8088235294117647,
          0.8225806451612904,
          0.8333333333333334,
          0.8703703703703703,
          0.8723404255319149,
          0.9,
          0.918918918918919,
          0.9142857142857143,
          0.9117647058823529,
          0.8888888888888888,
          0.8888888888888888,
          0.8888888888888888,
          0.8846153846153846,
          0.88,
          0.8636363636363636,
          0.8421052631578947,
          0.8333333333333334,
          0.8125,
          0.9230769230769231,
          0.9,
          0.8888888888888888,
          0.875,
          1,
          1,
          0,
          0,
          0,
          0,
          0,
          0,
          0,
          0,
          0,
          0,
          0,
          0,
          0,
          0,
          0,
          0
         ]
        },
        {
         "fill": "tozeroy",
         "fillcolor": "rgba(0, 120, 220, 0.2)",
         "mode": "none",
         "name": "Area Under Curve",
         "type": "scatter",
         "x": [
          0.9914712153518124,
          0.9594882729211087,
          0.9253731343283582,
          0.908315565031983,
          0.8912579957356077,
          0.8742004264392325,
          0.8443496801705757,
          0.8315565031982942,
          0.8251599147121536,
          0.8166311300639659,
          0.7931769722814499,
          0.7846481876332623,
          0.7697228144989339,
          0.7590618336886994,
          0.7505330490405118,
          0.7356076759061834,
          0.7228144989339019,
          0.7100213219616205,
          0.6993603411513859,
          0.6844349680170576,
          0.6695095948827292,
          0.6631130063965884,
          0.6567164179104478,
          0.6417910447761194,
          0.6268656716417911,
          0.6140724946695096,
          0.5991471215351812,
          0.5863539445628998,
          0.5671641791044776,
          0.55863539445629,
          0.5415778251599147,
          0.5309168443496801,
          0.5245202558635395,
          0.5010660980810234,
          0.4840085287846482,
          0.47334754797441364,
          0.4626865671641791,
          0.43710021321961623,
          0.42430703624733473,
          0.40298507462686567,
          0.39445628997867804,
          0.3773987206823028,
          0.3624733475479744,
          0.34968017057569295,
          0.3304904051172708,
          0.31130063965884863,
          0.2835820895522388,
          0.2579957356076759,
          0.2515991471215352,
          0.23880597014925373,
          0.22388059701492538,
          0.21321961620469082,
          0.2068230277185501,
          0.19189765458422176,
          0.18976545842217485,
          0.17270788912579957,
          0.15778251599147122,
          0.14925373134328357,
          0.13859275053304904,
          0.1300639658848614,
          0.11727078891257996,
          0.10874200426439233,
          0.10660980810234541,
          0.10021321961620469,
          0.08742004264392324,
          0.0767590618336887,
          0.07249466950959488,
          0.06823027718550106,
          0.06609808102345416,
          0.0511727078891258,
          0.0511727078891258,
          0.0511727078891258,
          0.04904051172707889,
          0.046908315565031986,
          0.04051172707889126,
          0.03411513859275053,
          0.031982942430703626,
          0.02771855010660981,
          0.0255863539445629,
          0.019189765458422176,
          0.017057569296375266,
          0.014925373134328358,
          0.010660980810234541,
          0.006396588486140725,
          0,
          0,
          0,
          0,
          0,
          0,
          0,
          0,
          0,
          0,
          0,
          0,
          0,
          0,
          0,
          0
         ],
         "y": [
          0.062357516427517766,
          0.20939972080037228,
          0.2750316856780735,
          0.3307453416149068,
          0.37421665174574753,
          0.41,
          0.4281081081081081,
          0.4529616724738676,
          0.4713763702801462,
          0.4922879177377892,
          0.5054347826086957,
          0.5234708392603129,
          0.5428571428571428,
          0.5571205007824727,
          0.565008025682183,
          0.581787521079258,
          0.5926573426573427,
          0.6098901098901099,
          0.6177024482109228,
          0.6245136186770428,
          0.6305220883534136,
          0.6519916142557652,
          0.6637931034482759,
          0.6688888888888889,
          0.6758620689655173,
          0.6776470588235294,
          0.6853658536585366,
          0.6909547738693468,
          0.6927083333333334,
          0.706199460916442,
          0.711484593837535,
          0.7238372093023255,
          0.7409638554216867,
          0.7484076433121019,
          0.7566666666666667,
          0.7628865979381443,
          0.7862318840579711,
          0.7824427480916031,
          0.7865612648221344,
          0.7941176470588235,
          0.7974137931034483,
          0.7972972972972973,
          0.794392523364486,
          0.7961165048543689,
          0.7908163265306123,
          0.7934782608695652,
          0.7869822485207101,
          0.7806451612903226,
          0.7866666666666666,
          0.7887323943661971,
          0.7777777777777778,
          0.7751937984496124,
          0.7886178861788617,
          0.7964601769911505,
          0.8018018018018018,
          0.801980198019802,
          0.7956989247311828,
          0.7954545454545454,
          0.8024691358024691,
          0.8243243243243243,
          0.8088235294117647,
          0.8225806451612904,
          0.8333333333333334,
          0.8703703703703703,
          0.8723404255319149,
          0.9,
          0.918918918918919,
          0.9142857142857143,
          0.9117647058823529,
          0.8888888888888888,
          0.8888888888888888,
          0.8888888888888888,
          0.8846153846153846,
          0.88,
          0.8636363636363636,
          0.8421052631578947,
          0.8333333333333334,
          0.8125,
          0.9230769230769231,
          0.9,
          0.8888888888888888,
          0.875,
          1,
          1,
          0,
          0,
          0,
          0,
          0,
          0,
          0,
          0,
          0,
          0,
          0,
          0,
          0,
          0,
          0,
          0
         ]
        },
        {
         "marker": {
          "color": "green",
          "size": 10,
          "symbol": "star"
         },
         "mode": "markers+text",
         "name": "Precision=0.84, Recall=0.58",
         "text": [
          "P=0.84, R=0.58"
         ],
         "textposition": "top center",
         "type": "scatter",
         "x": [
          0.58
         ],
         "y": [
          0.84
         ]
        },
        {
         "marker": {
          "color": "green",
          "size": 10,
          "symbol": "star"
         },
         "mode": "markers+text",
         "name": "Precision=0.58, Recall=0.84",
         "text": [
          "P=0.58, R=0.84"
         ],
         "textposition": "top center",
         "type": "scatter",
         "x": [
          0.84
         ],
         "y": [
          0.58
         ]
        }
       ],
       "layout": {
        "showlegend": true,
        "template": {
         "data": {
          "bar": [
           {
            "error_x": {
             "color": "#2a3f5f"
            },
            "error_y": {
             "color": "#2a3f5f"
            },
            "marker": {
             "line": {
              "color": "#E5ECF6",
              "width": 0.5
             },
             "pattern": {
              "fillmode": "overlay",
              "size": 10,
              "solidity": 0.2
             }
            },
            "type": "bar"
           }
          ],
          "barpolar": [
           {
            "marker": {
             "line": {
              "color": "#E5ECF6",
              "width": 0.5
             },
             "pattern": {
              "fillmode": "overlay",
              "size": 10,
              "solidity": 0.2
             }
            },
            "type": "barpolar"
           }
          ],
          "carpet": [
           {
            "aaxis": {
             "endlinecolor": "#2a3f5f",
             "gridcolor": "white",
             "linecolor": "white",
             "minorgridcolor": "white",
             "startlinecolor": "#2a3f5f"
            },
            "baxis": {
             "endlinecolor": "#2a3f5f",
             "gridcolor": "white",
             "linecolor": "white",
             "minorgridcolor": "white",
             "startlinecolor": "#2a3f5f"
            },
            "type": "carpet"
           }
          ],
          "choropleth": [
           {
            "colorbar": {
             "outlinewidth": 0,
             "ticks": ""
            },
            "type": "choropleth"
           }
          ],
          "contour": [
           {
            "colorbar": {
             "outlinewidth": 0,
             "ticks": ""
            },
            "colorscale": [
             [
              0,
              "#0d0887"
             ],
             [
              0.1111111111111111,
              "#46039f"
             ],
             [
              0.2222222222222222,
              "#7201a8"
             ],
             [
              0.3333333333333333,
              "#9c179e"
             ],
             [
              0.4444444444444444,
              "#bd3786"
             ],
             [
              0.5555555555555556,
              "#d8576b"
             ],
             [
              0.6666666666666666,
              "#ed7953"
             ],
             [
              0.7777777777777778,
              "#fb9f3a"
             ],
             [
              0.8888888888888888,
              "#fdca26"
             ],
             [
              1,
              "#f0f921"
             ]
            ],
            "type": "contour"
           }
          ],
          "contourcarpet": [
           {
            "colorbar": {
             "outlinewidth": 0,
             "ticks": ""
            },
            "type": "contourcarpet"
           }
          ],
          "heatmap": [
           {
            "colorbar": {
             "outlinewidth": 0,
             "ticks": ""
            },
            "colorscale": [
             [
              0,
              "#0d0887"
             ],
             [
              0.1111111111111111,
              "#46039f"
             ],
             [
              0.2222222222222222,
              "#7201a8"
             ],
             [
              0.3333333333333333,
              "#9c179e"
             ],
             [
              0.4444444444444444,
              "#bd3786"
             ],
             [
              0.5555555555555556,
              "#d8576b"
             ],
             [
              0.6666666666666666,
              "#ed7953"
             ],
             [
              0.7777777777777778,
              "#fb9f3a"
             ],
             [
              0.8888888888888888,
              "#fdca26"
             ],
             [
              1,
              "#f0f921"
             ]
            ],
            "type": "heatmap"
           }
          ],
          "histogram": [
           {
            "marker": {
             "pattern": {
              "fillmode": "overlay",
              "size": 10,
              "solidity": 0.2
             }
            },
            "type": "histogram"
           }
          ],
          "histogram2d": [
           {
            "colorbar": {
             "outlinewidth": 0,
             "ticks": ""
            },
            "colorscale": [
             [
              0,
              "#0d0887"
             ],
             [
              0.1111111111111111,
              "#46039f"
             ],
             [
              0.2222222222222222,
              "#7201a8"
             ],
             [
              0.3333333333333333,
              "#9c179e"
             ],
             [
              0.4444444444444444,
              "#bd3786"
             ],
             [
              0.5555555555555556,
              "#d8576b"
             ],
             [
              0.6666666666666666,
              "#ed7953"
             ],
             [
              0.7777777777777778,
              "#fb9f3a"
             ],
             [
              0.8888888888888888,
              "#fdca26"
             ],
             [
              1,
              "#f0f921"
             ]
            ],
            "type": "histogram2d"
           }
          ],
          "histogram2dcontour": [
           {
            "colorbar": {
             "outlinewidth": 0,
             "ticks": ""
            },
            "colorscale": [
             [
              0,
              "#0d0887"
             ],
             [
              0.1111111111111111,
              "#46039f"
             ],
             [
              0.2222222222222222,
              "#7201a8"
             ],
             [
              0.3333333333333333,
              "#9c179e"
             ],
             [
              0.4444444444444444,
              "#bd3786"
             ],
             [
              0.5555555555555556,
              "#d8576b"
             ],
             [
              0.6666666666666666,
              "#ed7953"
             ],
             [
              0.7777777777777778,
              "#fb9f3a"
             ],
             [
              0.8888888888888888,
              "#fdca26"
             ],
             [
              1,
              "#f0f921"
             ]
            ],
            "type": "histogram2dcontour"
           }
          ],
          "mesh3d": [
           {
            "colorbar": {
             "outlinewidth": 0,
             "ticks": ""
            },
            "type": "mesh3d"
           }
          ],
          "parcoords": [
           {
            "line": {
             "colorbar": {
              "outlinewidth": 0,
              "ticks": ""
             }
            },
            "type": "parcoords"
           }
          ],
          "pie": [
           {
            "automargin": true,
            "type": "pie"
           }
          ],
          "scatter": [
           {
            "fillpattern": {
             "fillmode": "overlay",
             "size": 10,
             "solidity": 0.2
            },
            "type": "scatter"
           }
          ],
          "scatter3d": [
           {
            "line": {
             "colorbar": {
              "outlinewidth": 0,
              "ticks": ""
             }
            },
            "marker": {
             "colorbar": {
              "outlinewidth": 0,
              "ticks": ""
             }
            },
            "type": "scatter3d"
           }
          ],
          "scattercarpet": [
           {
            "marker": {
             "colorbar": {
              "outlinewidth": 0,
              "ticks": ""
             }
            },
            "type": "scattercarpet"
           }
          ],
          "scattergeo": [
           {
            "marker": {
             "colorbar": {
              "outlinewidth": 0,
              "ticks": ""
             }
            },
            "type": "scattergeo"
           }
          ],
          "scattergl": [
           {
            "marker": {
             "colorbar": {
              "outlinewidth": 0,
              "ticks": ""
             }
            },
            "type": "scattergl"
           }
          ],
          "scattermap": [
           {
            "marker": {
             "colorbar": {
              "outlinewidth": 0,
              "ticks": ""
             }
            },
            "type": "scattermap"
           }
          ],
          "scattermapbox": [
           {
            "marker": {
             "colorbar": {
              "outlinewidth": 0,
              "ticks": ""
             }
            },
            "type": "scattermapbox"
           }
          ],
          "scatterpolar": [
           {
            "marker": {
             "colorbar": {
              "outlinewidth": 0,
              "ticks": ""
             }
            },
            "type": "scatterpolar"
           }
          ],
          "scatterpolargl": [
           {
            "marker": {
             "colorbar": {
              "outlinewidth": 0,
              "ticks": ""
             }
            },
            "type": "scatterpolargl"
           }
          ],
          "scatterternary": [
           {
            "marker": {
             "colorbar": {
              "outlinewidth": 0,
              "ticks": ""
             }
            },
            "type": "scatterternary"
           }
          ],
          "surface": [
           {
            "colorbar": {
             "outlinewidth": 0,
             "ticks": ""
            },
            "colorscale": [
             [
              0,
              "#0d0887"
             ],
             [
              0.1111111111111111,
              "#46039f"
             ],
             [
              0.2222222222222222,
              "#7201a8"
             ],
             [
              0.3333333333333333,
              "#9c179e"
             ],
             [
              0.4444444444444444,
              "#bd3786"
             ],
             [
              0.5555555555555556,
              "#d8576b"
             ],
             [
              0.6666666666666666,
              "#ed7953"
             ],
             [
              0.7777777777777778,
              "#fb9f3a"
             ],
             [
              0.8888888888888888,
              "#fdca26"
             ],
             [
              1,
              "#f0f921"
             ]
            ],
            "type": "surface"
           }
          ],
          "table": [
           {
            "cells": {
             "fill": {
              "color": "#EBF0F8"
             },
             "line": {
              "color": "white"
             }
            },
            "header": {
             "fill": {
              "color": "#C8D4E3"
             },
             "line": {
              "color": "white"
             }
            },
            "type": "table"
           }
          ]
         },
         "layout": {
          "annotationdefaults": {
           "arrowcolor": "#2a3f5f",
           "arrowhead": 0,
           "arrowwidth": 1
          },
          "autotypenumbers": "strict",
          "coloraxis": {
           "colorbar": {
            "outlinewidth": 0,
            "ticks": ""
           }
          },
          "colorscale": {
           "diverging": [
            [
             0,
             "#8e0152"
            ],
            [
             0.1,
             "#c51b7d"
            ],
            [
             0.2,
             "#de77ae"
            ],
            [
             0.3,
             "#f1b6da"
            ],
            [
             0.4,
             "#fde0ef"
            ],
            [
             0.5,
             "#f7f7f7"
            ],
            [
             0.6,
             "#e6f5d0"
            ],
            [
             0.7,
             "#b8e186"
            ],
            [
             0.8,
             "#7fbc41"
            ],
            [
             0.9,
             "#4d9221"
            ],
            [
             1,
             "#276419"
            ]
           ],
           "sequential": [
            [
             0,
             "#0d0887"
            ],
            [
             0.1111111111111111,
             "#46039f"
            ],
            [
             0.2222222222222222,
             "#7201a8"
            ],
            [
             0.3333333333333333,
             "#9c179e"
            ],
            [
             0.4444444444444444,
             "#bd3786"
            ],
            [
             0.5555555555555556,
             "#d8576b"
            ],
            [
             0.6666666666666666,
             "#ed7953"
            ],
            [
             0.7777777777777778,
             "#fb9f3a"
            ],
            [
             0.8888888888888888,
             "#fdca26"
            ],
            [
             1,
             "#f0f921"
            ]
           ],
           "sequentialminus": [
            [
             0,
             "#0d0887"
            ],
            [
             0.1111111111111111,
             "#46039f"
            ],
            [
             0.2222222222222222,
             "#7201a8"
            ],
            [
             0.3333333333333333,
             "#9c179e"
            ],
            [
             0.4444444444444444,
             "#bd3786"
            ],
            [
             0.5555555555555556,
             "#d8576b"
            ],
            [
             0.6666666666666666,
             "#ed7953"
            ],
            [
             0.7777777777777778,
             "#fb9f3a"
            ],
            [
             0.8888888888888888,
             "#fdca26"
            ],
            [
             1,
             "#f0f921"
            ]
           ]
          },
          "colorway": [
           "#636efa",
           "#EF553B",
           "#00cc96",
           "#ab63fa",
           "#FFA15A",
           "#19d3f3",
           "#FF6692",
           "#B6E880",
           "#FF97FF",
           "#FECB52"
          ],
          "font": {
           "color": "#2a3f5f"
          },
          "geo": {
           "bgcolor": "white",
           "lakecolor": "white",
           "landcolor": "#E5ECF6",
           "showlakes": true,
           "showland": true,
           "subunitcolor": "white"
          },
          "hoverlabel": {
           "align": "left"
          },
          "hovermode": "closest",
          "mapbox": {
           "style": "light"
          },
          "paper_bgcolor": "white",
          "plot_bgcolor": "#E5ECF6",
          "polar": {
           "angularaxis": {
            "gridcolor": "white",
            "linecolor": "white",
            "ticks": ""
           },
           "bgcolor": "#E5ECF6",
           "radialaxis": {
            "gridcolor": "white",
            "linecolor": "white",
            "ticks": ""
           }
          },
          "scene": {
           "xaxis": {
            "backgroundcolor": "#E5ECF6",
            "gridcolor": "white",
            "gridwidth": 2,
            "linecolor": "white",
            "showbackground": true,
            "ticks": "",
            "zerolinecolor": "white"
           },
           "yaxis": {
            "backgroundcolor": "#E5ECF6",
            "gridcolor": "white",
            "gridwidth": 2,
            "linecolor": "white",
            "showbackground": true,
            "ticks": "",
            "zerolinecolor": "white"
           },
           "zaxis": {
            "backgroundcolor": "#E5ECF6",
            "gridcolor": "white",
            "gridwidth": 2,
            "linecolor": "white",
            "showbackground": true,
            "ticks": "",
            "zerolinecolor": "white"
           }
          },
          "shapedefaults": {
           "line": {
            "color": "#2a3f5f"
           }
          },
          "ternary": {
           "aaxis": {
            "gridcolor": "white",
            "linecolor": "white",
            "ticks": ""
           },
           "baxis": {
            "gridcolor": "white",
            "linecolor": "white",
            "ticks": ""
           },
           "bgcolor": "#E5ECF6",
           "caxis": {
            "gridcolor": "white",
            "linecolor": "white",
            "ticks": ""
           }
          },
          "title": {
           "x": 0.05
          },
          "xaxis": {
           "automargin": true,
           "gridcolor": "white",
           "linecolor": "white",
           "ticks": "",
           "title": {
            "standoff": 15
           },
           "zerolinecolor": "white",
           "zerolinewidth": 2
          },
          "yaxis": {
           "automargin": true,
           "gridcolor": "white",
           "linecolor": "white",
           "ticks": "",
           "title": {
            "standoff": 15
           },
           "zerolinecolor": "white",
           "zerolinewidth": 2
          }
         }
        },
        "title": {
         "text": "Precision-Recall Curve for best_11s_1024_dataO2_NoAug_b16.pt (Intersection_Labels/)"
        },
        "xaxis": {
         "title": {
          "text": "Recall"
         }
        },
        "yaxis": {
         "title": {
          "text": "Precision"
         }
        }
       }
      }
     },
     "metadata": {},
     "output_type": "display_data"
    },
    {
     "name": "stdout",
     "output_type": "stream",
     "text": [
      "Processing label directory: labels_O1/\n"
     ]
    },
    {
     "name": "stderr",
     "output_type": "stream",
     "text": [
      "Processing thresholds: 100%|██████████| 100/100 [20:40<00:00, 12.41s/it]\n"
     ]
    },
    {
     "data": {
      "application/vnd.plotly.v1+json": {
       "config": {
        "plotlyServerURL": "https://plot.ly"
       },
       "data": [
        {
         "customdata": [
          [
           0.2073170731707317,
           0.9799498746867168
          ],
          [
           0.5376106194690266,
           0.9135338345864662
          ],
          [
           0.6200716845878136,
           0.8671679197994987
          ],
          [
           0.6717019133937562,
           0.8358395989974937
          ],
          [
           0.6984815618221257,
           0.8070175438596491
          ],
          [
           0.7143674871207785,
           0.7819548872180451
          ],
          [
           0.7125890736342044,
           0.7518796992481203
          ],
          [
           0.7136725935009197,
           0.7293233082706767
          ],
          [
           0.7146433041301626,
           0.7155388471177945
          ],
          [
           0.7157490396927016,
           0.7005012531328321
          ],
          [
           0.7087442472057855,
           0.6754385964912281
          ],
          [
           0.7051712558764271,
           0.6578947368421053
          ],
          [
           0.7006194081211287,
           0.6378446115288221
          ],
          [
           0.6867132867132867,
           0.6152882205513784
          ],
          [
           0.6845827439886846,
           0.606516290726817
          ],
          [
           0.675812274368231,
           0.5864661654135338
          ],
          [
           0.6715542521994134,
           0.5739348370927319
          ],
          [
           0.665171898355755,
           0.5576441102756893
          ],
          [
           0.6581132075471698,
           0.5463659147869674
          ],
          [
           0.6493506493506495,
           0.5325814536340853
          ],
          [
           0.6403712296983758,
           0.518796992481203
          ],
          [
           0.641005498821681,
           0.5112781954887218
          ],
          [
           0.6365079365079365,
           0.5025062656641605
          ],
          [
           0.624398073836276,
           0.487468671679198
          ],
          [
           0.6125101543460602,
           0.4724310776942356
          ],
          [
           0.6060606060606061,
           0.46365914786967416
          ],
          [
           0.5981772990886496,
           0.4523809523809524
          ],
          [
           0.5891213389121339,
           0.44110275689223055
          ],
          [
           0.5757832345469941,
           0.42606516290726815
          ],
          [
           0.5719178082191781,
           0.41854636591478694
          ],
          [
           0.5580589254766031,
           0.40350877192982454
          ],
          [
           0.5464098073555166,
           0.39097744360902253
          ],
          [
           0.5345132743362832,
           0.37844611528822053
          ],
          [
           0.512589928057554,
           0.35714285714285715
          ],
          [
           0.49362477231329693,
           0.33959899749373434
          ],
          [
           0.4885215794306703,
           0.3333333333333333
          ],
          [
           0.4767225325884543,
           0.3208020050125313
          ],
          [
           0.4584905660377358,
           0.30451127819548873
          ],
          [
           0.4509990485252141,
           0.29699248120300753
          ],
          [
           0.4324324324324324,
           0.2807017543859649
          ],
          [
           0.425242718446602,
           0.2744360902255639
          ],
          [
           0.40980392156862744,
           0.2619047619047619
          ],
          [
           0.3972332015810277,
           0.2518796992481203
          ],
          [
           0.3884462151394423,
           0.24436090225563908
          ],
          [
           0.37424547283702214,
           0.23308270676691728
          ],
          [
           0.35845213849287166,
           0.22055137844611528
          ],
          [
           0.3329886246122027,
           0.20175438596491227
          ],
          [
           0.30849947534102834,
           0.18421052631578946
          ],
          [
           0.29957805907172996,
           0.17794486215538846
          ],
          [
           0.28723404255319146,
           0.16917293233082706
          ],
          [
           0.27438370846730975,
           0.16040100250626566
          ],
          [
           0.26321467098166124,
           0.15288220551378445
          ],
          [
           0.25407166123778496,
           0.14661654135338345
          ],
          [
           0.23929747530186604,
           0.13659147869674185
          ],
          [
           0.2354235423542354,
           0.13408521303258145
          ],
          [
           0.21579532814238042,
           0.12155388471177944
          ],
          [
           0.19977553310886645,
           0.11152882205513784
          ],
          [
           0.19187358916478553,
           0.10651629072681704
          ],
          [
           0.17747440273037543,
           0.09774436090225563
          ],
          [
           0.1628440366972477,
           0.08897243107769423
          ],
          [
           0.1501154734411085,
           0.08145363408521303
          ],
          [
           0.14186046511627903,
           0.07644110275689223
          ],
          [
           0.13752913752913754,
           0.07393483709273183
          ],
          [
           0.1244131455399061,
           0.06641604010025062
          ],
          [
           0.11124260355029585,
           0.05889724310776942
          ],
          [
           0.0954653937947494,
           0.05012531328320802
          ],
          [
           0.08862275449101795,
           0.046365914786967416
          ],
          [
           0.08403361344537816,
           0.043859649122807015
          ],
          [
           0.08173076923076923,
           0.042606516290726815
          ],
          [
           0.06545454545454546,
           0.03383458646616541
          ],
          [
           0.06545454545454546,
           0.03383458646616541
          ],
          [
           0.06545454545454546,
           0.03383458646616541
          ],
          [
           0.06310679611650485,
           0.03258145363408521
          ],
          [
           0.060753341433778855,
           0.03132832080200501
          ],
          [
           0.053658536585365846,
           0.02756892230576441
          ],
          [
           0.046511627906976744,
           0.023809523809523808
          ],
          [
           0.04411764705882353,
           0.022556390977443608
          ],
          [
           0.03931203931203931,
           0.020050125313283207
          ],
          [
           0.032059186189889025,
           0.016290726817042606
          ],
          [
           0.024752475247524754,
           0.012531328320802004
          ],
          [
           0.022304832713754646,
           0.011278195488721804
          ],
          [
           0.019851116625310174,
           0.010025062656641603
          ],
          [
           0.012453300124532999,
           0.006265664160401002
          ],
          [
           0.00749063670411985,
           0.0037593984962406013
          ],
          [
           0,
           0
          ],
          [
           0,
           0
          ],
          [
           0,
           0
          ],
          [
           0,
           0
          ],
          [
           0,
           0
          ],
          [
           0,
           0
          ],
          [
           0,
           0
          ],
          [
           0,
           0
          ],
          [
           0,
           0
          ],
          [
           0,
           0
          ],
          [
           0,
           0
          ],
          [
           0,
           0
          ],
          [
           0,
           0
          ],
          [
           0,
           0
          ],
          [
           0,
           0
          ],
          [
           0,
           0
          ]
         ],
         "hovertemplate": "Recall: %{x:.2f}<br>Precision: %{y:.2f}<br>Confidence: %{text:.2f}<br>F1 Score: %{customdata[0]:.2f}<br>Accuracy: %{customdata[1]:.2f}<extra></extra>",
         "line": {
          "color": "rgba(0, 120, 220, 0.8)",
          "dash": "solid",
          "width": 3
         },
         "marker": {
          "color": "rgba(255, 80, 80, 0.9)",
          "line": {
           "color": "darkred",
           "width": 1
          },
          "size": 8,
          "symbol": "circle"
         },
         "mode": "lines+markers",
         "name": "PR Curve",
         "text": [
          "0.0",
          "0.010101010101010102",
          "0.020202020202020204",
          "0.030303030303030304",
          "0.04040404040404041",
          "0.05050505050505051",
          "0.06060606060606061",
          "0.07070707070707072",
          "0.08080808080808081",
          "0.09090909090909091",
          "0.10101010101010102",
          "0.11111111111111112",
          "0.12121212121212122",
          "0.13131313131313133",
          "0.14141414141414144",
          "0.15151515151515152",
          "0.16161616161616163",
          "0.17171717171717174",
          "0.18181818181818182",
          "0.19191919191919193",
          "0.20202020202020204",
          "0.21212121212121213",
          "0.22222222222222224",
          "0.23232323232323235",
          "0.24242424242424243",
          "0.25252525252525254",
          "0.26262626262626265",
          "0.27272727272727276",
          "0.2828282828282829",
          "0.29292929292929293",
          "0.30303030303030304",
          "0.31313131313131315",
          "0.32323232323232326",
          "0.33333333333333337",
          "0.3434343434343435",
          "0.3535353535353536",
          "0.36363636363636365",
          "0.37373737373737376",
          "0.38383838383838387",
          "0.393939393939394",
          "0.4040404040404041",
          "0.4141414141414142",
          "0.42424242424242425",
          "0.43434343434343436",
          "0.4444444444444445",
          "0.4545454545454546",
          "0.4646464646464647",
          "0.4747474747474748",
          "0.48484848484848486",
          "0.494949494949495",
          "0.5050505050505051",
          "0.5151515151515152",
          "0.5252525252525253",
          "0.5353535353535354",
          "0.5454545454545455",
          "0.5555555555555556",
          "0.5656565656565657",
          "0.5757575757575758",
          "0.5858585858585859",
          "0.595959595959596",
          "0.6060606060606061",
          "0.6161616161616162",
          "0.6262626262626263",
          "0.6363636363636365",
          "0.6464646464646465",
          "0.6565656565656566",
          "0.6666666666666667",
          "0.6767676767676768",
          "0.686868686868687",
          "0.696969696969697",
          "0.7070707070707072",
          "0.7171717171717172",
          "0.7272727272727273",
          "0.7373737373737375",
          "0.7474747474747475",
          "0.7575757575757577",
          "0.7676767676767677",
          "0.7777777777777778",
          "0.787878787878788",
          "0.797979797979798",
          "0.8080808080808082",
          "0.8181818181818182",
          "0.8282828282828284",
          "0.8383838383838385",
          "0.8484848484848485",
          "0.8585858585858587",
          "0.8686868686868687",
          "0.8787878787878789",
          "0.888888888888889",
          "0.8989898989898991",
          "0.9090909090909092",
          "0.9191919191919192",
          "0.9292929292929294",
          "0.9393939393939394",
          "0.9494949494949496",
          "0.9595959595959597",
          "0.9696969696969697",
          "0.9797979797979799",
          "0.98989898989899",
          "1.0"
         ],
         "type": "scatter",
         "x": [
          0.9799498746867168,
          0.9135338345864662,
          0.8671679197994987,
          0.8358395989974937,
          0.8070175438596491,
          0.7819548872180451,
          0.7518796992481203,
          0.7293233082706767,
          0.7155388471177945,
          0.7005012531328321,
          0.6754385964912281,
          0.6578947368421053,
          0.6378446115288221,
          0.6152882205513784,
          0.606516290726817,
          0.5864661654135338,
          0.5739348370927319,
          0.5576441102756893,
          0.5463659147869674,
          0.5325814536340853,
          0.518796992481203,
          0.5112781954887218,
          0.5025062656641605,
          0.487468671679198,
          0.4724310776942356,
          0.46365914786967416,
          0.4523809523809524,
          0.44110275689223055,
          0.42606516290726815,
          0.41854636591478694,
          0.40350877192982454,
          0.39097744360902253,
          0.37844611528822053,
          0.35714285714285715,
          0.33959899749373434,
          0.3333333333333333,
          0.3208020050125313,
          0.30451127819548873,
          0.29699248120300753,
          0.2807017543859649,
          0.2744360902255639,
          0.2619047619047619,
          0.2518796992481203,
          0.24436090225563908,
          0.23308270676691728,
          0.22055137844611528,
          0.20175438596491227,
          0.18421052631578946,
          0.17794486215538846,
          0.16917293233082706,
          0.16040100250626566,
          0.15288220551378445,
          0.14661654135338345,
          0.13659147869674185,
          0.13408521303258145,
          0.12155388471177944,
          0.11152882205513784,
          0.10651629072681704,
          0.09774436090225563,
          0.08897243107769423,
          0.08145363408521303,
          0.07644110275689223,
          0.07393483709273183,
          0.06641604010025062,
          0.05889724310776942,
          0.05012531328320802,
          0.046365914786967416,
          0.043859649122807015,
          0.042606516290726815,
          0.03383458646616541,
          0.03383458646616541,
          0.03383458646616541,
          0.03258145363408521,
          0.03132832080200501,
          0.02756892230576441,
          0.023809523809523808,
          0.022556390977443608,
          0.020050125313283207,
          0.016290726817042606,
          0.012531328320802004,
          0.011278195488721804,
          0.010025062656641603,
          0.006265664160401002,
          0.0037593984962406013,
          0,
          0,
          0,
          0,
          0,
          0,
          0,
          0,
          0,
          0,
          0,
          0,
          0,
          0,
          0,
          0
         ],
         "y": [
          0.11592054550844945,
          0.38087774294670845,
          0.4825662482566248,
          0.5614478114478114,
          0.615678776290631,
          0.6575342465753424,
          0.6772009029345373,
          0.6986794717887155,
          0.71375,
          0.731675392670157,
          0.7455048409405256,
          0.7597684515195369,
          0.7770992366412214,
          0.7768987341772152,
          0.7857142857142857,
          0.797274275979557,
          0.8091872791519434,
          0.8240740740740741,
          0.8273244781783681,
          0.8317025440313112,
          0.8363636363636363,
          0.8589473684210527,
          0.8679653679653679,
          0.8683035714285714,
          0.8706697459584296,
          0.8747044917257684,
          0.882640586797066,
          0.8866498740554156,
          0.8877284595300261,
          0.9027027027027027,
          0.9044943820224719,
          0.9069767441860465,
          0.9096385542168675,
          0.9076433121019108,
          0.9033333333333333,
          0.9140893470790378,
          0.927536231884058,
          0.9274809160305344,
          0.9367588932806324,
          0.9411764705882353,
          0.9439655172413793,
          0.9414414414414415,
          0.9392523364485982,
          0.9466019417475728,
          0.9489795918367347,
          0.9565217391304348,
          0.9526627218934911,
          0.9483870967741935,
          0.9466666666666667,
          0.9507042253521126,
          0.9481481481481482,
          0.9457364341085271,
          0.9512195121951219,
          0.9646017699115044,
          0.963963963963964,
          0.9603960396039604,
          0.956989247311828,
          0.9659090909090909,
          0.9629629629629629,
          0.9594594594594594,
          0.9558823529411765,
          0.9838709677419355,
          0.9833333333333333,
          0.9814814814814815,
          1,
          1,
          1,
          1,
          1,
          1,
          1,
          1,
          1,
          1,
          1,
          1,
          1,
          1,
          1,
          1,
          1,
          1,
          1,
          1,
          0,
          0,
          0,
          0,
          0,
          0,
          0,
          0,
          0,
          0,
          0,
          0,
          0,
          0,
          0,
          0
         ]
        },
        {
         "fill": "tozeroy",
         "fillcolor": "rgba(0, 120, 220, 0.2)",
         "mode": "none",
         "name": "Area Under Curve",
         "type": "scatter",
         "x": [
          0.9799498746867168,
          0.9135338345864662,
          0.8671679197994987,
          0.8358395989974937,
          0.8070175438596491,
          0.7819548872180451,
          0.7518796992481203,
          0.7293233082706767,
          0.7155388471177945,
          0.7005012531328321,
          0.6754385964912281,
          0.6578947368421053,
          0.6378446115288221,
          0.6152882205513784,
          0.606516290726817,
          0.5864661654135338,
          0.5739348370927319,
          0.5576441102756893,
          0.5463659147869674,
          0.5325814536340853,
          0.518796992481203,
          0.5112781954887218,
          0.5025062656641605,
          0.487468671679198,
          0.4724310776942356,
          0.46365914786967416,
          0.4523809523809524,
          0.44110275689223055,
          0.42606516290726815,
          0.41854636591478694,
          0.40350877192982454,
          0.39097744360902253,
          0.37844611528822053,
          0.35714285714285715,
          0.33959899749373434,
          0.3333333333333333,
          0.3208020050125313,
          0.30451127819548873,
          0.29699248120300753,
          0.2807017543859649,
          0.2744360902255639,
          0.2619047619047619,
          0.2518796992481203,
          0.24436090225563908,
          0.23308270676691728,
          0.22055137844611528,
          0.20175438596491227,
          0.18421052631578946,
          0.17794486215538846,
          0.16917293233082706,
          0.16040100250626566,
          0.15288220551378445,
          0.14661654135338345,
          0.13659147869674185,
          0.13408521303258145,
          0.12155388471177944,
          0.11152882205513784,
          0.10651629072681704,
          0.09774436090225563,
          0.08897243107769423,
          0.08145363408521303,
          0.07644110275689223,
          0.07393483709273183,
          0.06641604010025062,
          0.05889724310776942,
          0.05012531328320802,
          0.046365914786967416,
          0.043859649122807015,
          0.042606516290726815,
          0.03383458646616541,
          0.03383458646616541,
          0.03383458646616541,
          0.03258145363408521,
          0.03132832080200501,
          0.02756892230576441,
          0.023809523809523808,
          0.022556390977443608,
          0.020050125313283207,
          0.016290726817042606,
          0.012531328320802004,
          0.011278195488721804,
          0.010025062656641603,
          0.006265664160401002,
          0.0037593984962406013,
          0,
          0,
          0,
          0,
          0,
          0,
          0,
          0,
          0,
          0,
          0,
          0,
          0,
          0,
          0,
          0
         ],
         "y": [
          0.11592054550844945,
          0.38087774294670845,
          0.4825662482566248,
          0.5614478114478114,
          0.615678776290631,
          0.6575342465753424,
          0.6772009029345373,
          0.6986794717887155,
          0.71375,
          0.731675392670157,
          0.7455048409405256,
          0.7597684515195369,
          0.7770992366412214,
          0.7768987341772152,
          0.7857142857142857,
          0.797274275979557,
          0.8091872791519434,
          0.8240740740740741,
          0.8273244781783681,
          0.8317025440313112,
          0.8363636363636363,
          0.8589473684210527,
          0.8679653679653679,
          0.8683035714285714,
          0.8706697459584296,
          0.8747044917257684,
          0.882640586797066,
          0.8866498740554156,
          0.8877284595300261,
          0.9027027027027027,
          0.9044943820224719,
          0.9069767441860465,
          0.9096385542168675,
          0.9076433121019108,
          0.9033333333333333,
          0.9140893470790378,
          0.927536231884058,
          0.9274809160305344,
          0.9367588932806324,
          0.9411764705882353,
          0.9439655172413793,
          0.9414414414414415,
          0.9392523364485982,
          0.9466019417475728,
          0.9489795918367347,
          0.9565217391304348,
          0.9526627218934911,
          0.9483870967741935,
          0.9466666666666667,
          0.9507042253521126,
          0.9481481481481482,
          0.9457364341085271,
          0.9512195121951219,
          0.9646017699115044,
          0.963963963963964,
          0.9603960396039604,
          0.956989247311828,
          0.9659090909090909,
          0.9629629629629629,
          0.9594594594594594,
          0.9558823529411765,
          0.9838709677419355,
          0.9833333333333333,
          0.9814814814814815,
          1,
          1,
          1,
          1,
          1,
          1,
          1,
          1,
          1,
          1,
          1,
          1,
          1,
          1,
          1,
          1,
          1,
          1,
          1,
          1,
          0,
          0,
          0,
          0,
          0,
          0,
          0,
          0,
          0,
          0,
          0,
          0,
          0,
          0,
          0,
          0
         ]
        },
        {
         "marker": {
          "color": "green",
          "size": 10,
          "symbol": "star"
         },
         "mode": "markers+text",
         "name": "Precision=0.84, Recall=0.58",
         "text": [
          "P=0.84, R=0.58"
         ],
         "textposition": "top center",
         "type": "scatter",
         "x": [
          0.58
         ],
         "y": [
          0.84
         ]
        },
        {
         "marker": {
          "color": "green",
          "size": 10,
          "symbol": "star"
         },
         "mode": "markers+text",
         "name": "Precision=0.58, Recall=0.84",
         "text": [
          "P=0.58, R=0.84"
         ],
         "textposition": "top center",
         "type": "scatter",
         "x": [
          0.84
         ],
         "y": [
          0.58
         ]
        }
       ],
       "layout": {
        "showlegend": true,
        "template": {
         "data": {
          "bar": [
           {
            "error_x": {
             "color": "#2a3f5f"
            },
            "error_y": {
             "color": "#2a3f5f"
            },
            "marker": {
             "line": {
              "color": "#E5ECF6",
              "width": 0.5
             },
             "pattern": {
              "fillmode": "overlay",
              "size": 10,
              "solidity": 0.2
             }
            },
            "type": "bar"
           }
          ],
          "barpolar": [
           {
            "marker": {
             "line": {
              "color": "#E5ECF6",
              "width": 0.5
             },
             "pattern": {
              "fillmode": "overlay",
              "size": 10,
              "solidity": 0.2
             }
            },
            "type": "barpolar"
           }
          ],
          "carpet": [
           {
            "aaxis": {
             "endlinecolor": "#2a3f5f",
             "gridcolor": "white",
             "linecolor": "white",
             "minorgridcolor": "white",
             "startlinecolor": "#2a3f5f"
            },
            "baxis": {
             "endlinecolor": "#2a3f5f",
             "gridcolor": "white",
             "linecolor": "white",
             "minorgridcolor": "white",
             "startlinecolor": "#2a3f5f"
            },
            "type": "carpet"
           }
          ],
          "choropleth": [
           {
            "colorbar": {
             "outlinewidth": 0,
             "ticks": ""
            },
            "type": "choropleth"
           }
          ],
          "contour": [
           {
            "colorbar": {
             "outlinewidth": 0,
             "ticks": ""
            },
            "colorscale": [
             [
              0,
              "#0d0887"
             ],
             [
              0.1111111111111111,
              "#46039f"
             ],
             [
              0.2222222222222222,
              "#7201a8"
             ],
             [
              0.3333333333333333,
              "#9c179e"
             ],
             [
              0.4444444444444444,
              "#bd3786"
             ],
             [
              0.5555555555555556,
              "#d8576b"
             ],
             [
              0.6666666666666666,
              "#ed7953"
             ],
             [
              0.7777777777777778,
              "#fb9f3a"
             ],
             [
              0.8888888888888888,
              "#fdca26"
             ],
             [
              1,
              "#f0f921"
             ]
            ],
            "type": "contour"
           }
          ],
          "contourcarpet": [
           {
            "colorbar": {
             "outlinewidth": 0,
             "ticks": ""
            },
            "type": "contourcarpet"
           }
          ],
          "heatmap": [
           {
            "colorbar": {
             "outlinewidth": 0,
             "ticks": ""
            },
            "colorscale": [
             [
              0,
              "#0d0887"
             ],
             [
              0.1111111111111111,
              "#46039f"
             ],
             [
              0.2222222222222222,
              "#7201a8"
             ],
             [
              0.3333333333333333,
              "#9c179e"
             ],
             [
              0.4444444444444444,
              "#bd3786"
             ],
             [
              0.5555555555555556,
              "#d8576b"
             ],
             [
              0.6666666666666666,
              "#ed7953"
             ],
             [
              0.7777777777777778,
              "#fb9f3a"
             ],
             [
              0.8888888888888888,
              "#fdca26"
             ],
             [
              1,
              "#f0f921"
             ]
            ],
            "type": "heatmap"
           }
          ],
          "histogram": [
           {
            "marker": {
             "pattern": {
              "fillmode": "overlay",
              "size": 10,
              "solidity": 0.2
             }
            },
            "type": "histogram"
           }
          ],
          "histogram2d": [
           {
            "colorbar": {
             "outlinewidth": 0,
             "ticks": ""
            },
            "colorscale": [
             [
              0,
              "#0d0887"
             ],
             [
              0.1111111111111111,
              "#46039f"
             ],
             [
              0.2222222222222222,
              "#7201a8"
             ],
             [
              0.3333333333333333,
              "#9c179e"
             ],
             [
              0.4444444444444444,
              "#bd3786"
             ],
             [
              0.5555555555555556,
              "#d8576b"
             ],
             [
              0.6666666666666666,
              "#ed7953"
             ],
             [
              0.7777777777777778,
              "#fb9f3a"
             ],
             [
              0.8888888888888888,
              "#fdca26"
             ],
             [
              1,
              "#f0f921"
             ]
            ],
            "type": "histogram2d"
           }
          ],
          "histogram2dcontour": [
           {
            "colorbar": {
             "outlinewidth": 0,
             "ticks": ""
            },
            "colorscale": [
             [
              0,
              "#0d0887"
             ],
             [
              0.1111111111111111,
              "#46039f"
             ],
             [
              0.2222222222222222,
              "#7201a8"
             ],
             [
              0.3333333333333333,
              "#9c179e"
             ],
             [
              0.4444444444444444,
              "#bd3786"
             ],
             [
              0.5555555555555556,
              "#d8576b"
             ],
             [
              0.6666666666666666,
              "#ed7953"
             ],
             [
              0.7777777777777778,
              "#fb9f3a"
             ],
             [
              0.8888888888888888,
              "#fdca26"
             ],
             [
              1,
              "#f0f921"
             ]
            ],
            "type": "histogram2dcontour"
           }
          ],
          "mesh3d": [
           {
            "colorbar": {
             "outlinewidth": 0,
             "ticks": ""
            },
            "type": "mesh3d"
           }
          ],
          "parcoords": [
           {
            "line": {
             "colorbar": {
              "outlinewidth": 0,
              "ticks": ""
             }
            },
            "type": "parcoords"
           }
          ],
          "pie": [
           {
            "automargin": true,
            "type": "pie"
           }
          ],
          "scatter": [
           {
            "fillpattern": {
             "fillmode": "overlay",
             "size": 10,
             "solidity": 0.2
            },
            "type": "scatter"
           }
          ],
          "scatter3d": [
           {
            "line": {
             "colorbar": {
              "outlinewidth": 0,
              "ticks": ""
             }
            },
            "marker": {
             "colorbar": {
              "outlinewidth": 0,
              "ticks": ""
             }
            },
            "type": "scatter3d"
           }
          ],
          "scattercarpet": [
           {
            "marker": {
             "colorbar": {
              "outlinewidth": 0,
              "ticks": ""
             }
            },
            "type": "scattercarpet"
           }
          ],
          "scattergeo": [
           {
            "marker": {
             "colorbar": {
              "outlinewidth": 0,
              "ticks": ""
             }
            },
            "type": "scattergeo"
           }
          ],
          "scattergl": [
           {
            "marker": {
             "colorbar": {
              "outlinewidth": 0,
              "ticks": ""
             }
            },
            "type": "scattergl"
           }
          ],
          "scattermap": [
           {
            "marker": {
             "colorbar": {
              "outlinewidth": 0,
              "ticks": ""
             }
            },
            "type": "scattermap"
           }
          ],
          "scattermapbox": [
           {
            "marker": {
             "colorbar": {
              "outlinewidth": 0,
              "ticks": ""
             }
            },
            "type": "scattermapbox"
           }
          ],
          "scatterpolar": [
           {
            "marker": {
             "colorbar": {
              "outlinewidth": 0,
              "ticks": ""
             }
            },
            "type": "scatterpolar"
           }
          ],
          "scatterpolargl": [
           {
            "marker": {
             "colorbar": {
              "outlinewidth": 0,
              "ticks": ""
             }
            },
            "type": "scatterpolargl"
           }
          ],
          "scatterternary": [
           {
            "marker": {
             "colorbar": {
              "outlinewidth": 0,
              "ticks": ""
             }
            },
            "type": "scatterternary"
           }
          ],
          "surface": [
           {
            "colorbar": {
             "outlinewidth": 0,
             "ticks": ""
            },
            "colorscale": [
             [
              0,
              "#0d0887"
             ],
             [
              0.1111111111111111,
              "#46039f"
             ],
             [
              0.2222222222222222,
              "#7201a8"
             ],
             [
              0.3333333333333333,
              "#9c179e"
             ],
             [
              0.4444444444444444,
              "#bd3786"
             ],
             [
              0.5555555555555556,
              "#d8576b"
             ],
             [
              0.6666666666666666,
              "#ed7953"
             ],
             [
              0.7777777777777778,
              "#fb9f3a"
             ],
             [
              0.8888888888888888,
              "#fdca26"
             ],
             [
              1,
              "#f0f921"
             ]
            ],
            "type": "surface"
           }
          ],
          "table": [
           {
            "cells": {
             "fill": {
              "color": "#EBF0F8"
             },
             "line": {
              "color": "white"
             }
            },
            "header": {
             "fill": {
              "color": "#C8D4E3"
             },
             "line": {
              "color": "white"
             }
            },
            "type": "table"
           }
          ]
         },
         "layout": {
          "annotationdefaults": {
           "arrowcolor": "#2a3f5f",
           "arrowhead": 0,
           "arrowwidth": 1
          },
          "autotypenumbers": "strict",
          "coloraxis": {
           "colorbar": {
            "outlinewidth": 0,
            "ticks": ""
           }
          },
          "colorscale": {
           "diverging": [
            [
             0,
             "#8e0152"
            ],
            [
             0.1,
             "#c51b7d"
            ],
            [
             0.2,
             "#de77ae"
            ],
            [
             0.3,
             "#f1b6da"
            ],
            [
             0.4,
             "#fde0ef"
            ],
            [
             0.5,
             "#f7f7f7"
            ],
            [
             0.6,
             "#e6f5d0"
            ],
            [
             0.7,
             "#b8e186"
            ],
            [
             0.8,
             "#7fbc41"
            ],
            [
             0.9,
             "#4d9221"
            ],
            [
             1,
             "#276419"
            ]
           ],
           "sequential": [
            [
             0,
             "#0d0887"
            ],
            [
             0.1111111111111111,
             "#46039f"
            ],
            [
             0.2222222222222222,
             "#7201a8"
            ],
            [
             0.3333333333333333,
             "#9c179e"
            ],
            [
             0.4444444444444444,
             "#bd3786"
            ],
            [
             0.5555555555555556,
             "#d8576b"
            ],
            [
             0.6666666666666666,
             "#ed7953"
            ],
            [
             0.7777777777777778,
             "#fb9f3a"
            ],
            [
             0.8888888888888888,
             "#fdca26"
            ],
            [
             1,
             "#f0f921"
            ]
           ],
           "sequentialminus": [
            [
             0,
             "#0d0887"
            ],
            [
             0.1111111111111111,
             "#46039f"
            ],
            [
             0.2222222222222222,
             "#7201a8"
            ],
            [
             0.3333333333333333,
             "#9c179e"
            ],
            [
             0.4444444444444444,
             "#bd3786"
            ],
            [
             0.5555555555555556,
             "#d8576b"
            ],
            [
             0.6666666666666666,
             "#ed7953"
            ],
            [
             0.7777777777777778,
             "#fb9f3a"
            ],
            [
             0.8888888888888888,
             "#fdca26"
            ],
            [
             1,
             "#f0f921"
            ]
           ]
          },
          "colorway": [
           "#636efa",
           "#EF553B",
           "#00cc96",
           "#ab63fa",
           "#FFA15A",
           "#19d3f3",
           "#FF6692",
           "#B6E880",
           "#FF97FF",
           "#FECB52"
          ],
          "font": {
           "color": "#2a3f5f"
          },
          "geo": {
           "bgcolor": "white",
           "lakecolor": "white",
           "landcolor": "#E5ECF6",
           "showlakes": true,
           "showland": true,
           "subunitcolor": "white"
          },
          "hoverlabel": {
           "align": "left"
          },
          "hovermode": "closest",
          "mapbox": {
           "style": "light"
          },
          "paper_bgcolor": "white",
          "plot_bgcolor": "#E5ECF6",
          "polar": {
           "angularaxis": {
            "gridcolor": "white",
            "linecolor": "white",
            "ticks": ""
           },
           "bgcolor": "#E5ECF6",
           "radialaxis": {
            "gridcolor": "white",
            "linecolor": "white",
            "ticks": ""
           }
          },
          "scene": {
           "xaxis": {
            "backgroundcolor": "#E5ECF6",
            "gridcolor": "white",
            "gridwidth": 2,
            "linecolor": "white",
            "showbackground": true,
            "ticks": "",
            "zerolinecolor": "white"
           },
           "yaxis": {
            "backgroundcolor": "#E5ECF6",
            "gridcolor": "white",
            "gridwidth": 2,
            "linecolor": "white",
            "showbackground": true,
            "ticks": "",
            "zerolinecolor": "white"
           },
           "zaxis": {
            "backgroundcolor": "#E5ECF6",
            "gridcolor": "white",
            "gridwidth": 2,
            "linecolor": "white",
            "showbackground": true,
            "ticks": "",
            "zerolinecolor": "white"
           }
          },
          "shapedefaults": {
           "line": {
            "color": "#2a3f5f"
           }
          },
          "ternary": {
           "aaxis": {
            "gridcolor": "white",
            "linecolor": "white",
            "ticks": ""
           },
           "baxis": {
            "gridcolor": "white",
            "linecolor": "white",
            "ticks": ""
           },
           "bgcolor": "#E5ECF6",
           "caxis": {
            "gridcolor": "white",
            "linecolor": "white",
            "ticks": ""
           }
          },
          "title": {
           "x": 0.05
          },
          "xaxis": {
           "automargin": true,
           "gridcolor": "white",
           "linecolor": "white",
           "ticks": "",
           "title": {
            "standoff": 15
           },
           "zerolinecolor": "white",
           "zerolinewidth": 2
          },
          "yaxis": {
           "automargin": true,
           "gridcolor": "white",
           "linecolor": "white",
           "ticks": "",
           "title": {
            "standoff": 15
           },
           "zerolinecolor": "white",
           "zerolinewidth": 2
          }
         }
        },
        "title": {
         "text": "Precision-Recall Curve for best_11s_1024_dataO2_NoAug_b16.pt (labels_O1/)"
        },
        "xaxis": {
         "title": {
          "text": "Recall"
         }
        },
        "yaxis": {
         "title": {
          "text": "Precision"
         }
        }
       }
      }
     },
     "metadata": {},
     "output_type": "display_data"
    },
    {
     "name": "stdout",
     "output_type": "stream",
     "text": [
      "Processing label directory: labels_O2/\n"
     ]
    },
    {
     "name": "stderr",
     "output_type": "stream",
     "text": [
      "Processing thresholds: 100%|██████████| 100/100 [18:51<00:00, 11.31s/it]\n"
     ]
    },
    {
     "data": {
      "application/vnd.plotly.v1+json": {
       "config": {
        "plotlyServerURL": "https://plot.ly"
       },
       "data": [
        {
         "customdata": [
          [
           0.13318807027100638,
           0.9721669980119284
          ],
          [
           0.38341091832416424,
           0.9005964214711729
          ],
          [
           0.4654895666131621,
           0.8648111332007953
          ],
          [
           0.5301055245189322,
           0.8489065606361829
          ],
          [
           0.5677331518039482,
           0.8290258449304175
          ],
          [
           0.5956204379562043,
           0.8111332007952287
          ],
          [
           0.5964642582628746,
           0.7713717693836978
          ],
          [
           0.6098726114649681,
           0.7614314115308151
          ],
          [
           0.6189300411522634,
           0.7475149105367793
          ],
          [
           0.6294416243654823,
           0.7395626242544732
          ],
          [
           0.631762652705061,
           0.7196819085487077
          ],
          [
           0.6374216651745749,
           0.7077534791252486
          ],
          [
           0.6414048059149722,
           0.6898608349900597
          ],
          [
           0.6465598491988689,
           0.6819085487077535
          ],
          [
           0.6442953020134227,
           0.6679920477137177
          ],
          [
           0.6457311089303239,
           0.6540755467196819
          ],
          [
           0.6434262948207171,
           0.6421471172962226
          ],
          [
           0.6435137895812053,
           0.6262425447316103
          ],
          [
           0.6431535269709543,
           0.6163021868787276
          ],
          [
           0.64,
           0.6043737574552683
          ],
          [
           0.6310160427807487,
           0.5864811133200796
          ],
          [
           0.631004366812227,
           0.5745526838966203
          ],
          [
           0.6357615894039735,
           0.5725646123260437
          ],
          [
           0.6315789473684211,
           0.5606361829025845
          ],
          [
           0.626560726447219,
           0.5487077534791253
          ],
          [
           0.616800920598389,
           0.532803180914513
          ],
          [
           0.6081871345029239,
           0.5168986083499006
          ],
          [
           0.5974025974025975,
           0.5029821073558648
          ],
          [
           0.5894988066825776,
           0.49105367793240556
          ],
          [
           0.5835351089588378,
           0.47912524850894633
          ],
          [
           0.5766871165644172,
           0.4671968190854871
          ],
          [
           0.5728518057285181,
           0.4572564612326044
          ],
          [
           0.5717884130982368,
           0.45129224652087474
          ],
          [
           0.556701030927835,
           0.4294234592445328
          ],
          [
           0.5490196078431372,
           0.41749502982107356
          ],
          [
           0.5396825396825397,
           0.40556660039761433
          ],
          [
           0.5283018867924528,
           0.38966202783300197
          ],
          [
           0.506155950752394,
           0.36779324055666
          ],
          [
           0.49375866851595,
           0.3538767395626243
          ],
          [
           0.4767277856135402,
           0.3359840954274354
          ],
          [
           0.46875000000000006,
           0.32803180914512925
          ],
          [
           0.4540229885057472,
           0.31411530815109345
          ],
          [
           0.44347826086956527,
           0.30417495029821073
          ],
          [
           0.43274853801169594,
           0.294234592445328
          ],
          [
           0.4118518518518518,
           0.27634194831013914
          ],
          [
           0.39398496240601505,
           0.26043737574552683
          ],
          [
           0.3675344563552833,
           0.23856858846918488
          ],
          [
           0.343213728549142,
           0.21868787276341947
          ],
          [
           0.33647798742138363,
           0.21272365805168986
          ],
          [
           0.32698412698412704,
           0.2047713717693837
          ],
          [
           0.3081861958266453,
           0.1908548707753479
          ],
          [
           0.29497568881685576,
           0.18091451292246521
          ],
          [
           0.28758169934640526,
           0.1749502982107356
          ],
          [
           0.2743801652892562,
           0.16500994035785288
          ],
          [
           0.2715231788079471,
           0.16302186878727634
          ],
          [
           0.25210084033613445,
           0.14910536779324055
          ],
          [
           0.2406779661016949,
           0.1411530815109344
          ],
          [
           0.22905982905982908,
           0.13320079522862824
          ],
          [
           0.21453287197231832,
           0.12326043737574553
          ],
          [
           0.20279720279720279,
           0.11530815109343936
          ],
          [
           0.1837455830388693,
           0.10337972166998012
          ],
          [
           0.1711229946524064,
           0.09542743538767395
          ],
          [
           0.1714285714285714,
           0.09542743538767395
          ],
          [
           0.16576576576576577,
           0.09145129224652088
          ],
          [
           0.145985401459854,
           0.07952286282306163
          ],
          [
           0.12915129151291513,
           0.06958250497017893
          ],
          [
           0.12244897959183676,
           0.06560636182902585
          ],
          [
           0.11895910780669143,
           0.0636182902584493
          ],
          [
           0.1154562383612663,
           0.061630218687872766
          ],
          [
           0.09056603773584905,
           0.04771371769383698
          ],
          [
           0.09056603773584905,
           0.04771371769383698
          ],
          [
           0.09056603773584905,
           0.04771371769383698
          ],
          [
           0.08695652173913043,
           0.04572564612326044
          ],
          [
           0.08333333333333334,
           0.0437375745526839
          ],
          [
           0.07238095238095237,
           0.03777335984095427
          ],
          [
           0.06130268199233716,
           0.03180914512922465
          ],
          [
           0.05758157389635316,
           0.02982107355864811
          ],
          [
           0.05009633911368016,
           0.02584493041749503
          ],
          [
           0.046511627906976744,
           0.02385685884691849
          ],
          [
           0.03508771929824562,
           0.017892644135188866
          ],
          [
           0.031249999999999997,
           0.015904572564612324
          ],
          [
           0.027397260273972608,
           0.013916500994035786
          ],
          [
           0.01968503937007874,
           0.009940357852882704
          ],
          [
           0.011857707509881422,
           0.005964214711729622
          ],
          [
           0,
           0
          ],
          [
           0,
           0
          ],
          [
           0,
           0
          ],
          [
           0,
           0
          ],
          [
           0,
           0
          ],
          [
           0,
           0
          ],
          [
           0,
           0
          ],
          [
           0,
           0
          ],
          [
           0,
           0
          ],
          [
           0,
           0
          ],
          [
           0,
           0
          ],
          [
           0,
           0
          ],
          [
           0,
           0
          ],
          [
           0,
           0
          ],
          [
           0,
           0
          ],
          [
           0,
           0
          ]
         ],
         "hovertemplate": "Recall: %{x:.2f}<br>Precision: %{y:.2f}<br>Confidence: %{text:.2f}<br>F1 Score: %{customdata[0]:.2f}<br>Accuracy: %{customdata[1]:.2f}<extra></extra>",
         "line": {
          "color": "rgba(0, 120, 220, 0.8)",
          "dash": "solid",
          "width": 3
         },
         "marker": {
          "color": "rgba(255, 80, 80, 0.9)",
          "line": {
           "color": "darkred",
           "width": 1
          },
          "size": 8,
          "symbol": "circle"
         },
         "mode": "lines+markers",
         "name": "PR Curve",
         "text": [
          "0.0",
          "0.010101010101010102",
          "0.020202020202020204",
          "0.030303030303030304",
          "0.04040404040404041",
          "0.05050505050505051",
          "0.06060606060606061",
          "0.07070707070707072",
          "0.08080808080808081",
          "0.09090909090909091",
          "0.10101010101010102",
          "0.11111111111111112",
          "0.12121212121212122",
          "0.13131313131313133",
          "0.14141414141414144",
          "0.15151515151515152",
          "0.16161616161616163",
          "0.17171717171717174",
          "0.18181818181818182",
          "0.19191919191919193",
          "0.20202020202020204",
          "0.21212121212121213",
          "0.22222222222222224",
          "0.23232323232323235",
          "0.24242424242424243",
          "0.25252525252525254",
          "0.26262626262626265",
          "0.27272727272727276",
          "0.2828282828282829",
          "0.29292929292929293",
          "0.30303030303030304",
          "0.31313131313131315",
          "0.32323232323232326",
          "0.33333333333333337",
          "0.3434343434343435",
          "0.3535353535353536",
          "0.36363636363636365",
          "0.37373737373737376",
          "0.38383838383838387",
          "0.393939393939394",
          "0.4040404040404041",
          "0.4141414141414142",
          "0.42424242424242425",
          "0.43434343434343436",
          "0.4444444444444445",
          "0.4545454545454546",
          "0.4646464646464647",
          "0.4747474747474748",
          "0.48484848484848486",
          "0.494949494949495",
          "0.5050505050505051",
          "0.5151515151515152",
          "0.5252525252525253",
          "0.5353535353535354",
          "0.5454545454545455",
          "0.5555555555555556",
          "0.5656565656565657",
          "0.5757575757575758",
          "0.5858585858585859",
          "0.595959595959596",
          "0.6060606060606061",
          "0.6161616161616162",
          "0.6262626262626263",
          "0.6363636363636365",
          "0.6464646464646465",
          "0.6565656565656566",
          "0.6666666666666667",
          "0.6767676767676768",
          "0.686868686868687",
          "0.696969696969697",
          "0.7070707070707072",
          "0.7171717171717172",
          "0.7272727272727273",
          "0.7373737373737375",
          "0.7474747474747475",
          "0.7575757575757577",
          "0.7676767676767677",
          "0.7777777777777778",
          "0.787878787878788",
          "0.797979797979798",
          "0.8080808080808082",
          "0.8181818181818182",
          "0.8282828282828284",
          "0.8383838383838385",
          "0.8484848484848485",
          "0.8585858585858587",
          "0.8686868686868687",
          "0.8787878787878789",
          "0.888888888888889",
          "0.8989898989898991",
          "0.9090909090909092",
          "0.9191919191919192",
          "0.9292929292929294",
          "0.9393939393939394",
          "0.9494949494949496",
          "0.9595959595959597",
          "0.9696969696969697",
          "0.9797979797979799",
          "0.98989898989899",
          "1.0"
         ],
         "type": "scatter",
         "x": [
          0.9721669980119284,
          0.9005964214711729,
          0.8648111332007953,
          0.8489065606361829,
          0.8290258449304175,
          0.8111332007952287,
          0.7713717693836978,
          0.7614314115308151,
          0.7475149105367793,
          0.7395626242544732,
          0.7196819085487077,
          0.7077534791252486,
          0.6898608349900597,
          0.6819085487077535,
          0.6679920477137177,
          0.6540755467196819,
          0.6421471172962226,
          0.6262425447316103,
          0.6163021868787276,
          0.6043737574552683,
          0.5864811133200796,
          0.5745526838966203,
          0.5725646123260437,
          0.5606361829025845,
          0.5487077534791253,
          0.532803180914513,
          0.5168986083499006,
          0.5029821073558648,
          0.49105367793240556,
          0.47912524850894633,
          0.4671968190854871,
          0.4572564612326044,
          0.45129224652087474,
          0.4294234592445328,
          0.41749502982107356,
          0.40556660039761433,
          0.38966202783300197,
          0.36779324055666,
          0.3538767395626243,
          0.3359840954274354,
          0.32803180914512925,
          0.31411530815109345,
          0.30417495029821073,
          0.294234592445328,
          0.27634194831013914,
          0.26043737574552683,
          0.23856858846918488,
          0.21868787276341947,
          0.21272365805168986,
          0.2047713717693837,
          0.1908548707753479,
          0.18091451292246521,
          0.1749502982107356,
          0.16500994035785288,
          0.16302186878727634,
          0.14910536779324055,
          0.1411530815109344,
          0.13320079522862824,
          0.12326043737574553,
          0.11530815109343936,
          0.10337972166998012,
          0.09542743538767395,
          0.09542743538767395,
          0.09145129224652088,
          0.07952286282306163,
          0.06958250497017893,
          0.06560636182902585,
          0.0636182902584493,
          0.061630218687872766,
          0.04771371769383698,
          0.04771371769383698,
          0.04771371769383698,
          0.04572564612326044,
          0.0437375745526839,
          0.03777335984095427,
          0.03180914512922465,
          0.02982107355864811,
          0.02584493041749503,
          0.02385685884691849,
          0.017892644135188866,
          0.015904572564612324,
          0.013916500994035786,
          0.009940357852882704,
          0.005964214711729622,
          0,
          0,
          0,
          0,
          0,
          0,
          0,
          0,
          0,
          0,
          0,
          0,
          0,
          0,
          0,
          0
         ],
         "y": [
          0.07149122807017544,
          0.2435483870967742,
          0.3184480234260615,
          0.38537906137184114,
          0.43167701863354035,
          0.47058823529411764,
          0.48621553884711777,
          0.5086321381142098,
          0.5280898876404494,
          0.5478645066273933,
          0.5629860031104199,
          0.5798045602605864,
          0.5993091537132987,
          0.6146953405017921,
          0.6222222222222222,
          0.6375968992248062,
          0.6447105788423154,
          0.6617647058823529,
          0.6724511930585684,
          0.680089485458613,
          0.6828703703703703,
          0.6997578692493946,
          0.7146401985111662,
          0.7230769230769231,
          0.7301587301587301,
          0.73224043715847,
          0.7386363636363636,
          0.7354651162790697,
          0.7373134328358208,
          0.7461300309597523,
          0.7532051282051282,
          0.7666666666666667,
          0.7800687285223368,
          0.7912087912087912,
          0.8015267175572519,
          0.8063241106719368,
          0.8200836820083682,
          0.8114035087719298,
          0.8165137614678899,
          0.8203883495145631,
          0.8208955223880597,
          0.8186528497409327,
          0.8181818181818182,
          0.8176795580110497,
          0.8081395348837209,
          0.808641975308642,
          0.8,
          0.7971014492753623,
          0.8045112781954887,
          0.8110236220472441,
          0.8,
          0.7982456140350878,
          0.8073394495412844,
          0.8137254901960784,
          0.8118811881188119,
          0.8152173913043478,
          0.8160919540229885,
          0.8170731707317073,
          0.8266666666666667,
          0.8405797101449275,
          0.8253968253968254,
          0.8275862068965517,
          0.8421052631578947,
          0.8846153846153846,
          0.8888888888888888,
          0.8974358974358975,
          0.9166666666666666,
          0.9142857142857143,
          0.9117647058823529,
          0.8888888888888888,
          0.8888888888888888,
          0.8888888888888888,
          0.8846153846153846,
          0.88,
          0.8636363636363636,
          0.8421052631578947,
          0.8333333333333334,
          0.8125,
          0.9230769230769231,
          0.9,
          0.8888888888888888,
          0.875,
          1,
          1,
          0,
          0,
          0,
          0,
          0,
          0,
          0,
          0,
          0,
          0,
          0,
          0,
          0,
          0,
          0,
          0
         ]
        },
        {
         "fill": "tozeroy",
         "fillcolor": "rgba(0, 120, 220, 0.2)",
         "mode": "none",
         "name": "Area Under Curve",
         "type": "scatter",
         "x": [
          0.9721669980119284,
          0.9005964214711729,
          0.8648111332007953,
          0.8489065606361829,
          0.8290258449304175,
          0.8111332007952287,
          0.7713717693836978,
          0.7614314115308151,
          0.7475149105367793,
          0.7395626242544732,
          0.7196819085487077,
          0.7077534791252486,
          0.6898608349900597,
          0.6819085487077535,
          0.6679920477137177,
          0.6540755467196819,
          0.6421471172962226,
          0.6262425447316103,
          0.6163021868787276,
          0.6043737574552683,
          0.5864811133200796,
          0.5745526838966203,
          0.5725646123260437,
          0.5606361829025845,
          0.5487077534791253,
          0.532803180914513,
          0.5168986083499006,
          0.5029821073558648,
          0.49105367793240556,
          0.47912524850894633,
          0.4671968190854871,
          0.4572564612326044,
          0.45129224652087474,
          0.4294234592445328,
          0.41749502982107356,
          0.40556660039761433,
          0.38966202783300197,
          0.36779324055666,
          0.3538767395626243,
          0.3359840954274354,
          0.32803180914512925,
          0.31411530815109345,
          0.30417495029821073,
          0.294234592445328,
          0.27634194831013914,
          0.26043737574552683,
          0.23856858846918488,
          0.21868787276341947,
          0.21272365805168986,
          0.2047713717693837,
          0.1908548707753479,
          0.18091451292246521,
          0.1749502982107356,
          0.16500994035785288,
          0.16302186878727634,
          0.14910536779324055,
          0.1411530815109344,
          0.13320079522862824,
          0.12326043737574553,
          0.11530815109343936,
          0.10337972166998012,
          0.09542743538767395,
          0.09542743538767395,
          0.09145129224652088,
          0.07952286282306163,
          0.06958250497017893,
          0.06560636182902585,
          0.0636182902584493,
          0.061630218687872766,
          0.04771371769383698,
          0.04771371769383698,
          0.04771371769383698,
          0.04572564612326044,
          0.0437375745526839,
          0.03777335984095427,
          0.03180914512922465,
          0.02982107355864811,
          0.02584493041749503,
          0.02385685884691849,
          0.017892644135188866,
          0.015904572564612324,
          0.013916500994035786,
          0.009940357852882704,
          0.005964214711729622,
          0,
          0,
          0,
          0,
          0,
          0,
          0,
          0,
          0,
          0,
          0,
          0,
          0,
          0,
          0,
          0
         ],
         "y": [
          0.07149122807017544,
          0.2435483870967742,
          0.3184480234260615,
          0.38537906137184114,
          0.43167701863354035,
          0.47058823529411764,
          0.48621553884711777,
          0.5086321381142098,
          0.5280898876404494,
          0.5478645066273933,
          0.5629860031104199,
          0.5798045602605864,
          0.5993091537132987,
          0.6146953405017921,
          0.6222222222222222,
          0.6375968992248062,
          0.6447105788423154,
          0.6617647058823529,
          0.6724511930585684,
          0.680089485458613,
          0.6828703703703703,
          0.6997578692493946,
          0.7146401985111662,
          0.7230769230769231,
          0.7301587301587301,
          0.73224043715847,
          0.7386363636363636,
          0.7354651162790697,
          0.7373134328358208,
          0.7461300309597523,
          0.7532051282051282,
          0.7666666666666667,
          0.7800687285223368,
          0.7912087912087912,
          0.8015267175572519,
          0.8063241106719368,
          0.8200836820083682,
          0.8114035087719298,
          0.8165137614678899,
          0.8203883495145631,
          0.8208955223880597,
          0.8186528497409327,
          0.8181818181818182,
          0.8176795580110497,
          0.8081395348837209,
          0.808641975308642,
          0.8,
          0.7971014492753623,
          0.8045112781954887,
          0.8110236220472441,
          0.8,
          0.7982456140350878,
          0.8073394495412844,
          0.8137254901960784,
          0.8118811881188119,
          0.8152173913043478,
          0.8160919540229885,
          0.8170731707317073,
          0.8266666666666667,
          0.8405797101449275,
          0.8253968253968254,
          0.8275862068965517,
          0.8421052631578947,
          0.8846153846153846,
          0.8888888888888888,
          0.8974358974358975,
          0.9166666666666666,
          0.9142857142857143,
          0.9117647058823529,
          0.8888888888888888,
          0.8888888888888888,
          0.8888888888888888,
          0.8846153846153846,
          0.88,
          0.8636363636363636,
          0.8421052631578947,
          0.8333333333333334,
          0.8125,
          0.9230769230769231,
          0.9,
          0.8888888888888888,
          0.875,
          1,
          1,
          0,
          0,
          0,
          0,
          0,
          0,
          0,
          0,
          0,
          0,
          0,
          0,
          0,
          0,
          0,
          0
         ]
        },
        {
         "marker": {
          "color": "green",
          "size": 10,
          "symbol": "star"
         },
         "mode": "markers+text",
         "name": "Precision=0.84, Recall=0.58",
         "text": [
          "P=0.84, R=0.58"
         ],
         "textposition": "top center",
         "type": "scatter",
         "x": [
          0.58
         ],
         "y": [
          0.84
         ]
        },
        {
         "marker": {
          "color": "green",
          "size": 10,
          "symbol": "star"
         },
         "mode": "markers+text",
         "name": "Precision=0.58, Recall=0.84",
         "text": [
          "P=0.58, R=0.84"
         ],
         "textposition": "top center",
         "type": "scatter",
         "x": [
          0.84
         ],
         "y": [
          0.58
         ]
        }
       ],
       "layout": {
        "showlegend": true,
        "template": {
         "data": {
          "bar": [
           {
            "error_x": {
             "color": "#2a3f5f"
            },
            "error_y": {
             "color": "#2a3f5f"
            },
            "marker": {
             "line": {
              "color": "#E5ECF6",
              "width": 0.5
             },
             "pattern": {
              "fillmode": "overlay",
              "size": 10,
              "solidity": 0.2
             }
            },
            "type": "bar"
           }
          ],
          "barpolar": [
           {
            "marker": {
             "line": {
              "color": "#E5ECF6",
              "width": 0.5
             },
             "pattern": {
              "fillmode": "overlay",
              "size": 10,
              "solidity": 0.2
             }
            },
            "type": "barpolar"
           }
          ],
          "carpet": [
           {
            "aaxis": {
             "endlinecolor": "#2a3f5f",
             "gridcolor": "white",
             "linecolor": "white",
             "minorgridcolor": "white",
             "startlinecolor": "#2a3f5f"
            },
            "baxis": {
             "endlinecolor": "#2a3f5f",
             "gridcolor": "white",
             "linecolor": "white",
             "minorgridcolor": "white",
             "startlinecolor": "#2a3f5f"
            },
            "type": "carpet"
           }
          ],
          "choropleth": [
           {
            "colorbar": {
             "outlinewidth": 0,
             "ticks": ""
            },
            "type": "choropleth"
           }
          ],
          "contour": [
           {
            "colorbar": {
             "outlinewidth": 0,
             "ticks": ""
            },
            "colorscale": [
             [
              0,
              "#0d0887"
             ],
             [
              0.1111111111111111,
              "#46039f"
             ],
             [
              0.2222222222222222,
              "#7201a8"
             ],
             [
              0.3333333333333333,
              "#9c179e"
             ],
             [
              0.4444444444444444,
              "#bd3786"
             ],
             [
              0.5555555555555556,
              "#d8576b"
             ],
             [
              0.6666666666666666,
              "#ed7953"
             ],
             [
              0.7777777777777778,
              "#fb9f3a"
             ],
             [
              0.8888888888888888,
              "#fdca26"
             ],
             [
              1,
              "#f0f921"
             ]
            ],
            "type": "contour"
           }
          ],
          "contourcarpet": [
           {
            "colorbar": {
             "outlinewidth": 0,
             "ticks": ""
            },
            "type": "contourcarpet"
           }
          ],
          "heatmap": [
           {
            "colorbar": {
             "outlinewidth": 0,
             "ticks": ""
            },
            "colorscale": [
             [
              0,
              "#0d0887"
             ],
             [
              0.1111111111111111,
              "#46039f"
             ],
             [
              0.2222222222222222,
              "#7201a8"
             ],
             [
              0.3333333333333333,
              "#9c179e"
             ],
             [
              0.4444444444444444,
              "#bd3786"
             ],
             [
              0.5555555555555556,
              "#d8576b"
             ],
             [
              0.6666666666666666,
              "#ed7953"
             ],
             [
              0.7777777777777778,
              "#fb9f3a"
             ],
             [
              0.8888888888888888,
              "#fdca26"
             ],
             [
              1,
              "#f0f921"
             ]
            ],
            "type": "heatmap"
           }
          ],
          "histogram": [
           {
            "marker": {
             "pattern": {
              "fillmode": "overlay",
              "size": 10,
              "solidity": 0.2
             }
            },
            "type": "histogram"
           }
          ],
          "histogram2d": [
           {
            "colorbar": {
             "outlinewidth": 0,
             "ticks": ""
            },
            "colorscale": [
             [
              0,
              "#0d0887"
             ],
             [
              0.1111111111111111,
              "#46039f"
             ],
             [
              0.2222222222222222,
              "#7201a8"
             ],
             [
              0.3333333333333333,
              "#9c179e"
             ],
             [
              0.4444444444444444,
              "#bd3786"
             ],
             [
              0.5555555555555556,
              "#d8576b"
             ],
             [
              0.6666666666666666,
              "#ed7953"
             ],
             [
              0.7777777777777778,
              "#fb9f3a"
             ],
             [
              0.8888888888888888,
              "#fdca26"
             ],
             [
              1,
              "#f0f921"
             ]
            ],
            "type": "histogram2d"
           }
          ],
          "histogram2dcontour": [
           {
            "colorbar": {
             "outlinewidth": 0,
             "ticks": ""
            },
            "colorscale": [
             [
              0,
              "#0d0887"
             ],
             [
              0.1111111111111111,
              "#46039f"
             ],
             [
              0.2222222222222222,
              "#7201a8"
             ],
             [
              0.3333333333333333,
              "#9c179e"
             ],
             [
              0.4444444444444444,
              "#bd3786"
             ],
             [
              0.5555555555555556,
              "#d8576b"
             ],
             [
              0.6666666666666666,
              "#ed7953"
             ],
             [
              0.7777777777777778,
              "#fb9f3a"
             ],
             [
              0.8888888888888888,
              "#fdca26"
             ],
             [
              1,
              "#f0f921"
             ]
            ],
            "type": "histogram2dcontour"
           }
          ],
          "mesh3d": [
           {
            "colorbar": {
             "outlinewidth": 0,
             "ticks": ""
            },
            "type": "mesh3d"
           }
          ],
          "parcoords": [
           {
            "line": {
             "colorbar": {
              "outlinewidth": 0,
              "ticks": ""
             }
            },
            "type": "parcoords"
           }
          ],
          "pie": [
           {
            "automargin": true,
            "type": "pie"
           }
          ],
          "scatter": [
           {
            "fillpattern": {
             "fillmode": "overlay",
             "size": 10,
             "solidity": 0.2
            },
            "type": "scatter"
           }
          ],
          "scatter3d": [
           {
            "line": {
             "colorbar": {
              "outlinewidth": 0,
              "ticks": ""
             }
            },
            "marker": {
             "colorbar": {
              "outlinewidth": 0,
              "ticks": ""
             }
            },
            "type": "scatter3d"
           }
          ],
          "scattercarpet": [
           {
            "marker": {
             "colorbar": {
              "outlinewidth": 0,
              "ticks": ""
             }
            },
            "type": "scattercarpet"
           }
          ],
          "scattergeo": [
           {
            "marker": {
             "colorbar": {
              "outlinewidth": 0,
              "ticks": ""
             }
            },
            "type": "scattergeo"
           }
          ],
          "scattergl": [
           {
            "marker": {
             "colorbar": {
              "outlinewidth": 0,
              "ticks": ""
             }
            },
            "type": "scattergl"
           }
          ],
          "scattermap": [
           {
            "marker": {
             "colorbar": {
              "outlinewidth": 0,
              "ticks": ""
             }
            },
            "type": "scattermap"
           }
          ],
          "scattermapbox": [
           {
            "marker": {
             "colorbar": {
              "outlinewidth": 0,
              "ticks": ""
             }
            },
            "type": "scattermapbox"
           }
          ],
          "scatterpolar": [
           {
            "marker": {
             "colorbar": {
              "outlinewidth": 0,
              "ticks": ""
             }
            },
            "type": "scatterpolar"
           }
          ],
          "scatterpolargl": [
           {
            "marker": {
             "colorbar": {
              "outlinewidth": 0,
              "ticks": ""
             }
            },
            "type": "scatterpolargl"
           }
          ],
          "scatterternary": [
           {
            "marker": {
             "colorbar": {
              "outlinewidth": 0,
              "ticks": ""
             }
            },
            "type": "scatterternary"
           }
          ],
          "surface": [
           {
            "colorbar": {
             "outlinewidth": 0,
             "ticks": ""
            },
            "colorscale": [
             [
              0,
              "#0d0887"
             ],
             [
              0.1111111111111111,
              "#46039f"
             ],
             [
              0.2222222222222222,
              "#7201a8"
             ],
             [
              0.3333333333333333,
              "#9c179e"
             ],
             [
              0.4444444444444444,
              "#bd3786"
             ],
             [
              0.5555555555555556,
              "#d8576b"
             ],
             [
              0.6666666666666666,
              "#ed7953"
             ],
             [
              0.7777777777777778,
              "#fb9f3a"
             ],
             [
              0.8888888888888888,
              "#fdca26"
             ],
             [
              1,
              "#f0f921"
             ]
            ],
            "type": "surface"
           }
          ],
          "table": [
           {
            "cells": {
             "fill": {
              "color": "#EBF0F8"
             },
             "line": {
              "color": "white"
             }
            },
            "header": {
             "fill": {
              "color": "#C8D4E3"
             },
             "line": {
              "color": "white"
             }
            },
            "type": "table"
           }
          ]
         },
         "layout": {
          "annotationdefaults": {
           "arrowcolor": "#2a3f5f",
           "arrowhead": 0,
           "arrowwidth": 1
          },
          "autotypenumbers": "strict",
          "coloraxis": {
           "colorbar": {
            "outlinewidth": 0,
            "ticks": ""
           }
          },
          "colorscale": {
           "diverging": [
            [
             0,
             "#8e0152"
            ],
            [
             0.1,
             "#c51b7d"
            ],
            [
             0.2,
             "#de77ae"
            ],
            [
             0.3,
             "#f1b6da"
            ],
            [
             0.4,
             "#fde0ef"
            ],
            [
             0.5,
             "#f7f7f7"
            ],
            [
             0.6,
             "#e6f5d0"
            ],
            [
             0.7,
             "#b8e186"
            ],
            [
             0.8,
             "#7fbc41"
            ],
            [
             0.9,
             "#4d9221"
            ],
            [
             1,
             "#276419"
            ]
           ],
           "sequential": [
            [
             0,
             "#0d0887"
            ],
            [
             0.1111111111111111,
             "#46039f"
            ],
            [
             0.2222222222222222,
             "#7201a8"
            ],
            [
             0.3333333333333333,
             "#9c179e"
            ],
            [
             0.4444444444444444,
             "#bd3786"
            ],
            [
             0.5555555555555556,
             "#d8576b"
            ],
            [
             0.6666666666666666,
             "#ed7953"
            ],
            [
             0.7777777777777778,
             "#fb9f3a"
            ],
            [
             0.8888888888888888,
             "#fdca26"
            ],
            [
             1,
             "#f0f921"
            ]
           ],
           "sequentialminus": [
            [
             0,
             "#0d0887"
            ],
            [
             0.1111111111111111,
             "#46039f"
            ],
            [
             0.2222222222222222,
             "#7201a8"
            ],
            [
             0.3333333333333333,
             "#9c179e"
            ],
            [
             0.4444444444444444,
             "#bd3786"
            ],
            [
             0.5555555555555556,
             "#d8576b"
            ],
            [
             0.6666666666666666,
             "#ed7953"
            ],
            [
             0.7777777777777778,
             "#fb9f3a"
            ],
            [
             0.8888888888888888,
             "#fdca26"
            ],
            [
             1,
             "#f0f921"
            ]
           ]
          },
          "colorway": [
           "#636efa",
           "#EF553B",
           "#00cc96",
           "#ab63fa",
           "#FFA15A",
           "#19d3f3",
           "#FF6692",
           "#B6E880",
           "#FF97FF",
           "#FECB52"
          ],
          "font": {
           "color": "#2a3f5f"
          },
          "geo": {
           "bgcolor": "white",
           "lakecolor": "white",
           "landcolor": "#E5ECF6",
           "showlakes": true,
           "showland": true,
           "subunitcolor": "white"
          },
          "hoverlabel": {
           "align": "left"
          },
          "hovermode": "closest",
          "mapbox": {
           "style": "light"
          },
          "paper_bgcolor": "white",
          "plot_bgcolor": "#E5ECF6",
          "polar": {
           "angularaxis": {
            "gridcolor": "white",
            "linecolor": "white",
            "ticks": ""
           },
           "bgcolor": "#E5ECF6",
           "radialaxis": {
            "gridcolor": "white",
            "linecolor": "white",
            "ticks": ""
           }
          },
          "scene": {
           "xaxis": {
            "backgroundcolor": "#E5ECF6",
            "gridcolor": "white",
            "gridwidth": 2,
            "linecolor": "white",
            "showbackground": true,
            "ticks": "",
            "zerolinecolor": "white"
           },
           "yaxis": {
            "backgroundcolor": "#E5ECF6",
            "gridcolor": "white",
            "gridwidth": 2,
            "linecolor": "white",
            "showbackground": true,
            "ticks": "",
            "zerolinecolor": "white"
           },
           "zaxis": {
            "backgroundcolor": "#E5ECF6",
            "gridcolor": "white",
            "gridwidth": 2,
            "linecolor": "white",
            "showbackground": true,
            "ticks": "",
            "zerolinecolor": "white"
           }
          },
          "shapedefaults": {
           "line": {
            "color": "#2a3f5f"
           }
          },
          "ternary": {
           "aaxis": {
            "gridcolor": "white",
            "linecolor": "white",
            "ticks": ""
           },
           "baxis": {
            "gridcolor": "white",
            "linecolor": "white",
            "ticks": ""
           },
           "bgcolor": "#E5ECF6",
           "caxis": {
            "gridcolor": "white",
            "linecolor": "white",
            "ticks": ""
           }
          },
          "title": {
           "x": 0.05
          },
          "xaxis": {
           "automargin": true,
           "gridcolor": "white",
           "linecolor": "white",
           "ticks": "",
           "title": {
            "standoff": 15
           },
           "zerolinecolor": "white",
           "zerolinewidth": 2
          },
          "yaxis": {
           "automargin": true,
           "gridcolor": "white",
           "linecolor": "white",
           "ticks": "",
           "title": {
            "standoff": 15
           },
           "zerolinecolor": "white",
           "zerolinewidth": 2
          }
         }
        },
        "title": {
         "text": "Precision-Recall Curve for best_11s_1024_dataO2_NoAug_b16.pt (labels_O2/)"
        },
        "xaxis": {
         "title": {
          "text": "Recall"
         }
        },
        "yaxis": {
         "title": {
          "text": "Precision"
         }
        }
       }
      }
     },
     "metadata": {},
     "output_type": "display_data"
    }
   ],
   "source": [
    "test_images_dir = \"images/\"\n",
    "test_labels_dirs = [\"Union_Labels/\",  \"labels_O1/\", \"labels_O2/\"\"Intersection_Labels/\", \"labels_O1/\", \"labels_O2/\"]\n",
    "model_names = [\"best_11s_1024_dataO2_NoAug_b16.pt\"]\n",
    "\n",
    "evaluate_all_models(model_names, test_images_dir, test_labels_dirs)"
   ]
  },
  {
   "cell_type": "code",
   "execution_count": null,
   "metadata": {},
   "outputs": [],
   "source": []
  }
 ],
 "metadata": {
  "kernelspec": {
   "display_name": "tf",
   "language": "python",
   "name": "python3"
  },
  "language_info": {
   "codemirror_mode": {
    "name": "ipython",
    "version": 3
   },
   "file_extension": ".py",
   "mimetype": "text/x-python",
   "name": "python",
   "nbconvert_exporter": "python",
   "pygments_lexer": "ipython3",
   "version": "3.12.3"
  }
 },
 "nbformat": 4,
 "nbformat_minor": 2
}
