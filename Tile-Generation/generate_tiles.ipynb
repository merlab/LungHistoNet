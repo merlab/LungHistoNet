{
 "cells": [
  {
   "cell_type": "markdown",
   "id": "43c236e5",
   "metadata": {},
   "source": [
    "# Libraries and Dependencies"
   ]
  },
  {
   "cell_type": "code",
   "execution_count": 1,
   "id": "ecfb58b6",
   "metadata": {},
   "outputs": [],
   "source": [
    "import os\n",
    "import random\n",
    "from concurrent.futures import ThreadPoolExecutor\n",
    "\n",
    "import cv2 as cv\n",
    "import numpy as np\n",
    "import pyvips\n",
    "import matplotlib.pyplot as plt\n",
    "import plotly.express as px\n",
    "from tqdm import tqdm"
   ]
  },
  {
   "cell_type": "markdown",
   "id": "e3fe495d",
   "metadata": {},
   "source": [
    "# Utilities and Helper functions"
   ]
  },
  {
   "cell_type": "code",
   "execution_count": 2,
   "id": "ad093a83",
   "metadata": {},
   "outputs": [],
   "source": [
    "def highest_divisor(n):\n",
    "    if n <= 1:\n",
    "        return None  \n",
    "    \n",
    "    for i in range(int(n**0.5), 0, -1):\n",
    "        if n % i == 0:\n",
    "            return n // i if n // i != n else i"
   ]
  },
  {
   "cell_type": "code",
   "execution_count": 3,
   "id": "fb7f7176",
   "metadata": {},
   "outputs": [],
   "source": [
    "def apply_gamma_correction(img, gamma):\n",
    "  lookUpTable = np.empty((1,256), np.uint8)\n",
    "  for i in range(256):\n",
    "      lookUpTable[0,i] = np.clip(pow(i / 255.0, gamma) * 255.0, 0, 255)\n",
    "  return cv.LUT(img, lookUpTable)"
   ]
  },
  {
   "cell_type": "code",
   "execution_count": 4,
   "id": "20ecd2b7",
   "metadata": {},
   "outputs": [],
   "source": [
    "def pyvips_to_numpy(vips_image):\n",
    "    return np.ndarray(buffer=vips_image.write_to_memory(),\n",
    "                      dtype=np.uint8,\n",
    "                      shape=[vips_image.height, vips_image.width, vips_image.bands])"
   ]
  },
  {
   "cell_type": "code",
   "execution_count": 5,
   "id": "403b8311",
   "metadata": {},
   "outputs": [],
   "source": [
    "def process_tile(slide, width, height, x, y, patch_size_w, patch_size_h, lower_bnd_intensity, upper_bnd_intensity, fdir):\n",
    "    patch_coordinates = []\n",
    "    actual_patch_w = min(patch_size_w, width - x)\n",
    "    actual_patch_h = min(patch_size_h, height - y)\n",
    "    \n",
    "    patch_coordinates.append((x, y, actual_patch_w, actual_patch_h))\n",
    "    \n",
    "    tile = slide.crop(x, y, actual_patch_w, actual_patch_h)\n",
    "\n",
    "    tile_array = pyvips_to_numpy(tile)\n",
    "\n",
    "    mean_value = np.mean(tile_array)\n",
    "\n",
    "    if lower_bnd_intensity < mean_value <= upper_bnd_intensity:\n",
    "        return None\n",
    "    \n",
    "    output_filename = f\"{fdir}/tile_{x}_{y}.jpg\"\n",
    "    coordinates = x, y, x + patch_size_w, y + patch_size_h\n",
    "    tile.write_to_file(output_filename)\n",
    "    \n",
    "    return output_filename"
   ]
  },
  {
   "cell_type": "markdown",
   "id": "4583a727",
   "metadata": {},
   "source": [
    "## The following tile generator function gets some inputs:\n",
    "-   Image file path\n",
    "-   Patch type (square, rectangle, or fixed):\n",
    "    -   if fixed, fixed patch width:\n",
    "    -   if fixed, fixed patch height:\n",
    "-   Number of random tiles to generate:\n",
    "-   Lower intensity bound\n",
    "-   Upper intensity bound"
   ]
  },
  {
   "cell_type": "code",
   "execution_count": 68,
   "id": "443bb6d5",
   "metadata": {},
   "outputs": [],
   "source": [
    "def generate_random_tiles():\n",
    "    image_path = os.path.expanduser(input(\"Enter the image file path: \"))\n",
    "    slide = pyvips.Image.new_from_file(image_path)\n",
    "    width = slide.width\n",
    "    height = slide.height\n",
    "    \n",
    "    patch_type = input(\"Enter patch type (square, rectangle, or fixed): \")\n",
    "\n",
    "    fixed_w, fixed_h = None, None\n",
    "    min_size, max_size = None, None\n",
    "\n",
    "    if patch_type == \"fixed\":\n",
    "        fixed_w = int(input(\"Enter fixed patch width: \"))\n",
    "        fixed_h = int(input(\"Enter fixed patch height: \"))\n",
    "        fdir = \"Tile\" + str(fixed_h) + str(fixed_w) + \"_\" + image_path[-6:-5]\n",
    "    else:\n",
    "        min_size = int(input(\"Enter the lower bound for patch size: \"))\n",
    "        max_size = int(input(\"Enter the upper bound for patch size: \"))\n",
    "        fdir = \"Tile_\" + str(min_size) +  \"_\" + str(max_size) + \"_\" + image_path[-6:-5]\n",
    "\n",
    "    os.mkdir(fdir)\n",
    "    num_tiles = int(input(\"Enter the number of random tiles to generate: \"))\n",
    "    lower_bnd_intensity = int(input(\"Enter the lower intensity bound: \"))\n",
    "    upper_bnd_intensity = int(input(\"Enter the upper intensity bound: \"))\n",
    "\n",
    "    # Use ThreadPoolExecutor for parallel processing\n",
    "    with ThreadPoolExecutor() as executor:\n",
    "        futures = []\n",
    "        \n",
    "        for _ in range(num_tiles):\n",
    "            x = random.randint(0, width - 800) \n",
    "            y = random.randint(0, height - 800)\n",
    "            \n",
    "            if patch_type == \"square\":\n",
    "                patch_size_w = patch_size_h = random.randint(min_size, max_size)\n",
    "                \n",
    "            elif patch_type == \"rectangle\":\n",
    "                patch_size_w = random.randint(min_size, max_size)\n",
    "                patch_size_h = random.randint(min_size, max_size)\n",
    "                \n",
    "            elif patch_type == \"fixed\":\n",
    "                patch_size_w = fixed_w\n",
    "                patch_size_h = fixed_h\n",
    "                \n",
    "            else:\n",
    "                raise ValueError(f\"Unknown patch type: {patch_type}\")\n",
    "            \n",
    "            futures.append(executor.submit(process_tile, slide, width, height, x, y, patch_size_w, patch_size_h, lower_bnd_intensity, upper_bnd_intensity, fdir))\n",
    "\n",
    "        # Wait for all tasks to complete\n",
    "        for future in futures:\n",
    "            result = future.result()\n",
    "            if result:\n",
    "                print(f\"Saved: {result}\")"
   ]
  },
  {
   "cell_type": "code",
   "execution_count": 69,
   "id": "a336676f",
   "metadata": {},
   "outputs": [
    {
     "name": "stdout",
     "output_type": "stream",
     "text": [
      "Saved: Tile_150_900_1/tile_36563_141653.jpg\n",
      "Saved: Tile_150_900_1/tile_25265_82575.jpg\n",
      "Saved: Tile_150_900_1/tile_50547_166788.jpg\n",
      "Saved: Tile_150_900_1/tile_28682_56372.jpg\n",
      "Saved: Tile_150_900_1/tile_42992_139381.jpg\n",
      "Saved: Tile_150_900_1/tile_39844_167987.jpg\n",
      "Saved: Tile_150_900_1/tile_48274_144619.jpg\n"
     ]
    }
   ],
   "source": [
    "generate_random_tiles()\n",
    "# Enter the image file path:  ../../Data/ALI surgical/ALI surgical w catheter m #1.mrxs\n",
    "# Enter patch type (square, rectangle, or fixed):  fixed\n",
    "# Enter fixed patch width:  3000\n",
    "# Enter fixed patch height:  1000\n",
    "# Enter the number of random tiles to generate:  200\n",
    "# Enter the lower intensity bound:  248\n",
    "# Enter the upper intensity bound:  255"
   ]
  },
  {
   "cell_type": "markdown",
   "id": "f51e7b4b",
   "metadata": {},
   "source": [
    "# This version generates fixed tiles from slides by sliding the tile window throughout the entire slide.\n",
    "\n",
    "\n",
    "\n",
    "\n",
    "\n",
    "-   Parallel execution of the code using 'ThreadPoolExecutor' and using maximum core"
   ]
  },
  {
   "cell_type": "code",
   "execution_count": 11,
   "id": "c301b76e",
   "metadata": {},
   "outputs": [],
   "source": [
    "def process_tile_2(x, y, patch_size_w, patch_size_h, lower_bnd_intensity, upper_bnd_intensity, file_path, output_dir):\n",
    "    patch_coordinates = []\n",
    "    # Calculate the actual patch size (to handle edges)\n",
    "    actual_patch_w = min(patch_size_w, width - x)\n",
    "    actual_patch_h = min(patch_size_h, height - y)\n",
    "    \n",
    "    patch_coordinates.append((x, y, actual_patch_w, actual_patch_h))\n",
    "    \n",
    "    # Crop the tile\n",
    "    tile = slide.crop(x, y, actual_patch_w, actual_patch_h)\n",
    "\n",
    "    # Convert tile to NumPy array\n",
    "    tile_array = pyvips_to_numpy(tile)\n",
    "\n",
    "    # Calculate the mean using NumPy\n",
    "    mean_value = np.mean(tile_array)\n",
    "\n",
    "    # Skip if the mean is within the range to be ignored\n",
    "    if lower_bnd_intensity < mean_value <= upper_bnd_intensity:\n",
    "        return None\n",
    "    \n",
    "    # Write the tile to a file only if necessary\n",
    "    output_filename = os.path.expanduser(f\"{output_dir}/tile_{x}_{y}.png\")\n",
    "    coordinates = x, y, x + patch_size_w, y + patch_size_h\n",
    "    tile.pngsave(output_filename, compression=9)\n",
    "    \n",
    "    return output_filename\n",
    "\n"
   ]
  },
  {
   "cell_type": "code",
   "execution_count": 12,
   "id": "ddbb022a",
   "metadata": {},
   "outputs": [],
   "source": [
    "def generate_tiles(patch_size_w, patch_size_h, lower_bnd_intensity, upper_bnd_intensity, file_path,output_dir):\n",
    "    # Use ThreadPoolExecutor for parallel processing\n",
    "    with ThreadPoolExecutor() as executor:\n",
    "        futures = []\n",
    "        for y in range(0, height, patch_size_h):\n",
    "            for x in range(0, width, patch_size_w):\n",
    "                futures.append(executor.submit(process_tile_2, x, y, patch_size_w, patch_size_h, lower_bnd_intensity, upper_bnd_intensity, file_path,output_dir))\n",
    "\n",
    "        # Wait for all tasks to complete\n",
    "        for future in futures:\n",
    "            result = future.result()"
   ]
  },
  {
   "cell_type": "code",
   "execution_count": null,
   "id": "a8386cf1",
   "metadata": {},
   "outputs": [],
   "source": []
  },
  {
   "cell_type": "code",
   "execution_count": 13,
   "id": "9b775de9",
   "metadata": {},
   "outputs": [
    {
     "name": "stderr",
     "output_type": "stream",
     "text": [
      "Generating Tiles .mrxs files:   0%|          | 0/10 [00:26<?, ?it/s]\n"
     ]
    },
    {
     "ename": "KeyboardInterrupt",
     "evalue": "",
     "output_type": "error",
     "traceback": [
      "\u001b[0;31m---------------------------------------------------------------------------\u001b[0m",
      "\u001b[0;31mKeyboardInterrupt\u001b[0m                         Traceback (most recent call last)",
      "Cell \u001b[0;32mIn[12], line 11\u001b[0m, in \u001b[0;36mgenerate_tiles\u001b[0;34m(patch_size_w, patch_size_h, lower_bnd_intensity, upper_bnd_intensity, file_path, output_dir)\u001b[0m\n\u001b[1;32m     10\u001b[0m \u001b[38;5;28;01mfor\u001b[39;00m future \u001b[38;5;129;01min\u001b[39;00m futures:\n\u001b[0;32m---> 11\u001b[0m     result \u001b[38;5;241m=\u001b[39m future\u001b[38;5;241m.\u001b[39mresult()\n",
      "File \u001b[0;32m~/anaconda3/envs/tf/lib/python3.12/concurrent/futures/_base.py:451\u001b[0m, in \u001b[0;36mFuture.result\u001b[0;34m(self, timeout)\u001b[0m\n\u001b[1;32m    449\u001b[0m     \u001b[38;5;28;01mreturn\u001b[39;00m \u001b[38;5;28mself\u001b[39m\u001b[38;5;241m.\u001b[39m__get_result()\n\u001b[0;32m--> 451\u001b[0m \u001b[38;5;28mself\u001b[39m\u001b[38;5;241m.\u001b[39m_condition\u001b[38;5;241m.\u001b[39mwait(timeout)\n\u001b[1;32m    453\u001b[0m \u001b[38;5;28;01mif\u001b[39;00m \u001b[38;5;28mself\u001b[39m\u001b[38;5;241m.\u001b[39m_state \u001b[38;5;129;01min\u001b[39;00m [CANCELLED, CANCELLED_AND_NOTIFIED]:\n",
      "File \u001b[0;32m~/anaconda3/envs/tf/lib/python3.12/threading.py:355\u001b[0m, in \u001b[0;36mCondition.wait\u001b[0;34m(self, timeout)\u001b[0m\n\u001b[1;32m    354\u001b[0m \u001b[38;5;28;01mif\u001b[39;00m timeout \u001b[38;5;129;01mis\u001b[39;00m \u001b[38;5;28;01mNone\u001b[39;00m:\n\u001b[0;32m--> 355\u001b[0m     waiter\u001b[38;5;241m.\u001b[39macquire()\n\u001b[1;32m    356\u001b[0m     gotit \u001b[38;5;241m=\u001b[39m \u001b[38;5;28;01mTrue\u001b[39;00m\n",
      "\u001b[0;31mKeyboardInterrupt\u001b[0m: ",
      "\nDuring handling of the above exception, another exception occurred:\n",
      "\u001b[0;31mKeyboardInterrupt\u001b[0m                         Traceback (most recent call last)",
      "Cell \u001b[0;32mIn[13], line 15\u001b[0m\n\u001b[1;32m     12\u001b[0m width \u001b[38;5;241m=\u001b[39m slide\u001b[38;5;241m.\u001b[39mwidth\n\u001b[1;32m     13\u001b[0m height \u001b[38;5;241m=\u001b[39m slide\u001b[38;5;241m.\u001b[39mheight\n\u001b[0;32m---> 15\u001b[0m generate_tiles(\n\u001b[1;32m     16\u001b[0m     patch_size_w\u001b[38;5;241m=\u001b[39mpatch_size_w,\n\u001b[1;32m     17\u001b[0m     patch_size_h\u001b[38;5;241m=\u001b[39mpatch_size_h,\n\u001b[1;32m     18\u001b[0m     lower_bnd_intensity\u001b[38;5;241m=\u001b[39m\u001b[38;5;241m240\u001b[39m,\n\u001b[1;32m     19\u001b[0m     upper_bnd_intensity\u001b[38;5;241m=\u001b[39m\u001b[38;5;241m255\u001b[39m,\n\u001b[1;32m     20\u001b[0m     file_path\u001b[38;5;241m=\u001b[39mfull_path,\n\u001b[1;32m     21\u001b[0m     output_dir\u001b[38;5;241m=\u001b[39moutput_dir\n\u001b[1;32m     22\u001b[0m )\n",
      "Cell \u001b[0;32mIn[12], line 3\u001b[0m, in \u001b[0;36mgenerate_tiles\u001b[0;34m(patch_size_w, patch_size_h, lower_bnd_intensity, upper_bnd_intensity, file_path, output_dir)\u001b[0m\n\u001b[1;32m      1\u001b[0m \u001b[38;5;28;01mdef\u001b[39;00m \u001b[38;5;21mgenerate_tiles\u001b[39m(patch_size_w, patch_size_h, lower_bnd_intensity, upper_bnd_intensity, file_path,output_dir):\n\u001b[1;32m      2\u001b[0m     \u001b[38;5;66;03m# Use ThreadPoolExecutor for parallel processing\u001b[39;00m\n\u001b[0;32m----> 3\u001b[0m     \u001b[38;5;28;01mwith\u001b[39;00m ThreadPoolExecutor() \u001b[38;5;28;01mas\u001b[39;00m executor:\n\u001b[1;32m      4\u001b[0m         futures \u001b[38;5;241m=\u001b[39m []\n\u001b[1;32m      5\u001b[0m         \u001b[38;5;28;01mfor\u001b[39;00m y \u001b[38;5;129;01min\u001b[39;00m \u001b[38;5;28mrange\u001b[39m(\u001b[38;5;241m0\u001b[39m, height, patch_size_h):\n",
      "File \u001b[0;32m~/anaconda3/envs/tf/lib/python3.12/concurrent/futures/_base.py:647\u001b[0m, in \u001b[0;36mExecutor.__exit__\u001b[0;34m(self, exc_type, exc_val, exc_tb)\u001b[0m\n\u001b[1;32m    646\u001b[0m \u001b[38;5;28;01mdef\u001b[39;00m \u001b[38;5;21m__exit__\u001b[39m(\u001b[38;5;28mself\u001b[39m, exc_type, exc_val, exc_tb):\n\u001b[0;32m--> 647\u001b[0m     \u001b[38;5;28mself\u001b[39m\u001b[38;5;241m.\u001b[39mshutdown(wait\u001b[38;5;241m=\u001b[39m\u001b[38;5;28;01mTrue\u001b[39;00m)\n\u001b[1;32m    648\u001b[0m     \u001b[38;5;28;01mreturn\u001b[39;00m \u001b[38;5;28;01mFalse\u001b[39;00m\n",
      "File \u001b[0;32m~/anaconda3/envs/tf/lib/python3.12/concurrent/futures/thread.py:238\u001b[0m, in \u001b[0;36mThreadPoolExecutor.shutdown\u001b[0;34m(self, wait, cancel_futures)\u001b[0m\n\u001b[1;32m    236\u001b[0m \u001b[38;5;28;01mif\u001b[39;00m wait:\n\u001b[1;32m    237\u001b[0m     \u001b[38;5;28;01mfor\u001b[39;00m t \u001b[38;5;129;01min\u001b[39;00m \u001b[38;5;28mself\u001b[39m\u001b[38;5;241m.\u001b[39m_threads:\n\u001b[0;32m--> 238\u001b[0m         t\u001b[38;5;241m.\u001b[39mjoin()\n",
      "File \u001b[0;32m~/anaconda3/envs/tf/lib/python3.12/threading.py:1147\u001b[0m, in \u001b[0;36mThread.join\u001b[0;34m(self, timeout)\u001b[0m\n\u001b[1;32m   1144\u001b[0m     \u001b[38;5;28;01mraise\u001b[39;00m \u001b[38;5;167;01mRuntimeError\u001b[39;00m(\u001b[38;5;124m\"\u001b[39m\u001b[38;5;124mcannot join current thread\u001b[39m\u001b[38;5;124m\"\u001b[39m)\n\u001b[1;32m   1146\u001b[0m \u001b[38;5;28;01mif\u001b[39;00m timeout \u001b[38;5;129;01mis\u001b[39;00m \u001b[38;5;28;01mNone\u001b[39;00m:\n\u001b[0;32m-> 1147\u001b[0m     \u001b[38;5;28mself\u001b[39m\u001b[38;5;241m.\u001b[39m_wait_for_tstate_lock()\n\u001b[1;32m   1148\u001b[0m \u001b[38;5;28;01melse\u001b[39;00m:\n\u001b[1;32m   1149\u001b[0m     \u001b[38;5;66;03m# the behavior of a negative timeout isn't documented, but\u001b[39;00m\n\u001b[1;32m   1150\u001b[0m     \u001b[38;5;66;03m# historically .join(timeout=x) for x<0 has acted as if timeout=0\u001b[39;00m\n\u001b[1;32m   1151\u001b[0m     \u001b[38;5;28mself\u001b[39m\u001b[38;5;241m.\u001b[39m_wait_for_tstate_lock(timeout\u001b[38;5;241m=\u001b[39m\u001b[38;5;28mmax\u001b[39m(timeout, \u001b[38;5;241m0\u001b[39m))\n",
      "File \u001b[0;32m~/anaconda3/envs/tf/lib/python3.12/threading.py:1167\u001b[0m, in \u001b[0;36mThread._wait_for_tstate_lock\u001b[0;34m(self, block, timeout)\u001b[0m\n\u001b[1;32m   1164\u001b[0m     \u001b[38;5;28;01mreturn\u001b[39;00m\n\u001b[1;32m   1166\u001b[0m \u001b[38;5;28;01mtry\u001b[39;00m:\n\u001b[0;32m-> 1167\u001b[0m     \u001b[38;5;28;01mif\u001b[39;00m lock\u001b[38;5;241m.\u001b[39macquire(block, timeout):\n\u001b[1;32m   1168\u001b[0m         lock\u001b[38;5;241m.\u001b[39mrelease()\n\u001b[1;32m   1169\u001b[0m         \u001b[38;5;28mself\u001b[39m\u001b[38;5;241m.\u001b[39m_stop()\n",
      "\u001b[0;31mKeyboardInterrupt\u001b[0m: "
     ]
    }
   ],
   "source": [
    "patch_size_w = 1637\n",
    "patch_size_h = 1018\n",
    "\n",
    "base_slide_path = os.path.expanduser(f\"~/Documents/Data/ALI surgical/Injured Slides/\")\n",
    "files = [file for file in os.listdir(base_slide_path) if file.endswith(\".mrxs\")]\n",
    "\n",
    "for file in tqdm(files, desc=\"Generating Tiles .mrxs files\"):\n",
    "    full_path = os.path.join(base_slide_path, file)\n",
    "    output_dir = os.path.expanduser(f\"~/Documents/Code/Lung_Injury/Tiles_{patch_size_h}_{patch_size_w}_{file}\")\n",
    "    os.makedirs(output_dir, exist_ok=True) \n",
    "    slide = pyvips.Image.new_from_file(full_path)\n",
    "    width = slide.width\n",
    "    height = slide.height\n",
    "\n",
    "    generate_tiles(\n",
    "        patch_size_w=patch_size_w,\n",
    "        patch_size_h=patch_size_h,\n",
    "        lower_bnd_intensity=240,\n",
    "        upper_bnd_intensity=255,\n",
    "        file_path=full_path,\n",
    "        output_dir=output_dir\n",
    "    )"
   ]
  }
 ],
 "metadata": {
  "kernelspec": {
   "display_name": "tf",
   "language": "python",
   "name": "python3"
  },
  "language_info": {
   "codemirror_mode": {
    "name": "ipython",
    "version": 3
   },
   "file_extension": ".py",
   "mimetype": "text/x-python",
   "name": "python",
   "nbconvert_exporter": "python",
   "pygments_lexer": "ipython3",
   "version": "3.12.2"
  }
 },
 "nbformat": 4,
 "nbformat_minor": 5
}
